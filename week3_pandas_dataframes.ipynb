{
  "nbformat": 4,
  "nbformat_minor": 0,
  "metadata": {
    "colab": {
      "name": "week3-pandas_dataframes.ipynb",
      "provenance": [],
      "authorship_tag": "ABX9TyMUgehkzsq72jrKLOrLKF+E",
      "include_colab_link": true
    },
    "kernelspec": {
      "name": "python3",
      "display_name": "Python 3"
    },
    "language_info": {
      "name": "python"
    }
  },
  "cells": [
    {
      "cell_type": "markdown",
      "metadata": {
        "id": "view-in-github",
        "colab_type": "text"
      },
      "source": [
        "<a href=\"https://colab.research.google.com/github/CBIIT/python-carpentry-workshop/blob/main/week3_pandas_dataframes.ipynb\" target=\"_parent\"><img src=\"https://colab.research.google.com/assets/colab-badge.svg\" alt=\"Open In Colab\"/></a>"
      ]
    },
    {
      "cell_type": "markdown",
      "source": [
        "# Pandas DataFrames"
      ],
      "metadata": {
        "id": "32XZln0vfxWw"
      }
    },
    {
      "cell_type": "markdown",
      "source": [
        "## Note about Pandas DataFrames/Series"
      ],
      "metadata": {
        "id": "mEH3FbU8gBo7"
      }
    },
    {
      "cell_type": "markdown",
      "source": [
        "A DataFrame is a collection of Series; The DataFrame is the way Pandas represents a table, and Series is the data-structure Pandas use to represent a column.\n",
        "\n",
        "Pandas is built on top of the Numpy library, which in practice means that most of the methods defined for Numpy Arrays apply to Pandas Series/DataFrames.\n",
        "\n",
        "What makes Pandas so attractive is the powerful interface to access individual records of the table, proper handling of missing values, and relational-databases operations between DataFrames.\n",
        "\n"
      ],
      "metadata": {
        "id": "IDd_c6vXGP6b"
      }
    },
    {
      "cell_type": "markdown",
      "source": [
        "## Selecting values - Use `DataFrame.iloc[..., ...]` to select values by their (entry) position\n"
      ],
      "metadata": {
        "id": "-SpsYWaWgEad"
      }
    },
    {
      "cell_type": "code",
      "source": [
        "import pandas as pd\n",
        "data = pd.read_csv('https://raw.githubusercontent.com/swcarpentry/python-novice-plotting-ARCHIVED/gh-pages/data/gapminder_gdp_europe.csv', index_col='country')"
      ],
      "metadata": {
        "id": "wTZVDLxzrHp7"
      },
      "execution_count": 2,
      "outputs": []
    },
    {
      "cell_type": "code",
      "source": [
        "data.iloc[0,0]"
      ],
      "metadata": {
        "colab": {
          "base_uri": "https://localhost:8080/"
        },
        "id": "Ez7ZI9QJsIcD",
        "outputId": "9da3b395-19ee-4440-f312-c8e6213c7bfd"
      },
      "execution_count": 3,
      "outputs": [
        {
          "output_type": "execute_result",
          "data": {
            "text/plain": [
              "1601.056136"
            ]
          },
          "metadata": {},
          "execution_count": 3
        }
      ]
    },
    {
      "cell_type": "markdown",
      "source": [
        "## Selecting values - Use `DataFrame.loc[..., ...]` to select values by their (entry) label"
      ],
      "metadata": {
        "id": "IXnr2sawgTPU"
      }
    },
    {
      "cell_type": "code",
      "source": [
        "data.loc[\"Albania\",\"gdpPercap_1952\"]"
      ],
      "metadata": {
        "colab": {
          "base_uri": "https://localhost:8080/"
        },
        "id": "HgO5zwOCswj8",
        "outputId": "67184bc3-a92c-4d2e-aefa-4a15091634d3"
      },
      "execution_count": 5,
      "outputs": [
        {
          "output_type": "execute_result",
          "data": {
            "text/plain": [
              "1601.056136"
            ]
          },
          "metadata": {},
          "execution_count": 5
        }
      ]
    },
    {
      "cell_type": "markdown",
      "source": [
        "## Selecting values - Use `:` on its own to mean all columns or all rows."
      ],
      "metadata": {
        "id": "NeqMSoT5gc6y"
      }
    },
    {
      "cell_type": "code",
      "source": [
        "data.loc[\"Albania\", :]"
      ],
      "metadata": {
        "colab": {
          "base_uri": "https://localhost:8080/"
        },
        "id": "H6aUyAfOtR3U",
        "outputId": "1593476b-a63f-4a1a-96c5-433a167d27dc"
      },
      "execution_count": 6,
      "outputs": [
        {
          "output_type": "execute_result",
          "data": {
            "text/plain": [
              "gdpPercap_1952    1601.056136\n",
              "gdpPercap_1957    1942.284244\n",
              "gdpPercap_1962    2312.888958\n",
              "gdpPercap_1967    2760.196931\n",
              "gdpPercap_1972    3313.422188\n",
              "gdpPercap_1977    3533.003910\n",
              "gdpPercap_1982    3630.880722\n",
              "gdpPercap_1987    3738.932735\n",
              "gdpPercap_1992    2497.437901\n",
              "gdpPercap_1997    3193.054604\n",
              "gdpPercap_2002    4604.211737\n",
              "gdpPercap_2007    5937.029526\n",
              "Name: Albania, dtype: float64"
            ]
          },
          "metadata": {},
          "execution_count": 6
        }
      ]
    },
    {
      "cell_type": "code",
      "source": [
        "data.loc[:, \"gdpPercap_1952\"]"
      ],
      "metadata": {
        "colab": {
          "base_uri": "https://localhost:8080/"
        },
        "id": "Q_sf2MGRttEF",
        "outputId": "54a29dd8-654c-4d6a-ce86-591f83643e22"
      },
      "execution_count": 7,
      "outputs": [
        {
          "output_type": "execute_result",
          "data": {
            "text/plain": [
              "country\n",
              "Albania                    1601.056136\n",
              "Austria                    6137.076492\n",
              "Belgium                    8343.105127\n",
              "Bosnia and Herzegovina      973.533195\n",
              "Bulgaria                   2444.286648\n",
              "Croatia                    3119.236520\n",
              "Czech Republic             6876.140250\n",
              "Denmark                    9692.385245\n",
              "Finland                    6424.519071\n",
              "France                     7029.809327\n",
              "Germany                    7144.114393\n",
              "Greece                     3530.690067\n",
              "Hungary                    5263.673816\n",
              "Iceland                    7267.688428\n",
              "Ireland                    5210.280328\n",
              "Italy                      4931.404155\n",
              "Montenegro                 2647.585601\n",
              "Netherlands                8941.571858\n",
              "Norway                    10095.421720\n",
              "Poland                     4029.329699\n",
              "Portugal                   3068.319867\n",
              "Romania                    3144.613186\n",
              "Serbia                     3581.459448\n",
              "Slovak Republic            5074.659104\n",
              "Slovenia                   4215.041741\n",
              "Spain                      3834.034742\n",
              "Sweden                     8527.844662\n",
              "Switzerland               14734.232750\n",
              "Turkey                     1969.100980\n",
              "United Kingdom             9979.508487\n",
              "Name: gdpPercap_1952, dtype: float64"
            ]
          },
          "metadata": {},
          "execution_count": 7
        }
      ]
    },
    {
      "cell_type": "markdown",
      "source": [
        "## Select multiple columns or rows using 'DataFrame.loc' and a named slice"
      ],
      "metadata": {
        "id": "NMk05AUug2ch"
      }
    },
    {
      "cell_type": "code",
      "source": [
        "data.loc['Italy':'Poland','gdpPercap_1962':'gdpPercap_1972']"
      ],
      "metadata": {
        "colab": {
          "base_uri": "https://localhost:8080/",
          "height": 237
        },
        "id": "V-JWMleLuA8C",
        "outputId": "938f573a-6a15-4587-fef7-27c86554ed95"
      },
      "execution_count": 8,
      "outputs": [
        {
          "output_type": "execute_result",
          "data": {
            "text/plain": [
              "             gdpPercap_1962  gdpPercap_1967  gdpPercap_1972\n",
              "country                                                    \n",
              "Italy           8243.582340    10022.401310    12269.273780\n",
              "Montenegro      4649.593785     5907.850937     7778.414017\n",
              "Netherlands    12790.849560    15363.251360    18794.745670\n",
              "Norway         13450.401510    16361.876470    18965.055510\n",
              "Poland          5338.752143     6557.152776     8006.506993"
            ],
            "text/html": [
              "\n",
              "  <div id=\"df-9a989733-2478-43e1-90ba-7154061e94cc\">\n",
              "    <div class=\"colab-df-container\">\n",
              "      <div>\n",
              "<style scoped>\n",
              "    .dataframe tbody tr th:only-of-type {\n",
              "        vertical-align: middle;\n",
              "    }\n",
              "\n",
              "    .dataframe tbody tr th {\n",
              "        vertical-align: top;\n",
              "    }\n",
              "\n",
              "    .dataframe thead th {\n",
              "        text-align: right;\n",
              "    }\n",
              "</style>\n",
              "<table border=\"1\" class=\"dataframe\">\n",
              "  <thead>\n",
              "    <tr style=\"text-align: right;\">\n",
              "      <th></th>\n",
              "      <th>gdpPercap_1962</th>\n",
              "      <th>gdpPercap_1967</th>\n",
              "      <th>gdpPercap_1972</th>\n",
              "    </tr>\n",
              "    <tr>\n",
              "      <th>country</th>\n",
              "      <th></th>\n",
              "      <th></th>\n",
              "      <th></th>\n",
              "    </tr>\n",
              "  </thead>\n",
              "  <tbody>\n",
              "    <tr>\n",
              "      <th>Italy</th>\n",
              "      <td>8243.582340</td>\n",
              "      <td>10022.401310</td>\n",
              "      <td>12269.273780</td>\n",
              "    </tr>\n",
              "    <tr>\n",
              "      <th>Montenegro</th>\n",
              "      <td>4649.593785</td>\n",
              "      <td>5907.850937</td>\n",
              "      <td>7778.414017</td>\n",
              "    </tr>\n",
              "    <tr>\n",
              "      <th>Netherlands</th>\n",
              "      <td>12790.849560</td>\n",
              "      <td>15363.251360</td>\n",
              "      <td>18794.745670</td>\n",
              "    </tr>\n",
              "    <tr>\n",
              "      <th>Norway</th>\n",
              "      <td>13450.401510</td>\n",
              "      <td>16361.876470</td>\n",
              "      <td>18965.055510</td>\n",
              "    </tr>\n",
              "    <tr>\n",
              "      <th>Poland</th>\n",
              "      <td>5338.752143</td>\n",
              "      <td>6557.152776</td>\n",
              "      <td>8006.506993</td>\n",
              "    </tr>\n",
              "  </tbody>\n",
              "</table>\n",
              "</div>\n",
              "      <button class=\"colab-df-convert\" onclick=\"convertToInteractive('df-9a989733-2478-43e1-90ba-7154061e94cc')\"\n",
              "              title=\"Convert this dataframe to an interactive table.\"\n",
              "              style=\"display:none;\">\n",
              "        \n",
              "  <svg xmlns=\"http://www.w3.org/2000/svg\" height=\"24px\"viewBox=\"0 0 24 24\"\n",
              "       width=\"24px\">\n",
              "    <path d=\"M0 0h24v24H0V0z\" fill=\"none\"/>\n",
              "    <path d=\"M18.56 5.44l.94 2.06.94-2.06 2.06-.94-2.06-.94-.94-2.06-.94 2.06-2.06.94zm-11 1L8.5 8.5l.94-2.06 2.06-.94-2.06-.94L8.5 2.5l-.94 2.06-2.06.94zm10 10l.94 2.06.94-2.06 2.06-.94-2.06-.94-.94-2.06-.94 2.06-2.06.94z\"/><path d=\"M17.41 7.96l-1.37-1.37c-.4-.4-.92-.59-1.43-.59-.52 0-1.04.2-1.43.59L10.3 9.45l-7.72 7.72c-.78.78-.78 2.05 0 2.83L4 21.41c.39.39.9.59 1.41.59.51 0 1.02-.2 1.41-.59l7.78-7.78 2.81-2.81c.8-.78.8-2.07 0-2.86zM5.41 20L4 18.59l7.72-7.72 1.47 1.35L5.41 20z\"/>\n",
              "  </svg>\n",
              "      </button>\n",
              "      \n",
              "  <style>\n",
              "    .colab-df-container {\n",
              "      display:flex;\n",
              "      flex-wrap:wrap;\n",
              "      gap: 12px;\n",
              "    }\n",
              "\n",
              "    .colab-df-convert {\n",
              "      background-color: #E8F0FE;\n",
              "      border: none;\n",
              "      border-radius: 50%;\n",
              "      cursor: pointer;\n",
              "      display: none;\n",
              "      fill: #1967D2;\n",
              "      height: 32px;\n",
              "      padding: 0 0 0 0;\n",
              "      width: 32px;\n",
              "    }\n",
              "\n",
              "    .colab-df-convert:hover {\n",
              "      background-color: #E2EBFA;\n",
              "      box-shadow: 0px 1px 2px rgba(60, 64, 67, 0.3), 0px 1px 3px 1px rgba(60, 64, 67, 0.15);\n",
              "      fill: #174EA6;\n",
              "    }\n",
              "\n",
              "    [theme=dark] .colab-df-convert {\n",
              "      background-color: #3B4455;\n",
              "      fill: #D2E3FC;\n",
              "    }\n",
              "\n",
              "    [theme=dark] .colab-df-convert:hover {\n",
              "      background-color: #434B5C;\n",
              "      box-shadow: 0px 1px 3px 1px rgba(0, 0, 0, 0.15);\n",
              "      filter: drop-shadow(0px 1px 2px rgba(0, 0, 0, 0.3));\n",
              "      fill: #FFFFFF;\n",
              "    }\n",
              "  </style>\n",
              "\n",
              "      <script>\n",
              "        const buttonEl =\n",
              "          document.querySelector('#df-9a989733-2478-43e1-90ba-7154061e94cc button.colab-df-convert');\n",
              "        buttonEl.style.display =\n",
              "          google.colab.kernel.accessAllowed ? 'block' : 'none';\n",
              "\n",
              "        async function convertToInteractive(key) {\n",
              "          const element = document.querySelector('#df-9a989733-2478-43e1-90ba-7154061e94cc');\n",
              "          const dataTable =\n",
              "            await google.colab.kernel.invokeFunction('convertToInteractive',\n",
              "                                                     [key], {});\n",
              "          if (!dataTable) return;\n",
              "\n",
              "          const docLinkHtml = 'Like what you see? Visit the ' +\n",
              "            '<a target=\"_blank\" href=https://colab.research.google.com/notebooks/data_table.ipynb>data table notebook</a>'\n",
              "            + ' to learn more about interactive tables.';\n",
              "          element.innerHTML = '';\n",
              "          dataTable['output_type'] = 'display_data';\n",
              "          await google.colab.output.renderOutput(dataTable, element);\n",
              "          const docLink = document.createElement('div');\n",
              "          docLink.innerHTML = docLinkHtml;\n",
              "          element.appendChild(docLink);\n",
              "        }\n",
              "      </script>\n",
              "    </div>\n",
              "  </div>\n",
              "  "
            ]
          },
          "metadata": {},
          "execution_count": 8
        }
      ]
    },
    {
      "cell_type": "markdown",
      "source": [
        "## Result of slicing can be used in further operations"
      ],
      "metadata": {
        "id": "sKMG2xlgg87s"
      }
    },
    {
      "cell_type": "code",
      "source": [
        "data.loc['Italy':'Poland','gdpPercap_1962':'gdpPercap_1972'].max()"
      ],
      "metadata": {
        "colab": {
          "base_uri": "https://localhost:8080/"
        },
        "id": "CxJmA3CDu1Lp",
        "outputId": "d3332bc1-334b-40ed-fe3f-6cd9fa1cb229"
      },
      "execution_count": 9,
      "outputs": [
        {
          "output_type": "execute_result",
          "data": {
            "text/plain": [
              "gdpPercap_1962    13450.40151\n",
              "gdpPercap_1967    16361.87647\n",
              "gdpPercap_1972    18965.05551\n",
              "dtype: float64"
            ]
          },
          "metadata": {},
          "execution_count": 9
        }
      ]
    },
    {
      "cell_type": "code",
      "source": [
        "data.loc['Italy':'Poland','gdpPercap_1962':'gdpPercap_1972'].min()"
      ],
      "metadata": {
        "colab": {
          "base_uri": "https://localhost:8080/"
        },
        "id": "Ubvi-AgAvCFQ",
        "outputId": "36008671-6995-4f22-d457-e000a51bbab3"
      },
      "execution_count": 10,
      "outputs": [
        {
          "output_type": "execute_result",
          "data": {
            "text/plain": [
              "gdpPercap_1962    4649.593785\n",
              "gdpPercap_1967    5907.850937\n",
              "gdpPercap_1972    7778.414017\n",
              "dtype: float64"
            ]
          },
          "metadata": {},
          "execution_count": 10
        }
      ]
    },
    {
      "cell_type": "markdown",
      "source": [
        "## Use comparisons to select data based on value"
      ],
      "metadata": {
        "id": "wjfAZ3SkhA-d"
      }
    },
    {
      "cell_type": "code",
      "source": [
        "subset = data.loc['Italy':'Poland','gdpPercap_1962':'gdpPercap_1972']\n",
        "print(subset)\n",
        "print(subset > 10000)"
      ],
      "metadata": {
        "colab": {
          "base_uri": "https://localhost:8080/"
        },
        "id": "BQKmJJtbvk7x",
        "outputId": "630b564e-3b98-4e57-fb25-cc703ae2ca44"
      },
      "execution_count": 11,
      "outputs": [
        {
          "output_type": "stream",
          "name": "stdout",
          "text": [
            "             gdpPercap_1962  gdpPercap_1967  gdpPercap_1972\n",
            "country                                                    \n",
            "Italy           8243.582340    10022.401310    12269.273780\n",
            "Montenegro      4649.593785     5907.850937     7778.414017\n",
            "Netherlands    12790.849560    15363.251360    18794.745670\n",
            "Norway         13450.401510    16361.876470    18965.055510\n",
            "Poland          5338.752143     6557.152776     8006.506993\n",
            "             gdpPercap_1962  gdpPercap_1967  gdpPercap_1972\n",
            "country                                                    \n",
            "Italy                 False            True            True\n",
            "Montenegro            False           False           False\n",
            "Netherlands            True            True            True\n",
            "Norway                 True            True            True\n",
            "Poland                False           False           False\n"
          ]
        }
      ]
    },
    {
      "cell_type": "markdown",
      "source": [
        "## Select values or NaN using a Boolean mask"
      ],
      "metadata": {
        "id": "VgiKOSolhPYp"
      }
    },
    {
      "cell_type": "code",
      "source": [
        "mask = subset > 10000\n",
        "print(subset[mask])"
      ],
      "metadata": {
        "colab": {
          "base_uri": "https://localhost:8080/"
        },
        "id": "D0gTwHzQwQxn",
        "outputId": "c6f82b71-6801-417d-e18f-2812cbbd1876"
      },
      "execution_count": 12,
      "outputs": [
        {
          "output_type": "stream",
          "name": "stdout",
          "text": [
            "             gdpPercap_1962  gdpPercap_1967  gdpPercap_1972\n",
            "country                                                    \n",
            "Italy                   NaN     10022.40131     12269.27378\n",
            "Montenegro              NaN             NaN             NaN\n",
            "Netherlands     12790.84956     15363.25136     18794.74567\n",
            "Norway          13450.40151     16361.87647     18965.05551\n",
            "Poland                  NaN             NaN             NaN\n"
          ]
        }
      ]
    },
    {
      "cell_type": "code",
      "source": [
        "print(subset[mask].describe())"
      ],
      "metadata": {
        "colab": {
          "base_uri": "https://localhost:8080/"
        },
        "id": "BWmRtX1Hw4y8",
        "outputId": "12d810d0-0a98-4bf4-c286-66c69481a815"
      },
      "execution_count": 13,
      "outputs": [
        {
          "output_type": "stream",
          "name": "stdout",
          "text": [
            "       gdpPercap_1962  gdpPercap_1967  gdpPercap_1972\n",
            "count        2.000000        3.000000        3.000000\n",
            "mean     13120.625535    13915.843047    16676.358320\n",
            "std        466.373656     3408.589070     3817.597015\n",
            "min      12790.849560    10022.401310    12269.273780\n",
            "25%      12955.737548    12692.826335    15532.009725\n",
            "50%      13120.625535    15363.251360    18794.745670\n",
            "75%      13285.513522    15862.563915    18879.900590\n",
            "max      13450.401510    16361.876470    18965.055510\n"
          ]
        }
      ]
    },
    {
      "cell_type": "markdown",
      "source": [
        "## Homework\n",
        "\n",
        "- [Selection of Individual Values](http://swcarpentry.github.io/python-novice-gapminder/08-data-frames/index.html#selection-of-individual-values)\n",
        "- [Extent of Slicing](http://swcarpentry.github.io/python-novice-gapminder/08-data-frames/index.html#extent-of-slicing)\n",
        "- [Reconstructing Data](http://swcarpentry.github.io/python-novice-gapminder/08-data-frames/index.html#reconstructing-data)\n",
        "- [Selecting Indices](http://swcarpentry.github.io/python-novice-gapminder/08-data-frames/index.html#selecting-indices)\n",
        "- [Practice with Selection](http://swcarpentry.github.io/python-novice-gapminder/08-data-frames/index.html#practice-with-selection)\n",
        "- [Many Ways of Access](http://swcarpentry.github.io/python-novice-gapminder/08-data-frames/index.html#many-ways-of-access)"
      ],
      "metadata": {
        "id": "MSpcOjeZEskm"
      }
    },
    {
      "cell_type": "markdown",
      "source": [
        "## Summary\n",
        "\n",
        "- Use `DataFrame.iloc[..., ...]` to select values by integer location.\n",
        "- Use `:` on its own to mean all columns or all rows.\n",
        "- Select multiple columns or rows using `DataFrame.loc` and a named slice.\n",
        "- Result of slicing can be used in further operations.\n",
        "- Use comparisons to select data based on value.\n",
        "- Select values or NaN using a Boolean mask."
      ],
      "metadata": {
        "id": "p6YORz-chd9N"
      }
    }
  ]
}