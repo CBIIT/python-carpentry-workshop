{
  "nbformat": 4,
  "nbformat_minor": 0,
  "metadata": {
    "colab": {
      "name": "week_5b_looping_over_data_sets.ipynb",
      "provenance": [],
      "collapsed_sections": [],
      "authorship_tag": "ABX9TyPeIGbYDQRy+2+ULYI/nep1",
      "include_colab_link": true
    },
    "kernelspec": {
      "name": "python3",
      "display_name": "Python 3"
    },
    "language_info": {
      "name": "python"
    }
  },
  "cells": [
    {
      "cell_type": "markdown",
      "metadata": {
        "id": "view-in-github",
        "colab_type": "text"
      },
      "source": [
        "<a href=\"https://colab.research.google.com/github/CBIIT/python-carpentry-workshop/blob/main/week_5b_looping_over_data_sets.ipynb\" target=\"_parent\"><img src=\"https://colab.research.google.com/assets/colab-badge.svg\" alt=\"Open In Colab\"/></a>"
      ]
    },
    {
      "cell_type": "markdown",
      "metadata": {
        "id": "XoaCJItQ8YEM"
      },
      "source": [
        "# Looping Over Data Sets"
      ]
    },
    {
      "cell_type": "markdown",
      "metadata": {
        "id": "lpaTaxcC8cBU"
      },
      "source": [
        "## Download data sets\n",
        "\n",
        "\n",
        "\n"
      ]
    },
    {
      "cell_type": "code",
      "metadata": {
        "id": "iS1ERvRk-FGt",
        "colab": {
          "base_uri": "https://localhost:8080/"
        },
        "outputId": "2db902d1-eb44-4833-ab45-944217a68bbd"
      },
      "source": [
        "#Download two data sets from the Web\n",
        "!wget https://raw.githubusercontent.com/swcarpentry/python-novice-gapminder/gh-pages/data/gapminder_gdp_africa.csv\n",
        "!wget https://raw.githubusercontent.com/swcarpentry/python-novice-gapminder/gh-pages/data/gapminder_gdp_asia.csv"
      ],
      "execution_count": 1,
      "outputs": [
        {
          "output_type": "stream",
          "name": "stdout",
          "text": [
            "--2022-06-07 19:05:26--  https://raw.githubusercontent.com/swcarpentry/python-novice-gapminder/gh-pages/data/gapminder_gdp_africa.csv\n",
            "Resolving raw.githubusercontent.com (raw.githubusercontent.com)... 185.199.108.133, 185.199.110.133, 185.199.109.133, ...\n",
            "Connecting to raw.githubusercontent.com (raw.githubusercontent.com)|185.199.108.133|:443... connected.\n",
            "HTTP request sent, awaiting response... 200 OK\n",
            "Length: 8095 (7.9K) [text/plain]\n",
            "Saving to: ‘gapminder_gdp_africa.csv’\n",
            "\n",
            "\rgapminder_gdp_afric   0%[                    ]       0  --.-KB/s               \rgapminder_gdp_afric 100%[===================>]   7.91K  --.-KB/s    in 0s      \n",
            "\n",
            "2022-06-07 19:05:26 (93.6 MB/s) - ‘gapminder_gdp_africa.csv’ saved [8095/8095]\n",
            "\n",
            "--2022-06-07 19:05:26--  https://raw.githubusercontent.com/swcarpentry/python-novice-gapminder/gh-pages/data/gapminder_gdp_asia.csv\n",
            "Resolving raw.githubusercontent.com (raw.githubusercontent.com)... 185.199.108.133, 185.199.109.133, 185.199.110.133, ...\n",
            "Connecting to raw.githubusercontent.com (raw.githubusercontent.com)|185.199.108.133|:443... connected.\n",
            "HTTP request sent, awaiting response... 200 OK\n",
            "Length: 5103 (5.0K) [text/plain]\n",
            "Saving to: ‘gapminder_gdp_asia.csv’\n",
            "\n",
            "gapminder_gdp_asia. 100%[===================>]   4.98K  --.-KB/s    in 0s      \n",
            "\n",
            "2022-06-07 19:05:26 (50.0 MB/s) - ‘gapminder_gdp_asia.csv’ saved [5103/5103]\n",
            "\n"
          ]
        }
      ]
    },
    {
      "cell_type": "code",
      "metadata": {
        "id": "dHDKQWJ_BFJB",
        "colab": {
          "base_uri": "https://localhost:8080/"
        },
        "outputId": "d6450984-0e50-40e6-b6da-f08e01bca70a"
      },
      "source": [
        "!ls -F"
      ],
      "execution_count": 2,
      "outputs": [
        {
          "output_type": "stream",
          "name": "stdout",
          "text": [
            "gapminder_gdp_africa.csv    gapminder_gdp_asia.csv    sample_data/\n",
            "gapminder_gdp_africa.csv.1  gapminder_gdp_asia.csv.1\n"
          ]
        }
      ]
    },
    {
      "cell_type": "code",
      "metadata": {
        "id": "O3d1_ajuBf7A"
      },
      "source": [
        "!mv *.csv sample_data/"
      ],
      "execution_count": 3,
      "outputs": []
    },
    {
      "cell_type": "markdown",
      "metadata": {
        "id": "TJnfrKc9A5WH"
      },
      "source": [
        "The most common patterns are:\n",
        "- `*` meaning \"match zero or more characters\"\n",
        "- `?` meaning \"match exactly one character\""
      ]
    },
    {
      "cell_type": "markdown",
      "metadata": {
        "id": "GireQWIhGvjo"
      },
      "source": [
        "## Use a `for` loop to process files given a list of their names\n"
      ]
    },
    {
      "cell_type": "markdown",
      "source": [
        "- A filename is a character string.\n",
        "- Lists can contain character strings."
      ],
      "metadata": {
        "id": "QNzGRfTx4xxC"
      }
    },
    {
      "cell_type": "code",
      "metadata": {
        "id": "s7TlCBHqGsov",
        "colab": {
          "base_uri": "https://localhost:8080/"
        },
        "outputId": "b5efc644-c4ae-4c00-a8f0-c8b7d293b94c"
      },
      "source": [
        "import pandas as pd\n",
        "for filename in ['sample_data/gapminder_gdp_africa.csv', 'sample_data/gapminder_gdp_asia.csv']:\n",
        "    data = pd.read_csv(filename, index_col='country')\n",
        "    print(filename, data.min())"
      ],
      "execution_count": 4,
      "outputs": [
        {
          "output_type": "stream",
          "name": "stdout",
          "text": [
            "sample_data/gapminder_gdp_africa.csv gdpPercap_1952    298.846212\n",
            "gdpPercap_1957    335.997115\n",
            "gdpPercap_1962    355.203227\n",
            "gdpPercap_1967    412.977514\n",
            "gdpPercap_1972    464.099504\n",
            "gdpPercap_1977    502.319733\n",
            "gdpPercap_1982    462.211415\n",
            "gdpPercap_1987    389.876185\n",
            "gdpPercap_1992    410.896824\n",
            "gdpPercap_1997    312.188423\n",
            "gdpPercap_2002    241.165876\n",
            "gdpPercap_2007    277.551859\n",
            "dtype: float64\n",
            "sample_data/gapminder_gdp_asia.csv gdpPercap_1952    331.0\n",
            "gdpPercap_1957    350.0\n",
            "gdpPercap_1962    388.0\n",
            "gdpPercap_1967    349.0\n",
            "gdpPercap_1972    357.0\n",
            "gdpPercap_1977    371.0\n",
            "gdpPercap_1982    424.0\n",
            "gdpPercap_1987    385.0\n",
            "gdpPercap_1992    347.0\n",
            "gdpPercap_1997    415.0\n",
            "gdpPercap_2002    611.0\n",
            "gdpPercap_2007    944.0\n",
            "dtype: float64\n"
          ]
        }
      ]
    },
    {
      "cell_type": "markdown",
      "metadata": {
        "id": "wSwACSET_UTO"
      },
      "source": [
        "## Use `glob.glob` to find sets of files whose names match a pattern\n",
        "\n",
        "- Python’s standard library contains the `glob` module to provide pattern matching functionality\n",
        "- The `glob` module contains a function also called `glob` to match file patterns\n",
        "- E.g., `glob.glob('*.txt')` matches all files in the current directory whose names end with `.txt`.\n",
        "- Result is a (possibly empty) list of character strings."
      ]
    },
    {
      "cell_type": "code",
      "metadata": {
        "id": "-60yQKJEDRhk",
        "colab": {
          "base_uri": "https://localhost:8080/"
        },
        "outputId": "8a9472b0-0640-41f5-dfb4-328088f4e8de"
      },
      "source": [
        "import glob\n",
        "print('all csv files in data directory:', glob.glob('sample_data/*.csv'))"
      ],
      "execution_count": 5,
      "outputs": [
        {
          "output_type": "stream",
          "name": "stdout",
          "text": [
            "all csv files in data directory: ['sample_data/gapminder_gdp_africa.csv', 'sample_data/gapminder_gdp_asia.csv', 'sample_data/california_housing_train.csv', 'sample_data/california_housing_test.csv', 'sample_data/mnist_train_small.csv', 'sample_data/mnist_test.csv']\n"
          ]
        }
      ]
    },
    {
      "cell_type": "code",
      "metadata": {
        "id": "kY_LP585Dthb",
        "colab": {
          "base_uri": "https://localhost:8080/"
        },
        "outputId": "3843af74-453d-4d6b-d51c-66017d9aeadc"
      },
      "source": [
        "print('all PDB files:', glob.glob('sample_data/*.pdb'))"
      ],
      "execution_count": 6,
      "outputs": [
        {
          "output_type": "stream",
          "name": "stdout",
          "text": [
            "all PDB files: []\n"
          ]
        }
      ]
    },
    {
      "cell_type": "markdown",
      "metadata": {
        "id": "QyA8cXH_-D4y"
      },
      "source": [
        "## Use `glob` and `for` to process batches of files\n",
        "\n",
        "- Helps a lot if the files are named and stored systematically and consistently so that simple patterns will find the right data.\n",
        "- Use a more specific pattern to exclude the whole data set."
      ]
    },
    {
      "cell_type": "code",
      "metadata": {
        "id": "I64QQrC48KzO",
        "colab": {
          "base_uri": "https://localhost:8080/"
        },
        "outputId": "8810a210-336f-4c8d-964e-1559a9f41be6"
      },
      "source": [
        "for filename in glob.glob('sample_data/gapminder_gdp_*.csv'):\n",
        "    data = pd.read_csv(filename)\n",
        "    print(filename, data['gdpPercap_1952'].min())"
      ],
      "execution_count": 7,
      "outputs": [
        {
          "output_type": "stream",
          "name": "stdout",
          "text": [
            "sample_data/gapminder_gdp_africa.csv 298.8462121\n",
            "sample_data/gapminder_gdp_asia.csv 331.0\n"
          ]
        }
      ]
    },
    {
      "cell_type": "markdown",
      "metadata": {
        "id": "hR8MjHx7HeGw"
      },
      "source": [
        "## Dealing with File Paths\n",
        "\n",
        "The `pathlib module` provides useful abstractions for file and path manipulation like returning the name of a file without the file extension. This is very useful when looping over files and directories. In the example below, we create a `Path` object and inspect its attributes."
      ]
    },
    {
      "cell_type": "code",
      "metadata": {
        "id": "3_3cd6u0Hoh1",
        "colab": {
          "base_uri": "https://localhost:8080/"
        },
        "outputId": "242a3e7e-4ea6-49e7-e1fb-92115410e453"
      },
      "source": [
        "from pathlib import Path\n",
        "\n",
        "p = Path(\"sample_data/gapminder_gdp_africa.csv\")\n",
        "print(p.parent)\n",
        "print(p.stem)\n",
        "print(p.suffix)"
      ],
      "execution_count": 8,
      "outputs": [
        {
          "output_type": "stream",
          "name": "stdout",
          "text": [
            "sample_data\n",
            "gapminder_gdp_africa\n",
            ".csv\n"
          ]
        }
      ]
    },
    {
      "cell_type": "markdown",
      "source": [
        "## Ecercise"
      ],
      "metadata": {
        "id": "B7FBc1Oijeyp"
      }
    },
    {
      "cell_type": "markdown",
      "source": [
        "\n",
        "\n",
        "1.   [Determining Matches](http://swcarpentry.github.io/python-novice-gapminder/14-looping-data-sets/index.html#determining-matches)\n",
        "2.   [Minimum File Size](http://swcarpentry.github.io/python-novice-gapminder/14-looping-data-sets/index.html#minimum-file-size)\n",
        "3.   [Comparing Data](http://swcarpentry.github.io/python-novice-gapminder/14-looping-data-sets/index.html#comparing-data)\n",
        "\n"
      ],
      "metadata": {
        "id": "yolKOrj5lA8N"
      }
    },
    {
      "cell_type": "markdown",
      "source": [
        "## Key Points"
      ],
      "metadata": {
        "id": "gkR9lcpJlmid"
      }
    },
    {
      "cell_type": "markdown",
      "source": [
        "- Use a `for` loop to process files given a list of their names.\n",
        "- Use `glob.glob` to find sets of files whose names match a pattern.\n",
        "- Use `glob` and `for` to process batches of files.\n",
        "\n",
        "\n"
      ],
      "metadata": {
        "id": "eug3VbH3lp2c"
      }
    }
  ]
}