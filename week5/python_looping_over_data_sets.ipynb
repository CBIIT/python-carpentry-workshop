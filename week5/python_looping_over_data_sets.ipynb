{
  "nbformat": 4,
  "nbformat_minor": 0,
  "metadata": {
    "colab": {
      "name": "python_looping_over_data_sets.ipynb",
      "provenance": [],
      "collapsed_sections": [],
      "authorship_tag": "ABX9TyNXAN4LJwvueDOlrgTfnQyP",
      "include_colab_link": true
    },
    "kernelspec": {
      "name": "python3",
      "display_name": "Python 3"
    },
    "language_info": {
      "name": "python"
    }
  },
  "cells": [
    {
      "cell_type": "markdown",
      "metadata": {
        "id": "view-in-github",
        "colab_type": "text"
      },
      "source": [
        "<a href=\"https://colab.research.google.com/github/CBIIT/python-carpentry-workshop/blob/main/python_looping_over_data_sets.ipynb\" target=\"_parent\"><img src=\"https://colab.research.google.com/assets/colab-badge.svg\" alt=\"Open In Colab\"/></a>"
      ]
    },
    {
      "cell_type": "markdown",
      "metadata": {
        "id": "XoaCJItQ8YEM"
      },
      "source": [
        "# Looping Over Data Sets"
      ]
    },
    {
      "cell_type": "markdown",
      "metadata": {
        "id": "lpaTaxcC8cBU"
      },
      "source": [
        "## Download two data sets\n",
        "\n",
        "\n",
        "\n"
      ]
    },
    {
      "cell_type": "code",
      "metadata": {
        "id": "iS1ERvRk-FGt"
      },
      "source": [
        "#Download two data sets from the Web\n",
        "!wget https://raw.githubusercontent.com/swcarpentry/python-novice-gapminder/gh-pages/data/gapminder_gdp_africa.csv\n",
        "!wget https://raw.githubusercontent.com/swcarpentry/python-novice-gapminder/gh-pages/data/gapminder_gdp_asia.csv"
      ],
      "execution_count": null,
      "outputs": []
    },
    {
      "cell_type": "code",
      "metadata": {
        "id": "dHDKQWJ_BFJB"
      },
      "source": [
        "!ls -F"
      ],
      "execution_count": null,
      "outputs": []
    },
    {
      "cell_type": "code",
      "metadata": {
        "id": "O3d1_ajuBf7A"
      },
      "source": [
        "!mv *.csv sample_data/"
      ],
      "execution_count": null,
      "outputs": []
    },
    {
      "cell_type": "markdown",
      "metadata": {
        "id": "TJnfrKc9A5WH"
      },
      "source": [
        "The most common patterns are:\n",
        "- `*` meaning \"match zero or more characters\"\n",
        "- `?` meaning \"match exactly one character\""
      ]
    },
    {
      "cell_type": "markdown",
      "metadata": {
        "id": "GireQWIhGvjo"
      },
      "source": [
        "## Use a `for` loop to process files given a list of their names"
      ]
    },
    {
      "cell_type": "code",
      "metadata": {
        "id": "s7TlCBHqGsov"
      },
      "source": [
        "import pandas as pd\n",
        "for filename in ['sample_data/gapminder_gdp_africa.csv', 'sample_data/gapminder_gdp_asia.csv']:\n",
        "    data = pd.read_csv(filename, index_col='country')\n",
        "    print(filename, data.min())"
      ],
      "execution_count": null,
      "outputs": []
    },
    {
      "cell_type": "markdown",
      "metadata": {
        "id": "wSwACSET_UTO"
      },
      "source": [
        "## Use `glob.glob` to find sets of files whose names match a pattern\n",
        "\n",
        "- Python’s standard library contains the `glob` module to provide pattern matching functionality\n",
        "- The `glob` module contains a function also called `glob` to match file patterns\n",
        "- E.g., `glob.glob('*.txt')` matches all files in the current directory whose names end with `.txt`.\n",
        "- Result is a (possibly empty) list of character strings."
      ]
    },
    {
      "cell_type": "code",
      "metadata": {
        "id": "-60yQKJEDRhk"
      },
      "source": [
        "import glob\n",
        "print('all csv files in data directory:', glob.glob('sample_data/*.csv'))"
      ],
      "execution_count": null,
      "outputs": []
    },
    {
      "cell_type": "code",
      "metadata": {
        "id": "kY_LP585Dthb"
      },
      "source": [
        "print('all PDB files:', glob.glob('*.pdb'))"
      ],
      "execution_count": null,
      "outputs": []
    },
    {
      "cell_type": "markdown",
      "metadata": {
        "id": "QyA8cXH_-D4y"
      },
      "source": [
        "## Use `glob` and `for` to process batches of files\n",
        "\n",
        "- Helps a lot if the files are named and stored systematically and consistently so that simple patterns will find the right data.\n",
        "- Use a more specific pattern to exclude the whole data set."
      ]
    },
    {
      "cell_type": "code",
      "metadata": {
        "id": "I64QQrC48KzO"
      },
      "source": [
        "for filename in glob.glob('sample_data/gapminder_gdp_*.csv'):\n",
        "    data = pd.read_csv(filename)\n",
        "    print(filename, data['gdpPercap_1952'].min())"
      ],
      "execution_count": null,
      "outputs": []
    },
    {
      "cell_type": "markdown",
      "metadata": {
        "id": "hR8MjHx7HeGw"
      },
      "source": [
        "## Dealing with File Paths\n",
        "\n",
        "The `pathlib module` provides useful abstractions for file and path manipulation like returning the name of a file without the file extension. This is very useful when looping over files and directories. In the example below, we create a `Path` object and inspect its attributes."
      ]
    },
    {
      "cell_type": "code",
      "metadata": {
        "id": "3_3cd6u0Hoh1"
      },
      "source": [
        "from pathlib import Path\n",
        "\n",
        "p = Path(\"sample_data/gapminder_gdp_africa.csv\")\n",
        "print(p.parent)\n",
        "print(p.stem)\n",
        "print(p.suffix)"
      ],
      "execution_count": null,
      "outputs": []
    }
  ]
}
