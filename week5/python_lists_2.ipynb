{
  "nbformat": 4,
  "nbformat_minor": 0,
  "metadata": {
    "colab": {
      "name": "python_lists_2.ipynb",
      "provenance": [],
      "collapsed_sections": [],
      "include_colab_link": true
    },
    "kernelspec": {
      "name": "python3",
      "display_name": "Python 3"
    },
    "language_info": {
      "name": "python"
    }
  },
  "cells": [
    {
      "cell_type": "markdown",
      "metadata": {
        "id": "view-in-github",
        "colab_type": "text"
      },
      "source": [
        "<a href=\"https://colab.research.google.com/github/CBIIT/python-carpentry-workshop/blob/main/python_lists_2.ipynb\" target=\"_parent\"><img src=\"https://colab.research.google.com/assets/colab-badge.svg\" alt=\"Open In Colab\"/></a>"
      ]
    },
    {
      "cell_type": "markdown",
      "metadata": {
        "id": "yMmmr9csOAzF"
      },
      "source": [
        "# **Lists**"
      ]
    },
    {
      "cell_type": "markdown",
      "metadata": {
        "id": "YbCTYhYhSWDh"
      },
      "source": [
        "**A list stores many values in a single structure.**\n",
        "\n",
        "Doing calculations with a hundred variables called pressure_001, pressure_002, etc., would be at least as slow as doing them by hand.\n",
        "Use a list to store many values together.\n",
        "Contained within square brackets [...].\n",
        "Values separated by commas ,.\n",
        "Use len to find out how many values are in a list."
      ]
    },
    {
      "cell_type": "code",
      "metadata": {
        "colab": {
          "base_uri": "https://localhost:8080/"
        },
        "id": "few0lzLeSnxW",
        "outputId": "663cb588-7e80-4ca3-ce99-306c5f4e969e"
      },
      "source": [
        "pressures = [0.273, 0.275,0.277,0.275,0.276]\n",
        "print('pressures:',pressures)\n",
        "print('length:',len(pressures))"
      ],
      "execution_count": null,
      "outputs": [
        {
          "output_type": "stream",
          "text": [
            "pressures: [0.273, 0.275, 0.277, 0.275, 0.276]\n",
            "length: 5\n"
          ],
          "name": "stdout"
        }
      ]
    },
    {
      "cell_type": "markdown",
      "metadata": {
        "id": "w6p3NsICUZsa"
      },
      "source": [
        "Use an item’s index to fetch it from a list.\n",
        "Just like strings"
      ]
    },
    {
      "cell_type": "code",
      "metadata": {
        "colab": {
          "base_uri": "https://localhost:8080/"
        },
        "id": "PQUCjothUfym",
        "outputId": "34cdeb63-a9b4-4025-db16-267dc562c48f"
      },
      "source": [
        "print(\"zeroth item of pressures:\", pressures[0])\n",
        "print(\"fourth item of pressures:\",pressures[4])"
      ],
      "execution_count": null,
      "outputs": [
        {
          "output_type": "stream",
          "text": [
            "zeroth item of pressures: 0.273\n",
            "fourth item of pressures: 0.276\n"
          ],
          "name": "stdout"
        }
      ]
    },
    {
      "cell_type": "markdown",
      "metadata": {
        "id": "zEkM-jCGU1u4"
      },
      "source": [
        "Lists values can be replaced by assigning to them.\n",
        "*Use an index expression on the left of assignment to replace a value."
      ]
    },
    {
      "cell_type": "code",
      "metadata": {
        "colab": {
          "base_uri": "https://localhost:8080/"
        },
        "id": "c0PCgCMhVEvi",
        "outputId": "7350c543-322e-4c80-8d5c-30c67c8d5f59"
      },
      "source": [
        "pressures[0]=0.265\n",
        "print('pressures is nos:', pressures[0])"
      ],
      "execution_count": null,
      "outputs": [
        {
          "output_type": "stream",
          "text": [
            "pressures is nos: 0.265\n"
          ],
          "name": "stdout"
        }
      ]
    },
    {
      "cell_type": "markdown",
      "metadata": {
        "id": "2V3uVhehVPFd"
      },
      "source": [
        "Appending items to a list lengthens it.\n",
        "\n",
        "*use list_name.append to add items to the end of a list."
      ]
    },
    {
      "cell_type": "code",
      "metadata": {
        "colab": {
          "base_uri": "https://localhost:8080/"
        },
        "id": "_ae2rhm2Vjsh",
        "outputId": "82296eef-dfc5-47c4-c015-f295aca843d5"
      },
      "source": [
        "primes = [2,3,5]\n",
        "print('primes is initially:', primes)\n",
        "primes.append(7)\n",
        "print('primes has become:', primes)"
      ],
      "execution_count": null,
      "outputs": [
        {
          "output_type": "stream",
          "text": [
            "primes is initially: [2, 3, 5]\n",
            "primes has become: [2, 3, 5, 7]\n"
          ],
          "name": "stdout"
        }
      ]
    },
    {
      "cell_type": "markdown",
      "metadata": {
        "id": "EavViInZV6zu"
      },
      "source": [
        "append is a method of lists.\n",
        "Like a function, but tied to a particular object.\n",
        "Use object_name.method_name to call methods.\n",
        "Deliberately resembles the way we refer to things in a library.\n",
        "We will meet other methods of lists as we go along.\n",
        "Use help(list) for a preview.\n",
        "extend is similar to append, but it allows you to combine two lists. For example:\n"
      ]
    },
    {
      "cell_type": "code",
      "metadata": {
        "colab": {
          "base_uri": "https://localhost:8080/"
        },
        "id": "iCSHTt8dWC3E",
        "outputId": "4e44aa86-8e05-4044-8169-cb7ff6fd95df"
      },
      "source": [
        "teen_primes = [11,13,17, 19]\n",
        "middle_aged_primes = [37, 41,43,47]\n",
        "print('primes is currently:', primes)\n",
        "primes.extend(teen_primes)\n",
        "print('primes has now become:',primes)\n",
        "primes.append(middle_aged_primes)\n",
        "print('primes has finally become',primes)\n",
        "print(primes[-1][1])"
      ],
      "execution_count": null,
      "outputs": [
        {
          "output_type": "stream",
          "text": [
            "primes is currently: [2, 3, 5, 7]\n",
            "primes has now become: [2, 3, 5, 7, 11, 13, 17, 19]\n",
            "primes has finally become [2, 3, 5, 7, 11, 13, 17, 19, [37, 41, 43, 47]]\n",
            "41\n"
          ],
          "name": "stdout"
        }
      ]
    },
    {
      "cell_type": "markdown",
      "metadata": {
        "id": "4sAeNgJJAdcJ"
      },
      "source": [
        "**Use del to remove items from a list entirely.**"
      ]
    },
    {
      "cell_type": "code",
      "metadata": {
        "colab": {
          "base_uri": "https://localhost:8080/"
        },
        "id": "zm0uj75oAjsZ",
        "outputId": "b6416ed1-564c-4765-9fb5-3bf2a8038f86"
      },
      "source": [
        "primes = [2, 3, 5, 7, 9]\n",
        "print('primes before aremoving last item:',primes)\n",
        "del primes[4]\n",
        "print('primes after removing last item:', primes)"
      ],
      "execution_count": null,
      "outputs": [
        {
          "output_type": "stream",
          "text": [
            "primes before aremoving last item: [2, 3, 5, 7, 9]\n",
            "primes after removing last item: [2, 3, 5, 7]\n"
          ],
          "name": "stdout"
        }
      ]
    },
    {
      "cell_type": "markdown",
      "metadata": {
        "id": "1nH6no9jDDLi"
      },
      "source": [
        "The empty list contains no values.\n"
      ]
    },
    {
      "cell_type": "markdown",
      "metadata": {
        "id": "zkhkNBHlDRf6"
      },
      "source": [
        "Lists may contain value of different types."
      ]
    },
    {
      "cell_type": "code",
      "metadata": {
        "colab": {
          "base_uri": "https://localhost:8080/"
        },
        "id": "60zoO4ZnDJh_",
        "outputId": "cbda4cb5-6dfa-404e-dbea-74eca05da6b6"
      },
      "source": [
        "goals=[1,'Create lists.',2,'Extract items from lists.', 3, ' Modify lists.']\n",
        "print(goals)"
      ],
      "execution_count": null,
      "outputs": [
        {
          "output_type": "stream",
          "text": [
            "[1, 'Create lists.', 2, 'Extract items from lists.', 3, ' Modify lists.']\n"
          ],
          "name": "stdout"
        }
      ]
    },
    {
      "cell_type": "markdown",
      "metadata": {
        "id": "A_u8yOpTDkWI"
      },
      "source": [
        "Character strings can be indexed like lists."
      ]
    },
    {
      "cell_type": "code",
      "metadata": {
        "colab": {
          "base_uri": "https://localhost:8080/"
        },
        "id": "07Cq3kHDDqPa",
        "outputId": "d5f587d8-8a41-4fbc-82ba-2fb34bc53c04"
      },
      "source": [
        "element = 'carbon'\n",
        "print('zeroth character:', element[0])\n",
        "print('third character:' , element[3])"
      ],
      "execution_count": null,
      "outputs": [
        {
          "output_type": "stream",
          "text": [
            "zeroth character: c\n",
            "third character: b\n"
          ],
          "name": "stdout"
        }
      ]
    },
    {
      "cell_type": "markdown",
      "metadata": {
        "id": "inhc8z5xD5jH"
      },
      "source": [
        "Character strings are immutable."
      ]
    },
    {
      "cell_type": "code",
      "metadata": {
        "colab": {
          "base_uri": "https://localhost:8080/"
        },
        "id": "QB0ls7yxD8cc",
        "outputId": "c8e442ba-0974-4484-96c8-31bd5e2a3456"
      },
      "source": [
        "#element[0]='C'\n",
        "#error\n",
        "\n",
        "element='C'+element[1:]\n",
        "print(element)"
      ],
      "execution_count": null,
      "outputs": [
        {
          "output_type": "stream",
          "text": [
            "Carbon\n"
          ],
          "name": "stdout"
        }
      ]
    },
    {
      "cell_type": "markdown",
      "metadata": {
        "id": "0JZsDU6bEF3g"
      },
      "source": [
        "Indexing beyound the end of the collection is an error."
      ]
    },
    {
      "cell_type": "code",
      "metadata": {
        "colab": {
          "base_uri": "https://localhost:8080/",
          "height": 164
        },
        "id": "bD4_ToLWEUdg",
        "outputId": "c8a17aed-6345-43bf-eafc-f35afcc453e4"
      },
      "source": [
        "print('99th element of element is:', element[99])"
      ],
      "execution_count": null,
      "outputs": [
        {
          "output_type": "error",
          "ename": "IndexError",
          "evalue": "ignored",
          "traceback": [
            "\u001b[0;31m---------------------------------------------------------------------------\u001b[0m",
            "\u001b[0;31mIndexError\u001b[0m                                Traceback (most recent call last)",
            "\u001b[0;32m<ipython-input-19-f178a3be0901>\u001b[0m in \u001b[0;36m<module>\u001b[0;34m()\u001b[0m\n\u001b[0;32m----> 1\u001b[0;31m \u001b[0mprint\u001b[0m\u001b[0;34m(\u001b[0m\u001b[0;34m'99th element of element is:'\u001b[0m\u001b[0;34m,\u001b[0m \u001b[0melement\u001b[0m\u001b[0;34m[\u001b[0m\u001b[0;36m99\u001b[0m\u001b[0;34m]\u001b[0m\u001b[0;34m)\u001b[0m\u001b[0;34m\u001b[0m\u001b[0;34m\u001b[0m\u001b[0m\n\u001b[0m",
            "\u001b[0;31mIndexError\u001b[0m: string index out of range"
          ]
        }
      ]
    },
    {
      "cell_type": "markdown",
      "metadata": {
        "id": "gW4B9QfNFd0N"
      },
      "source": [
        "given:"
      ]
    },
    {
      "cell_type": "code",
      "metadata": {
        "colab": {
          "base_uri": "https://localhost:8080/"
        },
        "id": "kNQpFl0-FfXr",
        "outputId": "3eda8561-4aaf-4a4f-a395-fc8273ed14b4"
      },
      "source": [
        "print('string to list:', list('tin'))\n",
        "print('list to string:', '-'.join(['g', 'o', 'l', 'd']))\n",
        "print('list to string:', ','.join(['gold', 'tin']))"
      ],
      "execution_count": null,
      "outputs": [
        {
          "output_type": "stream",
          "text": [
            "string to list: ['t', 'i', 'n']\n",
            "list to string: g-o-l-d\n",
            "list to string: gold,tin\n"
          ],
          "name": "stdout"
        }
      ]
    },
    {
      "cell_type": "markdown",
      "metadata": {
        "id": "maXbShZyFg-3"
      },
      "source": [
        "1. What does list('some string') do?\n",
        "2. What does '-'.join(['x','y','z'])\n"
      ]
    }
  ]
}
