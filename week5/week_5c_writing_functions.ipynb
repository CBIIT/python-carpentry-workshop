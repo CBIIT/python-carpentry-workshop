{
  "nbformat": 4,
  "nbformat_minor": 0,
  "metadata": {
    "colab": {
      "name": "week_5c-writing_functions.ipynb",
      "provenance": [],
      "collapsed_sections": [],
      "toc_visible": true
    },
    "kernelspec": {
      "name": "python3",
      "display_name": "Python 3"
    },
    "language_info": {
      "name": "python"
    }
  },
  "cells": [
    {
      "cell_type": "markdown",
      "source": [
        "## Writing Functions"
      ],
      "metadata": {
        "id": "4cSx0WVrGQo5"
      }
    },
    {
      "cell_type": "markdown",
      "source": [
        "We've already seen built-in and library-based functions such as `print()` and `plt.subplots()`.\n",
        "\n",
        "Here we are talking about *custom* functions."
      ],
      "metadata": {
        "id": "0l-4dRzXUC_w"
      }
    },
    {
      "cell_type": "markdown",
      "source": [
        "### Break programs down into functions to make them easier to understand."
      ],
      "metadata": {
        "id": "R0kNdWm3Gt3G"
      }
    },
    {
      "cell_type": "markdown",
      "source": [
        "This is just an intro; don't study the following too hard!\n",
        "\n",
        "Instead of\n",
        "\n",
        "```python\n",
        "# Define libraries\n",
        "import matplotlib.pyplot as plt\n",
        "import numpy as np\n",
        "\n",
        "# Define variable\n",
        "my_var = 4\n",
        "\n",
        "# Obtain x and y arrays\n",
        "x = np.ones((10,)) * (my_var / -9 + 20)\n",
        "y = np.arange(10)\n",
        "\n",
        "# Plot y vs. x\n",
        "fig, ax = plt.subplots()\n",
        "ax.plot(x, y, '*--r')\n",
        "ax.set_title('My vertical line')\n",
        "```\n",
        "\n",
        "you can write\n",
        "\n",
        "```python\n",
        "# Define x and y array-getting function\n",
        "def get_x_and_y_coords(my_var):\n",
        "  import numpy as np\n",
        "  x = np.ones((10,)) * (my_var / -9 + 20)\n",
        "  y = np.arange(10)\n",
        "  return x, y\n",
        "\n",
        "# Define function that plots y vs. x\n",
        "def plot_line(x, y, color='b'):\n",
        "  import matplotlib.pyplot as plt\n",
        "  fig, ax = plt.subplots()\n",
        "  ax.plot(x, y, '*--' + color)\n",
        "  ax.set_title('My vertical line')\n",
        "\n",
        "# Define variable\n",
        "my_var = 4\n",
        "\n",
        "# Call function that determines x and y coordinates\n",
        "x, y = get_x_and_y_coords(my_var)\n",
        "\n",
        "# Call function that plots y vs. x\n",
        "plot_line(x, y, color='r')\n",
        "```\n",
        "\n",
        "Often you want to write algorithm first anyway (e.g., last three lines of code above).\n",
        "\n",
        "Most important: writing functions allows you to generalize and resuse them."
      ],
      "metadata": {
        "id": "dbsqcuR6G2me"
      }
    },
    {
      "cell_type": "markdown",
      "source": [
        "### Define a function using `def` with a name, parameters, and a block of code."
      ],
      "metadata": {
        "id": "PhpSfMdrNLDk"
      }
    },
    {
      "cell_type": "code",
      "source": [
        "# Define a function\n",
        "def print_greeting():\n",
        "  print('Hello!')"
      ],
      "metadata": {
        "id": "l4GBB2xkOPuu"
      },
      "execution_count": 4,
      "outputs": []
    },
    {
      "cell_type": "markdown",
      "source": [
        "Note: Function name must obey the [same rules as variable names](http://swcarpentry.github.io/python-novice-gapminder/02-variables/index.html)."
      ],
      "metadata": {
        "id": "DdWYTcJZOyfs"
      }
    },
    {
      "cell_type": "markdown",
      "source": [
        "### Defining a function does not run it."
      ],
      "metadata": {
        "id": "HJl8CH_SPFrt"
      }
    },
    {
      "cell_type": "code",
      "source": [
        "# Call a function\n",
        "print_greeting()"
      ],
      "metadata": {
        "colab": {
          "base_uri": "https://localhost:8080/"
        },
        "id": "qEYPd6KMPwxX",
        "outputId": "6f1f0471-d7a5-4fa8-9aae-de6b3414dadc"
      },
      "execution_count": 5,
      "outputs": [
        {
          "output_type": "stream",
          "name": "stdout",
          "text": [
            "Hello!\n"
          ]
        }
      ]
    },
    {
      "cell_type": "markdown",
      "source": [
        "This is similar to defining a variable.\n",
        "\n",
        "You must define a function prior to calling it!\n",
        "\n",
        "Note you need parentheses after the function name in order to call it."
      ],
      "metadata": {
        "id": "abNdXf43Qkrw"
      }
    },
    {
      "cell_type": "markdown",
      "source": [
        "### Arguments in the function call are matched to parameters in the function definition."
      ],
      "metadata": {
        "id": "KznOHM8pQrkn"
      }
    },
    {
      "cell_type": "markdown",
      "source": [
        "Parameters become variables when the function is executed."
      ],
      "metadata": {
        "id": "OwpMzkB6Q-rx"
      }
    },
    {
      "cell_type": "code",
      "source": [
        "# Function definition\n",
        "def print_date(year, month, day):  # year, month, and day are called parameters when defining a function\n",
        "  joined = str(year) + '/' + str(month) + '/' + str(day)\n",
        "  print(joined)\n",
        "\n",
        "# Function call\n",
        "print_date(1871, 3, 19)  # 1871, 3, and 9 are called arguments when calling a function"
      ],
      "metadata": {
        "colab": {
          "base_uri": "https://localhost:8080/"
        },
        "id": "JHdWrl0HRac7",
        "outputId": "1902879c-bae0-4730-b432-381d84b2114a"
      },
      "execution_count": 6,
      "outputs": [
        {
          "output_type": "stream",
          "name": "stdout",
          "text": [
            "1871/3/19\n"
          ]
        }
      ]
    },
    {
      "cell_type": "markdown",
      "source": [
        "In the function *call*, if you name the arguments the correct parameter names, then you can call them in any order. Otherwise, the order must match."
      ],
      "metadata": {
        "id": "3jsJftAiRn1X"
      }
    },
    {
      "cell_type": "code",
      "source": [
        "print_date(month=3, day=19, year=1871)"
      ],
      "metadata": {
        "colab": {
          "base_uri": "https://localhost:8080/"
        },
        "id": "I8KqOH0LSbEi",
        "outputId": "02007257-5e58-400c-fb83-306a94708655"
      },
      "execution_count": 7,
      "outputs": [
        {
          "output_type": "stream",
          "name": "stdout",
          "text": [
            "1871/3/19\n"
          ]
        }
      ]
    },
    {
      "cell_type": "markdown",
      "source": [
        "### You can explicitly define keyword parameters to functions that contain default values."
      ],
      "metadata": {
        "id": "O1NAkQ3ojS2k"
      }
    },
    {
      "cell_type": "markdown",
      "source": [
        "Nominally, there are two types of parameters:\n",
        "\n",
        "1. Positional (e.g., `print_date(year, month, day)`)\n",
        "1. Keyword (e.g., the last argument here: `print_date(year, month, day, sep='/')`\n",
        "\n",
        "Positional parameters are required and assume a particular order if called without names.\n",
        "\n",
        "Keyword parameters do not assume a particular order but must have a default value specified.\n",
        "\n",
        "There are many other intricacies (e.g., [here](https://levelup.gitconnected.com/5-types-of-arguments-in-python-function-definition-e0e2a2cafd29)) but above is the most important information."
      ],
      "metadata": {
        "id": "iWAOeNUljh89"
      }
    },
    {
      "cell_type": "markdown",
      "source": [
        "### Functions may return a result to their caller using `return`."
      ],
      "metadata": {
        "id": "i59ygvrsTwd7"
      }
    },
    {
      "cell_type": "markdown",
      "source": [
        "Function often *return* an object.\n",
        "\n",
        "E.g., `round()` returns by default an integer corresponding to the rounded argument.\n",
        "\n",
        "E.g., `plt.subplots()` returns a figure object and an axes object.\n",
        "\n",
        "When writing custom functions, you use the `return` statement to tell a function what variables to return."
      ],
      "metadata": {
        "id": "oFEZy8R6U0iP"
      }
    },
    {
      "cell_type": "code",
      "source": [
        "# Function definition\n",
        "def average(values):\n",
        "  avg_var = sum(values) / len(values)\n",
        "  return avg_var\n",
        "\n",
        "# Function call\n",
        "average([1, 3, 4])"
      ],
      "metadata": {
        "colab": {
          "base_uri": "https://localhost:8080/"
        },
        "id": "c81CCUm8VAko",
        "outputId": "ab7827c7-1913-4017-dfac-9a36b7142ec3"
      },
      "execution_count": 9,
      "outputs": [
        {
          "output_type": "execute_result",
          "data": {
            "text/plain": [
              "2.6666666666666665"
            ]
          },
          "metadata": {},
          "execution_count": 9
        }
      ]
    },
    {
      "cell_type": "markdown",
      "source": [
        "`return` does not need to be the last line in a function definition."
      ],
      "metadata": {
        "id": "XoX2PXKDWJ54"
      }
    },
    {
      "cell_type": "code",
      "source": [
        "# Function definition\n",
        "def average(values):\n",
        "  if len(values) == 0:\n",
        "    print('Average not defined!')\n",
        "    return None\n",
        "  avg_var = sum(values) / len(values)\n",
        "  return avg_var\n",
        "\n",
        "# Function call\n",
        "average([])"
      ],
      "metadata": {
        "colab": {
          "base_uri": "https://localhost:8080/"
        },
        "id": "RBnxLJ1_WNu5",
        "outputId": "f1d1970f-3de8-4622-fa82-7545e12480b6"
      },
      "execution_count": 10,
      "outputs": [
        {
          "output_type": "stream",
          "name": "stdout",
          "text": [
            "Average not defined!\n"
          ]
        }
      ]
    },
    {
      "cell_type": "markdown",
      "source": [
        "If `return` is not specified, then `None` is returned."
      ],
      "metadata": {
        "id": "Z67-z-iDXlob"
      }
    },
    {
      "cell_type": "code",
      "source": [
        "# Function definition\n",
        "def average(values):\n",
        "  avg_var = sum(values) / len(values)\n",
        "\n",
        "# Function call\n",
        "ret_val = average([1, 3, 4])\n",
        "\n",
        "print(ret_val)"
      ],
      "metadata": {
        "colab": {
          "base_uri": "https://localhost:8080/"
        },
        "id": "J9MPRJvfYN3t",
        "outputId": "27eec86b-f947-4250-c1a7-ca6d505b6d7a"
      },
      "execution_count": 13,
      "outputs": [
        {
          "output_type": "stream",
          "name": "stdout",
          "text": [
            "None\n"
          ]
        }
      ]
    },
    {
      "cell_type": "markdown",
      "source": [
        "### Exercises"
      ],
      "metadata": {
        "id": "3J58Hyd-sMZY"
      }
    },
    {
      "cell_type": "markdown",
      "source": [
        "1. [Identifying syntax errors](http://swcarpentry.github.io/python-novice-gapminder/16-writing-functions/index.html#identifying-syntax-errors)\n",
        "1. [Definintion and use](http://swcarpentry.github.io/python-novice-gapminder/16-writing-functions/index.html#definition-and-use)\n",
        "1. [Order of operations](http://swcarpentry.github.io/python-novice-gapminder/16-writing-functions/index.html#order-of-operations)\n",
        "1. [Encapsulation](http://swcarpentry.github.io/python-novice-gapminder/16-writing-functions/index.html#encapsulation)\n",
        "1. [Find the first](http://swcarpentry.github.io/python-novice-gapminder/16-writing-functions/index.html#find-the-first)\n",
        "1. [Calling by name](http://swcarpentry.github.io/python-novice-gapminder/16-writing-functions/index.html#calling-by-name)"
      ],
      "metadata": {
        "id": "eto_VnXIsOH3"
      }
    },
    {
      "cell_type": "markdown",
      "source": [
        "### Key Points"
      ],
      "metadata": {
        "id": "RYe5_kY9YXw0"
      }
    },
    {
      "cell_type": "markdown",
      "source": [
        "* Break programs down into functions to make them easier to understand.\n",
        "* Define a function using `def` with a name, parameters, and a block of code.\n",
        "* Defining a function does not run it.\n",
        "* Arguments in the function call are matched to the parameters in the function definition.\n",
        "* You can explicitly define keyword parameters to functions that contain default values.\n",
        "* Functions may return a result to their caller using `return`."
      ],
      "metadata": {
        "id": "br7QFvbvnzDg"
      }
    }
  ]
}