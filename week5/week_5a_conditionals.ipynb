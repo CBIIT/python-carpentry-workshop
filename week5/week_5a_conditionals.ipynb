{
  "nbformat": 4,
  "nbformat_minor": 0,
  "metadata": {
    "colab": {
      "name": "Conditionals.ipynb",
      "provenance": [],
      "collapsed_sections": []
    },
    "kernelspec": {
      "name": "python3",
      "display_name": "Python 3"
    },
    "language_info": {
      "name": "python"
    }
  },
  "cells": [
    {
      "cell_type": "code",
      "execution_count": 2,
      "metadata": {
        "colab": {
          "base_uri": "https://localhost:8080/"
        },
        "id": "0YxEGqdpnhMt",
        "outputId": "58147b91-c44c-4fcc-9103-7f8256f1cb21"
      },
      "outputs": [
        {
          "output_type": "stream",
          "name": "stdout",
          "text": [
            "['M', 'a', 'y'] ['M', 'a', 'y'] ['m', 'a', 'y']\n"
          ]
        }
      ],
      "source": [
        "#Entrance quiz\n",
        "old = list('may') #['m', 'a', 'y']\n",
        "new1 = old # Copying the address of \"old\" into \"new1\"\n",
        "new2 = old[:] # \"new2\" allocates new memory to make a copy of the list\n",
        "new1[0] = 'M' # The list pointed to by \"old\" and \"new1\" \n",
        "print(old, new1, new2)"
      ]
    },
    {
      "cell_type": "code",
      "source": [
        "#General structure of if statements\n",
        "if condition:\n",
        "  #Code that executes if condition is True\n",
        "else:\n",
        "  #code that executes if condition is False\n"
      ],
      "metadata": {
        "id": "t9BFsXCztCsr"
      },
      "execution_count": null,
      "outputs": []
    },
    {
      "cell_type": "code",
      "source": [
        "mass = 3.54\n",
        "if mass > 3.0: \n",
        "  print(mass, 'is large')\n",
        "\n",
        "mass = 2.07\n",
        "if mass > 3.0:\n",
        "  print(mass, 'is large')"
      ],
      "metadata": {
        "colab": {
          "base_uri": "https://localhost:8080/"
        },
        "id": "zFu6MWeotkTu",
        "outputId": "321d1190-d88b-42cb-fdc4-3df93ffcf0a5"
      },
      "execution_count": 3,
      "outputs": [
        {
          "output_type": "stream",
          "name": "stdout",
          "text": [
            "3.54 is large\n"
          ]
        }
      ]
    },
    {
      "cell_type": "code",
      "source": [
        "#If statements can be combined with for loops\n",
        "masses = [3.54, 2.07, 9.22, 1.86, 1.71]\n",
        "\n",
        "for m in masses:\n",
        "  if m > 3.0:\n",
        "    print(m, 'is large')"
      ],
      "metadata": {
        "colab": {
          "base_uri": "https://localhost:8080/"
        },
        "id": "gT9p7CyzuC0I",
        "outputId": "582dcb9e-99eb-44ff-bb9e-43cd882a7d12"
      },
      "execution_count": 4,
      "outputs": [
        {
          "output_type": "stream",
          "name": "stdout",
          "text": [
            "3.54 is large\n",
            "9.22 is large\n"
          ]
        }
      ]
    },
    {
      "cell_type": "code",
      "source": [
        "#You can add the else clause in case the expersison evaluates to False\n",
        "masses = [3.54, 2.07, 9.22, 1.86, 1.71]\n",
        "\n",
        "for m in masses:\n",
        "  if m > 3.0:\n",
        "    print(m, 'is large')\n",
        "  else: \n",
        "    print(m, 'is small')"
      ],
      "metadata": {
        "colab": {
          "base_uri": "https://localhost:8080/"
        },
        "id": "ZuThx_UUufuK",
        "outputId": "a84c4621-ab00-4e4c-fa06-a296dadf731f"
      },
      "execution_count": 5,
      "outputs": [
        {
          "output_type": "stream",
          "name": "stdout",
          "text": [
            "3.54 is large\n",
            "2.07 is small\n",
            "9.22 is large\n",
            "1.86 is small\n",
            "1.71 is small\n"
          ]
        }
      ]
    },
    {
      "cell_type": "code",
      "source": [
        "#Or you can nest multipe conditions.\n",
        "masses = [3.54, 2.07, 9.22, 1.86, 1.71]\n",
        "\n",
        "for m in masses:\n",
        "  if m > 9.0:\n",
        "    print(m, 'is HUGE')\n",
        "  elif m > 3.0:\n",
        "    print(m, 'is large')\n",
        "  else: \n",
        "    print(m, 'is small')"
      ],
      "metadata": {
        "colab": {
          "base_uri": "https://localhost:8080/"
        },
        "id": "Y9zg6j6aux_T",
        "outputId": "a78ce38d-a00a-46d1-8865-22b9de32b11f"
      },
      "execution_count": 6,
      "outputs": [
        {
          "output_type": "stream",
          "name": "stdout",
          "text": [
            "3.54 is large\n",
            "2.07 is small\n",
            "9.22 is HUGE\n",
            "1.86 is small\n",
            "1.71 is small\n"
          ]
        }
      ]
    },
    {
      "cell_type": "code",
      "source": [
        "grade = 85\n",
        "if grade >= 90 :\n",
        "  print('grade is A')\n",
        "elif grade >= 80:\n",
        "  print('grade is B')\n",
        "elif grade >= 70:\n",
        "  print('grade is C')"
      ],
      "metadata": {
        "colab": {
          "base_uri": "https://localhost:8080/"
        },
        "id": "YggmKNH2wBOT",
        "outputId": "ce5b4f56-8ccd-4794-aa07-4ef0be1bcc0f"
      },
      "execution_count": 8,
      "outputs": [
        {
          "output_type": "stream",
          "name": "stdout",
          "text": [
            "grade is B\n"
          ]
        }
      ]
    },
    {
      "cell_type": "code",
      "source": [
        "velocity = 10.0\n",
        "if velocity > 20.0:\n",
        "  print('moving too fast')\n",
        "else:\n",
        "  print('adjusting velocity')\n",
        "  velocity = 50.0"
      ],
      "metadata": {
        "colab": {
          "base_uri": "https://localhost:8080/"
        },
        "id": "FWBiaEI3xB3o",
        "outputId": "1c277132-69e0-4ecf-a204-e7d5c17a30b9"
      },
      "execution_count": 9,
      "outputs": [
        {
          "output_type": "stream",
          "name": "stdout",
          "text": [
            "adjusting velocity\n"
          ]
        }
      ]
    },
    {
      "cell_type": "code",
      "source": [
        "#An example of a discrete event simulator that runs for 5 ticks\n",
        "velocity = 10.0\n",
        "for i in range(5):\n",
        "  print(i, ':', velocity)\n",
        "  if velocity > 20.0:\n",
        "    print('moving too fast')\n",
        "    velocity = velocity - 5.0\n",
        "  else: \n",
        "    print('moving too slow')\n",
        "    velocity = velocity + 10.0"
      ],
      "metadata": {
        "colab": {
          "base_uri": "https://localhost:8080/"
        },
        "id": "mzlZ9tetxiJt",
        "outputId": "046d550c-9a43-4bca-9281-f2a51853792c"
      },
      "execution_count": 10,
      "outputs": [
        {
          "output_type": "stream",
          "name": "stdout",
          "text": [
            "0 : 10.0\n",
            "moving too slow\n",
            "1 : 20.0\n",
            "moving too slow\n",
            "2 : 30.0\n",
            "moving too fast\n",
            "3 : 25.0\n",
            "moving too fast\n",
            "4 : 20.0\n",
            "moving too slow\n"
          ]
        }
      ]
    },
    {
      "cell_type": "code",
      "source": [
        "#You logical expresison can combine multiple conditions\n",
        "mass = [3.54, 2.07, 9.22, 1.86, 1.71]\n",
        "velocity = [10.0, 20.0, 30.0, 25.0, 20.0]\n",
        "\n",
        "for i in range(5):\n",
        "  if mass[i] > 5 and velocity[i] > 20:\n",
        "    print(\"Fast heavy object. Duck!\")\n",
        "  elif (mass[i] > 2 and mass[i] <= 5) and velocity[i] <=20:\n",
        "    print(\"Normal traffic\")\n",
        "  elif mass[i] <=2 and velocity[i] <= 20:\n",
        "    print(\"Slow right object. Ignore it\")\n",
        "  else:\n",
        "    print(\"Whoa! Something is up with the data. Check it\")"
      ],
      "metadata": {
        "colab": {
          "base_uri": "https://localhost:8080/"
        },
        "id": "Ga5bDqwfzBwl",
        "outputId": "2437c041-b4e8-44d1-d803-72ba65a11080"
      },
      "execution_count": 12,
      "outputs": [
        {
          "output_type": "stream",
          "name": "stdout",
          "text": [
            "Normal traffic\n",
            "Normal traffic\n",
            "Fast heavy object. Duck!\n",
            "Whoa! Something is up with the data. Check it\n",
            "Slow right object. Ignore it\n"
          ]
        }
      ]
    },
    {
      "cell_type": "code",
      "source": [
        ""
      ],
      "metadata": {
        "id": "CNT6NYfw0fOQ"
      },
      "execution_count": null,
      "outputs": []
    }
  ]
}
