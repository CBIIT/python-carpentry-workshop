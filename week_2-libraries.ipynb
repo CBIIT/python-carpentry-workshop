{
  "nbformat": 4,
  "nbformat_minor": 0,
  "metadata": {
    "colab": {
      "name": "Libraries.ipynb",
      "provenance": []
    },
    "kernelspec": {
      "name": "python3",
      "display_name": "Python 3"
    },
    "language_info": {
      "name": "python"
    }
  },
  "cells": [
    {
      "cell_type": "code",
      "source": [
        "#Import library into the current script\n",
        "import math"
      ],
      "metadata": {
        "id": "eIZR02ci4alX"
      },
      "execution_count": 1,
      "outputs": []
    },
    {
      "cell_type": "code",
      "source": [
        "#Use a variable from a library\n",
        "print(\"pi is\", math.pi)"
      ],
      "metadata": {
        "colab": {
          "base_uri": "https://localhost:8080/"
        },
        "id": "n5c_Lut-219Z",
        "outputId": "38811a7c-ad40-474d-f20a-62b0f2c10ec2"
      },
      "execution_count": 2,
      "outputs": [
        {
          "output_type": "stream",
          "name": "stdout",
          "text": [
            "pi is 3.141592653589793\n"
          ]
        }
      ]
    },
    {
      "cell_type": "code",
      "source": [
        "#Use a function from the library\n",
        "print(math.cos(math.pi))"
      ],
      "metadata": {
        "colab": {
          "base_uri": "https://localhost:8080/"
        },
        "id": "BVTdgyPe3rMJ",
        "outputId": "9b81c955-2928-4fe2-c532-716e5fa39eec"
      },
      "execution_count": 3,
      "outputs": [
        {
          "output_type": "stream",
          "name": "stdout",
          "text": [
            "-1.0\n"
          ]
        }
      ]
    },
    {
      "cell_type": "code",
      "source": [
        "#Import selected function and variables from the library\n",
        "from math import cos, pi"
      ],
      "metadata": {
        "id": "luxjFZr94MMg"
      },
      "execution_count": 7,
      "outputs": []
    },
    {
      "cell_type": "code",
      "source": [
        "cos(pi) #equivalent to math.cos(math.pi)"
      ],
      "metadata": {
        "colab": {
          "base_uri": "https://localhost:8080/"
        },
        "id": "E58BeeRM4Zj-",
        "outputId": "9ee53c7a-b439-49b0-9922-34403a682aec"
      },
      "execution_count": 8,
      "outputs": [
        {
          "output_type": "execute_result",
          "data": {
            "text/plain": [
              "-1.0"
            ]
          },
          "metadata": {},
          "execution_count": 8
        }
      ]
    },
    {
      "cell_type": "code",
      "source": [
        "#Give an alias to a library name\n",
        "import math as m"
      ],
      "metadata": {
        "id": "xY73LJWe4jwh"
      },
      "execution_count": 9,
      "outputs": []
    },
    {
      "cell_type": "code",
      "source": [
        "m.cos(m.pi) #equivalent to math.cos(math.pi)"
      ],
      "metadata": {
        "colab": {
          "base_uri": "https://localhost:8080/"
        },
        "id": "knGKu8Y04roi",
        "outputId": "8a3db60e-f4c9-4c7a-8944-1820744811ed"
      },
      "execution_count": 10,
      "outputs": [
        {
          "output_type": "execute_result",
          "data": {
            "text/plain": [
              "-1.0"
            ]
          },
          "metadata": {},
          "execution_count": 10
        }
      ]
    },
    {
      "cell_type": "code",
      "source": [
        "#The random library\n",
        "import random"
      ],
      "metadata": {
        "id": "58nJNTkf5gPX"
      },
      "execution_count": 12,
      "outputs": []
    },
    {
      "cell_type": "markdown",
      "source": [
        "In the following exercise, we would like to selecte a random base from the string below and print it"
      ],
      "metadata": {
        "id": "DW9k0x_QA1uy"
      }
    },
    {
      "cell_type": "code",
      "source": [
        "\n",
        "bases=\"ACTTGCTTGAC\""
      ],
      "metadata": {
        "id": "UBuJ_PD05uJc"
      },
      "execution_count": 36,
      "outputs": []
    },
    {
      "cell_type": "code",
      "source": [
        "print(bases[1])"
      ],
      "metadata": {
        "colab": {
          "base_uri": "https://localhost:8080/"
        },
        "id": "WoQbumiY6l70",
        "outputId": "0cbfdbd4-f6be-4613-ca25-f497ae4c71cc"
      },
      "execution_count": 37,
      "outputs": [
        {
          "output_type": "stream",
          "name": "stdout",
          "text": [
            "C\n"
          ]
        }
      ]
    },
    {
      "cell_type": "code",
      "source": [
        "#First I need to know the possible integer indexes for my string\n",
        "n_bases = len(bases)\n",
        "print(n_bases)"
      ],
      "metadata": {
        "colab": {
          "base_uri": "https://localhost:8080/"
        },
        "id": "n3TfacS27QSm",
        "outputId": "0b718960-a5ae-4481-c27d-d87c0a69bfd7"
      },
      "execution_count": 39,
      "outputs": [
        {
          "output_type": "stream",
          "name": "stdout",
          "text": [
            "11\n"
          ]
        }
      ]
    },
    {
      "cell_type": "code",
      "source": [
        "#Generate a random index, your solution might vary\n",
        "random_index = random.randrange(n_bases)\n",
        "print(random_index)"
      ],
      "metadata": {
        "colab": {
          "base_uri": "https://localhost:8080/"
        },
        "id": "yBqp1mLb7oGs",
        "outputId": "3e3166a8-98a5-4973-fca5-e26d6d15d4cf"
      },
      "execution_count": 43,
      "outputs": [
        {
          "output_type": "stream",
          "name": "stdout",
          "text": [
            "0\n"
          ]
        }
      ]
    },
    {
      "cell_type": "code",
      "source": [
        "#Print the random index, and the base at this index. \n",
        "print(\"random base \", bases[random_index], 'at base index ', random_index)"
      ],
      "metadata": {
        "colab": {
          "base_uri": "https://localhost:8080/"
        },
        "id": "hbttiwky7xqX",
        "outputId": "e8f4496c-17da-449e-c006-87226c1407d2"
      },
      "execution_count": 44,
      "outputs": [
        {
          "output_type": "stream",
          "name": "stdout",
          "text": [
            "random base  A at base index  0\n"
          ]
        }
      ]
    }
  ]
}