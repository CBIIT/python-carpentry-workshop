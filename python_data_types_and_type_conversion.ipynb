{
  "nbformat": 4,
  "nbformat_minor": 0,
  "metadata": {
    "colab": {
      "name": "python_data_types_and_type_conversion.ipynb",
      "provenance": [],
      "collapsed_sections": [],
      "authorship_tag": "ABX9TyOW0LORWORD60qrPns1U/eS",
      "include_colab_link": true
    },
    "kernelspec": {
      "name": "python3",
      "display_name": "Python 3"
    },
    "language_info": {
      "name": "python"
    }
  },
  "cells": [
    {
      "cell_type": "markdown",
      "metadata": {
        "id": "view-in-github",
        "colab_type": "text"
      },
      "source": [
        "<a href=\"https://colab.research.google.com/github/CBIIT/python-carpentry-workshop/blob/main/python_data_types_and_type_conversion.ipynb\" target=\"_parent\"><img src=\"https://colab.research.google.com/assets/colab-badge.svg\" alt=\"Open In Colab\"/></a>"
      ]
    },
    {
      "cell_type": "markdown",
      "metadata": {
        "id": "VuAppBeGLnN1"
      },
      "source": [
        "# Data Types and Type Conversion\n"
      ]
    },
    {
      "cell_type": "markdown",
      "metadata": {
        "id": "KnC-mnrINQ_u"
      },
      "source": [
        "## Every value has a type"
      ]
    },
    {
      "cell_type": "markdown",
      "metadata": {
        "id": "nrE6MIR_PG0D"
      },
      "source": [
        "- **Integer** (`int`): represents positive, negative, or neutral whole numbers like 3, -5, or 0.\n",
        "- **Floating point number** (`float`): represents real numbers like 3.14159 or -2.5.\n",
        "- **Character string** (`str`): represent text written in either single quotes or double quotes like 'hello'"
      ]
    },
    {
      "cell_type": "markdown",
      "metadata": {
        "id": "FyHEHN9ZNVa6"
      },
      "source": [
        "## Use the built-in function `type` to find the type of a value"
      ]
    },
    {
      "cell_type": "code",
      "metadata": {
        "colab": {
          "base_uri": "https://localhost:8080/"
        },
        "id": "WUNtGkc6dVLq",
        "outputId": "3cbe409e-233d-4643-d945-93a9a9c4368e"
      },
      "source": [
        "print(type(3))"
      ],
      "execution_count": 1,
      "outputs": [
        {
          "output_type": "stream",
          "text": [
            "<class 'int'>\n"
          ],
          "name": "stdout"
        }
      ]
    },
    {
      "cell_type": "code",
      "metadata": {
        "colab": {
          "base_uri": "https://localhost:8080/"
        },
        "id": "8S2y0bgPdgiv",
        "outputId": "d71240c5-a604-4d3a-b529-e4685a6859d9"
      },
      "source": [
        "print(type(-2.5))"
      ],
      "execution_count": 2,
      "outputs": [
        {
          "output_type": "stream",
          "text": [
            "<class 'float'>\n"
          ],
          "name": "stdout"
        }
      ]
    },
    {
      "cell_type": "code",
      "metadata": {
        "colab": {
          "base_uri": "https://localhost:8080/"
        },
        "id": "J-tDbPzCdqxW",
        "outputId": "c3fce417-9a63-4957-de59-3d92467c0c48"
      },
      "source": [
        "print(type('hello'))"
      ],
      "execution_count": 3,
      "outputs": [
        {
          "output_type": "stream",
          "text": [
            "<class 'str'>\n"
          ],
          "name": "stdout"
        }
      ]
    },
    {
      "cell_type": "code",
      "metadata": {
        "colab": {
          "base_uri": "https://localhost:8080/"
        },
        "id": "WvYVaF03dxvH",
        "outputId": "45f974fe-5eb2-4952-a06f-fb1523888fd2"
      },
      "source": [
        "#the built-in function type works on variables as well\n",
        "word = 'hello'\n",
        "print(type(word))"
      ],
      "execution_count": 4,
      "outputs": [
        {
          "output_type": "stream",
          "text": [
            "<class 'str'>\n"
          ],
          "name": "stdout"
        }
      ]
    },
    {
      "cell_type": "markdown",
      "metadata": {
        "id": "2AnYaVtxN2Rl"
      },
      "source": [
        "## Types control what operations can be done on values"
      ]
    },
    {
      "cell_type": "code",
      "metadata": {
        "colab": {
          "base_uri": "https://localhost:8080/"
        },
        "id": "KWchNc33etmn",
        "outputId": "fc31df9a-616d-462f-bf35-22a72a68fe5c"
      },
      "source": [
        "print(5 - 3)"
      ],
      "execution_count": 5,
      "outputs": [
        {
          "output_type": "stream",
          "text": [
            "2\n"
          ],
          "name": "stdout"
        }
      ]
    },
    {
      "cell_type": "code",
      "metadata": {
        "colab": {
          "base_uri": "https://localhost:8080/",
          "height": 167
        },
        "id": "sVHHaJWpewlp",
        "outputId": "6f0440c3-a53e-45bc-def3-7fbf46809425"
      },
      "source": [
        "print('hello' - 'h')"
      ],
      "execution_count": 6,
      "outputs": [
        {
          "output_type": "error",
          "ename": "TypeError",
          "evalue": "ignored",
          "traceback": [
            "\u001b[0;31m---------------------------------------------------------------------------\u001b[0m",
            "\u001b[0;31mTypeError\u001b[0m                                 Traceback (most recent call last)",
            "\u001b[0;32m<ipython-input-6-35e8597b28d6>\u001b[0m in \u001b[0;36m<module>\u001b[0;34m()\u001b[0m\n\u001b[0;32m----> 1\u001b[0;31m \u001b[0mprint\u001b[0m\u001b[0;34m(\u001b[0m\u001b[0;34m'hello'\u001b[0m \u001b[0;34m-\u001b[0m \u001b[0;34m'h'\u001b[0m\u001b[0;34m)\u001b[0m\u001b[0;34m\u001b[0m\u001b[0;34m\u001b[0m\u001b[0m\n\u001b[0m",
            "\u001b[0;31mTypeError\u001b[0m: unsupported operand type(s) for -: 'str' and 'str'"
          ]
        }
      ]
    },
    {
      "cell_type": "markdown",
      "metadata": {
        "id": "xjA57aZoN-1p"
      },
      "source": [
        "## Strings can be added and multiplied"
      ]
    },
    {
      "cell_type": "code",
      "metadata": {
        "colab": {
          "base_uri": "https://localhost:8080/"
        },
        "id": "BhhXQ7ayezxk",
        "outputId": "4fe92a83-1ef5-4b96-865e-dde3fa397771"
      },
      "source": [
        "#“Adding” character strings concatenates them.\n",
        "sequence1 = 'act' + 'cgg'\n",
        "print(sequence1)"
      ],
      "execution_count": 7,
      "outputs": [
        {
          "output_type": "stream",
          "text": [
            "actcgg\n"
          ],
          "name": "stdout"
        }
      ]
    },
    {
      "cell_type": "code",
      "metadata": {
        "colab": {
          "base_uri": "https://localhost:8080/"
        },
        "id": "xd5_YniyfwFC",
        "outputId": "f86098d6-0ebc-4dfd-d61e-8512d4a0c580"
      },
      "source": [
        "#Multiplying a character string by an integer N \n",
        "#creates a new string that consists of that character string repeated N times.\n",
        "sequence2 = 'a' * 10\n",
        "print(sequence2)"
      ],
      "execution_count": 8,
      "outputs": [
        {
          "output_type": "stream",
          "text": [
            "aaaaaaaaaa\n"
          ],
          "name": "stdout"
        }
      ]
    },
    {
      "cell_type": "markdown",
      "metadata": {
        "id": "SwO61_KvPRhp"
      },
      "source": [
        "## Strings have a length but numbers don’t"
      ]
    },
    {
      "cell_type": "code",
      "metadata": {
        "colab": {
          "base_uri": "https://localhost:8080/"
        },
        "id": "dW0USX8lf-sO",
        "outputId": "bf64a5f3-4da6-4fd0-c6f1-a9e5f9d1de1a"
      },
      "source": [
        "#The built-in function len counts the number of characters in a string.\n",
        "print(len('actcgg'))"
      ],
      "execution_count": 11,
      "outputs": [
        {
          "output_type": "stream",
          "text": [
            "10\n"
          ],
          "name": "stdout"
        }
      ]
    },
    {
      "cell_type": "code",
      "metadata": {
        "colab": {
          "base_uri": "https://localhost:8080/",
          "height": 184
        },
        "id": "NEtMeJ17gJ3C",
        "outputId": "9e9a17ef-10b9-41c1-d4bd-d02f75219951"
      },
      "source": [
        "#But numbers don’t have a length (not even zero).\n",
        "print(len(5))"
      ],
      "execution_count": 12,
      "outputs": [
        {
          "output_type": "error",
          "ename": "TypeError",
          "evalue": "ignored",
          "traceback": [
            "\u001b[0;31m---------------------------------------------------------------------------\u001b[0m",
            "\u001b[0;31mTypeError\u001b[0m                                 Traceback (most recent call last)",
            "\u001b[0;32m<ipython-input-12-1b9426f4bcdd>\u001b[0m in \u001b[0;36m<module>\u001b[0;34m()\u001b[0m\n\u001b[1;32m      1\u001b[0m \u001b[0;31m#But numbers don’t have a length (not even zero).\u001b[0m\u001b[0;34m\u001b[0m\u001b[0;34m\u001b[0m\u001b[0;34m\u001b[0m\u001b[0m\n\u001b[0;32m----> 2\u001b[0;31m \u001b[0mprint\u001b[0m\u001b[0;34m(\u001b[0m\u001b[0mlen\u001b[0m\u001b[0;34m(\u001b[0m\u001b[0;36m5\u001b[0m\u001b[0;34m)\u001b[0m\u001b[0;34m)\u001b[0m\u001b[0;34m\u001b[0m\u001b[0;34m\u001b[0m\u001b[0m\n\u001b[0m",
            "\u001b[0;31mTypeError\u001b[0m: object of type 'int' has no len()"
          ]
        }
      ]
    },
    {
      "cell_type": "markdown",
      "metadata": {
        "id": "gUpOSFviP2Eh"
      },
      "source": [
        "## Must convert numbers to strings or vice versa when operating on them"
      ]
    },
    {
      "cell_type": "code",
      "metadata": {
        "colab": {
          "base_uri": "https://localhost:8080/",
          "height": 184
        },
        "id": "FefWNBF9gVHw",
        "outputId": "def09759-34fd-411c-fdef-5833c9976896"
      },
      "source": [
        "#Cannot add numbers and strings.\n",
        "print(1 + '2')"
      ],
      "execution_count": 13,
      "outputs": [
        {
          "output_type": "error",
          "ename": "TypeError",
          "evalue": "ignored",
          "traceback": [
            "\u001b[0;31m---------------------------------------------------------------------------\u001b[0m",
            "\u001b[0;31mTypeError\u001b[0m                                 Traceback (most recent call last)",
            "\u001b[0;32m<ipython-input-13-a1e3b0363826>\u001b[0m in \u001b[0;36m<module>\u001b[0;34m()\u001b[0m\n\u001b[1;32m      1\u001b[0m \u001b[0;31m#Cannot add numbers and strings.\u001b[0m\u001b[0;34m\u001b[0m\u001b[0;34m\u001b[0m\u001b[0;34m\u001b[0m\u001b[0m\n\u001b[0;32m----> 2\u001b[0;31m \u001b[0mprint\u001b[0m\u001b[0;34m(\u001b[0m\u001b[0;36m1\u001b[0m \u001b[0;34m+\u001b[0m \u001b[0;34m'2'\u001b[0m\u001b[0;34m)\u001b[0m\u001b[0;34m\u001b[0m\u001b[0;34m\u001b[0m\u001b[0m\n\u001b[0m",
            "\u001b[0;31mTypeError\u001b[0m: unsupported operand type(s) for +: 'int' and 'str'"
          ]
        }
      ]
    },
    {
      "cell_type": "code",
      "metadata": {
        "id": "a7vjb600gXsH"
      },
      "source": [
        "#Some types can be converted to other types by using the type name as a function.\n",
        "print(1 + int('2'))\n",
        "print(str(1) + '2')"
      ],
      "execution_count": null,
      "outputs": []
    },
    {
      "cell_type": "markdown",
      "metadata": {
        "id": "C6OKM6FWYuDY"
      },
      "source": [
        "### Exercise: Strings to Numbers\n",
        "\n",
        "Where reasonable, `float()` will convert a string to a floating point number, and `int()` will convert a floating point number to an integer:\n"
      ]
    },
    {
      "cell_type": "code",
      "metadata": {
        "id": "HlgtkoX_gmEf"
      },
      "source": [
        "type(\"3.4\")\n",
        "type(float(\"3.4\"))"
      ],
      "execution_count": null,
      "outputs": []
    },
    {
      "cell_type": "code",
      "metadata": {
        "id": "J3u808HxlESo"
      },
      "source": [
        "int(3.4)"
      ],
      "execution_count": null,
      "outputs": []
    },
    {
      "cell_type": "code",
      "metadata": {
        "id": "D5ycTkqFgtVd"
      },
      "source": [
        "#If the conversion doesn’t make sense, however, an error message will occur\n",
        "print(\"string to float:\", float(\"hello\"))"
      ],
      "execution_count": null,
      "outputs": []
    },
    {
      "cell_type": "markdown",
      "metadata": {
        "id": "flrg0Vrtg4Ds"
      },
      "source": [
        "Given this information, what do you expect the following program to do? What does it actually do? Why do you think it does that?\n",
        "\n",
        "`print(\"fractional string to int:\", int(\"3.4\"))`"
      ]
    },
    {
      "cell_type": "code",
      "metadata": {
        "id": "Ysj6HFEfThhb"
      },
      "source": [
        "int(\"3.4\")"
      ],
      "execution_count": null,
      "outputs": []
    },
    {
      "cell_type": "markdown",
      "metadata": {
        "id": "T6lJkckeP3o5"
      },
      "source": [
        "## Can mix integers and floats freely in operations"
      ]
    },
    {
      "cell_type": "code",
      "metadata": {
        "id": "nx46kXT6hja7"
      },
      "source": [
        "print('half is', 1 / 2.0)\n",
        "print('three squared is', 3.0 ** 2)"
      ],
      "execution_count": null,
      "outputs": []
    },
    {
      "cell_type": "markdown",
      "metadata": {
        "id": "HUahJj1gaNOV"
      },
      "source": [
        "### Exercise: Arithmetic with Different Types\n",
        "\n",
        "Which of the following will return the floating point number 2.0? Note: there may be more than one right answer.\n",
        "```\n",
        "first = 1.0\n",
        "second = \"1\"\n",
        "third = \"1.1\"\n",
        "```\n",
        "1. `first + float(second)`\n",
        "2. `float(second) + float(third)`\n",
        "3. `first + int(third)`\n",
        "4. `first + int(float(third))`\n",
        "5. `int(first) + int(float(third))`\n",
        "6. `2.0 * second`"
      ]
    },
    {
      "cell_type": "markdown",
      "metadata": {
        "id": "W60LpoHnP6Qx"
      },
      "source": [
        "## Variables only change value when something is assigned to them"
      ]
    },
    {
      "cell_type": "code",
      "metadata": {
        "id": "roGvhl4vh9px"
      },
      "source": [
        "first = 1\n",
        "second = 5 * first\n",
        "first = 2\n",
        "print('first is', first, 'and second is', second)"
      ],
      "execution_count": null,
      "outputs": []
    },
    {
      "cell_type": "markdown",
      "metadata": {
        "id": "GkqR28aIWKPQ"
      },
      "source": [
        "## Homework"
      ]
    },
    {
      "cell_type": "markdown",
      "metadata": {
        "id": "_nfgIO-UW1Y8"
      },
      "source": [
        "### Exercise: Choose a Type\n",
        "\n",
        "What type of value (integer, floating point number, or character string) would you use to represent each of the following? Try to come up with more than one good answer for each problem. For example, in # 1, when would counting days with a floating point variable make more sense than using an integer?\n",
        "1. Number of days since the start of the year.\n",
        "2. Time elapsed from the start of the year until now in days.\n",
        "3. Serial number of a piece of lab equipment.\n",
        "4. A lab specimen’s age\n",
        "5. Current population of a city.\n",
        "6. Average population of a city over time."
      ]
    },
    {
      "cell_type": "markdown",
      "metadata": {
        "id": "qBggSgSCXG6j"
      },
      "source": [
        "### Exercise: Division Types\n",
        "\n",
        "In Python 3, the `//` operator performs integer (whole-number) floor division, the `/` operator performs floating-point division, and the `%`**bold text** (or modulo) operator calculates and returns the remainder from integer division"
      ]
    },
    {
      "cell_type": "code",
      "metadata": {
        "id": "7yJT6fndU15O"
      },
      "source": [
        "print('5 // 3:', 5 // 3)\n",
        "print('5 / 3:', 5 / 3)\n",
        "print('5 % 3:', 5 % 3)"
      ],
      "execution_count": null,
      "outputs": []
    },
    {
      "cell_type": "markdown",
      "metadata": {
        "id": "BLWsPUx9U9Po"
      },
      "source": [
        "\n",
        "If `num_subjects` is the number of subjects taking part in a study, and `num_per_survey` is the number that can take part in a single survey, write an expression that calculates the number of surveys needed to reach everyone once."
      ]
    },
    {
      "cell_type": "markdown",
      "metadata": {
        "id": "gRQ25RSGchyK"
      },
      "source": [
        "### Exercise: Complex Numbers\n",
        "\n",
        "Python provides complex numbers, which are written as `1.0+2.0j`. If `val` is a complex number, its real and imaginary parts can be accessed using dot notation as `val.real` and `val.imag`.`"
      ]
    },
    {
      "cell_type": "code",
      "metadata": {
        "id": "SDusZe-sc0fk"
      },
      "source": [
        "complex = 6 + 2j\n",
        "print(complex.real)\n",
        "print(complex.imag)"
      ],
      "execution_count": null,
      "outputs": []
    },
    {
      "cell_type": "markdown",
      "metadata": {
        "id": "9cA_l-Owc2lr"
      },
      "source": [
        "1. Why do you think Python uses j instead of i for the imaginary part?\n",
        "2. What do you expect 1+2j + 3 to produce?\n",
        "3. What do you expect 4j to be? What about 4 j or 4 + j?"
      ]
    }
  ]
}