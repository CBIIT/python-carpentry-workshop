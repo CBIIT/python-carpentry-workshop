{
  "nbformat": 4,
  "nbformat_minor": 0,
  "metadata": {
    "colab": {
      "name": "python_reading_tabular_data_into_dataframes.ipynb",
      "provenance": [],
      "authorship_tag": "ABX9TyPZxWf26XKlRBMrWCvZ+gQA",
      "include_colab_link": true
    },
    "kernelspec": {
      "name": "python3",
      "display_name": "Python 3"
    },
    "language_info": {
      "name": "python"
    }
  },
  "cells": [
    {
      "cell_type": "markdown",
      "metadata": {
        "id": "view-in-github",
        "colab_type": "text"
      },
      "source": [
        "<a href=\"https://colab.research.google.com/github/CBIIT/python-carpentry-workshop/blob/main/python_reading_tabular_data_into_dataframes.ipynb\" target=\"_parent\"><img src=\"https://colab.research.google.com/assets/colab-badge.svg\" alt=\"Open In Colab\"/></a>"
      ]
    },
    {
      "cell_type": "markdown",
      "metadata": {
        "id": "GTSKa4JrqlmV"
      },
      "source": [
        "# Reading Tabular Data into DataFrames"
      ]
    },
    {
      "cell_type": "markdown",
      "metadata": {
        "id": "VS5sD2Qdqr8B"
      },
      "source": [
        "## Use the Pandas library to do statistics on tabular data"
      ]
    },
    {
      "cell_type": "markdown",
      "metadata": {
        "id": "FhybKDuvqkJQ"
      },
      "source": [
        "- Pandas is a widely-used Python library for statistics, particularly on tabular data.\n",
        "- Borrows many features from R’s dataframes.\n",
        "- Load it with `import pandas as pd`. The alias pd is commonly used for Pandas.\n",
        "- Read a Comma Separated Values (CSV) data file with `pd.read_csv`."
      ]
    },
    {
      "cell_type": "code",
      "metadata": {
        "colab": {
          "base_uri": "https://localhost:8080/"
        },
        "id": "JvbapTo3iM5M",
        "outputId": "6ce1b188-4238-4f44-b1e6-faacaff3679b"
      },
      "source": [
        "import pandas as pd\n",
        "\n",
        "#GDP per capita/person in different countries of Oceania from 1952 to 2007https://raw.githubusercontent.com/CBIIT/python-carpentry-workshop/main/week3/gapminder_gdp_oceania.csv'\n",
        "data = pd.read_csv(')\n",
        "print(type(data))"
      ],
      "execution_count": null,
      "outputs": [
        {
          "output_type": "stream",
          "text": [
            "<class 'pandas.core.frame.DataFrame'>\n"
          ],
          "name": "stdout"
        }
      ]
    },
    {
      "cell_type": "code",
      "metadata": {
        "colab": {
          "base_uri": "https://localhost:8080/",
          "height": 233
        },
        "id": "m6EqxSzHtVpj",
        "outputId": "4cc4ef49-3d47-4a6e-d571-3436415ef1bf"
      },
      "source": [
        "print(data)\n",
        "data.head()\n",
        "# The columns in a dataframe are the observed variables, and the rows are the observations."
      ],
      "execution_count": null,
      "outputs": [
        {
          "output_type": "stream",
          "text": [
            "       country  gdpPercap_1952  ...  gdpPercap_2002  gdpPercap_2007\n",
            "0    Australia     10039.59564  ...     30687.75473     34435.36744\n",
            "1  New Zealand     10556.57566  ...     23189.80135     25185.00911\n",
            "\n",
            "[2 rows x 13 columns]\n"
          ],
          "name": "stdout"
        },
        {
          "output_type": "execute_result",
          "data": {
            "text/html": [
              "<div>\n",
              "<style scoped>\n",
              "    .dataframe tbody tr th:only-of-type {\n",
              "        vertical-align: middle;\n",
              "    }\n",
              "\n",
              "    .dataframe tbody tr th {\n",
              "        vertical-align: top;\n",
              "    }\n",
              "\n",
              "    .dataframe thead th {\n",
              "        text-align: right;\n",
              "    }\n",
              "</style>\n",
              "<table border=\"1\" class=\"dataframe\">\n",
              "  <thead>\n",
              "    <tr style=\"text-align: right;\">\n",
              "      <th></th>\n",
              "      <th>country</th>\n",
              "      <th>gdpPercap_1952</th>\n",
              "      <th>gdpPercap_1957</th>\n",
              "      <th>gdpPercap_1962</th>\n",
              "      <th>gdpPercap_1967</th>\n",
              "      <th>gdpPercap_1972</th>\n",
              "      <th>gdpPercap_1977</th>\n",
              "      <th>gdpPercap_1982</th>\n",
              "      <th>gdpPercap_1987</th>\n",
              "      <th>gdpPercap_1992</th>\n",
              "      <th>gdpPercap_1997</th>\n",
              "      <th>gdpPercap_2002</th>\n",
              "      <th>gdpPercap_2007</th>\n",
              "    </tr>\n",
              "  </thead>\n",
              "  <tbody>\n",
              "    <tr>\n",
              "      <th>0</th>\n",
              "      <td>Australia</td>\n",
              "      <td>10039.59564</td>\n",
              "      <td>10949.64959</td>\n",
              "      <td>12217.22686</td>\n",
              "      <td>14526.12465</td>\n",
              "      <td>16788.62948</td>\n",
              "      <td>18334.19751</td>\n",
              "      <td>19477.00928</td>\n",
              "      <td>21888.88903</td>\n",
              "      <td>23424.76683</td>\n",
              "      <td>26997.93657</td>\n",
              "      <td>30687.75473</td>\n",
              "      <td>34435.36744</td>\n",
              "    </tr>\n",
              "    <tr>\n",
              "      <th>1</th>\n",
              "      <td>New Zealand</td>\n",
              "      <td>10556.57566</td>\n",
              "      <td>12247.39532</td>\n",
              "      <td>13175.67800</td>\n",
              "      <td>14463.91893</td>\n",
              "      <td>16046.03728</td>\n",
              "      <td>16233.71770</td>\n",
              "      <td>17632.41040</td>\n",
              "      <td>19007.19129</td>\n",
              "      <td>18363.32494</td>\n",
              "      <td>21050.41377</td>\n",
              "      <td>23189.80135</td>\n",
              "      <td>25185.00911</td>\n",
              "    </tr>\n",
              "  </tbody>\n",
              "</table>\n",
              "</div>"
            ],
            "text/plain": [
              "       country  gdpPercap_1952  ...  gdpPercap_2002  gdpPercap_2007\n",
              "0    Australia     10039.59564  ...     30687.75473     34435.36744\n",
              "1  New Zealand     10556.57566  ...     23189.80135     25185.00911\n",
              "\n",
              "[2 rows x 13 columns]"
            ]
          },
          "metadata": {
            "tags": []
          },
          "execution_count": 19
        }
      ]
    },
    {
      "cell_type": "markdown",
      "metadata": {
        "id": "YOyCQUUZt5Mg"
      },
      "source": [
        "## Use `index_col` to specify that a column’s values should be used as row headings"
      ]
    },
    {
      "cell_type": "markdown",
      "metadata": {
        "id": "c3eIEpvRu08f"
      },
      "source": [
        "- Row headings are numbers (0 and 1 in this case).\n",
        "- Want to index by country.\n",
        "- Pass the name of the column to `read_csv` as its `index_col` parameter to do this."
      ]
    },
    {
      "cell_type": "code",
      "metadata": {
        "colab": {
          "base_uri": "https://localhost:8080/"
        },
        "id": "OKQTGh8LvOJ-",
        "outputId": "65f199c1-e2dd-49db-8025-fdabbf2c0baa"
      },
      "source": [
        "data = pd.read_csv('https://raw.githubusercontent.com/CBIIT/python-carpentry-workshop/main/week3/gapminder_gdp_oceania.csv',\n",
        "                   index_col='country')\n",
        "\n",
        "print(data)"
      ],
      "execution_count": null,
      "outputs": [
        {
          "output_type": "stream",
          "text": [
            "             gdpPercap_1952  gdpPercap_1957  ...  gdpPercap_2002  gdpPercap_2007\n",
            "country                                      ...                                \n",
            "Australia       10039.59564     10949.64959  ...     30687.75473     34435.36744\n",
            "New Zealand     10556.57566     12247.39532  ...     23189.80135     25185.00911\n",
            "\n",
            "[2 rows x 12 columns]\n"
          ],
          "name": "stdout"
        }
      ]
    },
    {
      "cell_type": "markdown",
      "metadata": {
        "id": "P1H429nRyTW8"
      },
      "source": [
        "## Use the `DataFrame.info()` method to find out more about a dataframe"
      ]
    },
    {
      "cell_type": "code",
      "metadata": {
        "colab": {
          "base_uri": "https://localhost:8080/"
        },
        "id": "O5i3pA9XyelK",
        "outputId": "7fc87af8-4b51-4038-f269-a0ce9aa6902f"
      },
      "source": [
        "data.info()"
      ],
      "execution_count": null,
      "outputs": [
        {
          "output_type": "stream",
          "text": [
            "<class 'pandas.core.frame.DataFrame'>\n",
            "Index: 2 entries, Australia to New Zealand\n",
            "Data columns (total 12 columns):\n",
            " #   Column          Non-Null Count  Dtype  \n",
            "---  ------          --------------  -----  \n",
            " 0   gdpPercap_1952  2 non-null      float64\n",
            " 1   gdpPercap_1957  2 non-null      float64\n",
            " 2   gdpPercap_1962  2 non-null      float64\n",
            " 3   gdpPercap_1967  2 non-null      float64\n",
            " 4   gdpPercap_1972  2 non-null      float64\n",
            " 5   gdpPercap_1977  2 non-null      float64\n",
            " 6   gdpPercap_1982  2 non-null      float64\n",
            " 7   gdpPercap_1987  2 non-null      float64\n",
            " 8   gdpPercap_1992  2 non-null      float64\n",
            " 9   gdpPercap_1997  2 non-null      float64\n",
            " 10  gdpPercap_2002  2 non-null      float64\n",
            " 11  gdpPercap_2007  2 non-null      float64\n",
            "dtypes: float64(12)\n",
            "memory usage: 288.0+ bytes\n"
          ],
          "name": "stdout"
        }
      ]
    },
    {
      "cell_type": "markdown",
      "metadata": {
        "id": "T-vsVGyp4gLm"
      },
      "source": [
        "- This is a DataFrame\n",
        "- Two rows named 'Australia' and 'New Zealand'\n",
        "- Twelve columns, each of which has two actual 64-bit floating point values.\n",
        "- Uses 208 bytes of memory."
      ]
    },
    {
      "cell_type": "markdown",
      "metadata": {
        "id": "rvYnOugq4q7D"
      },
      "source": [
        "## The `DataFrame.columns` variable stores information about the dataframe’s columns"
      ]
    },
    {
      "cell_type": "markdown",
      "metadata": {
        "id": "I8hn7sDp5vx3"
      },
      "source": [
        "- Note that this is data, not a method. (It doesn’t have parentheses.)\n",
        "- Called a **member variable**, or just member.\n",
        "  - a variable that is associated with a specific object, and accessible for all its methods (member functions)"
      ]
    },
    {
      "cell_type": "code",
      "metadata": {
        "colab": {
          "base_uri": "https://localhost:8080/"
        },
        "id": "7Iq53xg86P8l",
        "outputId": "da1b263a-2b94-47a6-ae11-095ea3b155e6"
      },
      "source": [
        "print(data.columns)"
      ],
      "execution_count": null,
      "outputs": [
        {
          "output_type": "stream",
          "text": [
            "Index(['gdpPercap_1952', 'gdpPercap_1957', 'gdpPercap_1962', 'gdpPercap_1967',\n",
            "       'gdpPercap_1972', 'gdpPercap_1977', 'gdpPercap_1982', 'gdpPercap_1987',\n",
            "       'gdpPercap_1992', 'gdpPercap_1997', 'gdpPercap_2002', 'gdpPercap_2007'],\n",
            "      dtype='object')\n"
          ],
          "name": "stdout"
        }
      ]
    },
    {
      "cell_type": "markdown",
      "metadata": {
        "id": "gNDJPdau6TCM"
      },
      "source": [
        "## Use `DataFrame.T` to transpose a dataframe"
      ]
    },
    {
      "cell_type": "markdown",
      "metadata": {
        "id": "pwVNWzQn6ebj"
      },
      "source": [
        "- Want to treat columns as rows and vice versa.\n",
        "- Transpose doesn’t copy the data, just changes the program’s view of it.\n",
        "- Like `columns`, it is a **member variable**."
      ]
    },
    {
      "cell_type": "code",
      "metadata": {
        "colab": {
          "base_uri": "https://localhost:8080/"
        },
        "id": "Aw5N-E6I7BdG",
        "outputId": "cfea3480-7e14-4655-83c5-56e66b903519"
      },
      "source": [
        "print(data.T)"
      ],
      "execution_count": null,
      "outputs": [
        {
          "output_type": "stream",
          "text": [
            "country           Australia  New Zealand\n",
            "gdpPercap_1952  10039.59564  10556.57566\n",
            "gdpPercap_1957  10949.64959  12247.39532\n",
            "gdpPercap_1962  12217.22686  13175.67800\n",
            "gdpPercap_1967  14526.12465  14463.91893\n",
            "gdpPercap_1972  16788.62948  16046.03728\n",
            "gdpPercap_1977  18334.19751  16233.71770\n",
            "gdpPercap_1982  19477.00928  17632.41040\n",
            "gdpPercap_1987  21888.88903  19007.19129\n",
            "gdpPercap_1992  23424.76683  18363.32494\n",
            "gdpPercap_1997  26997.93657  21050.41377\n",
            "gdpPercap_2002  30687.75473  23189.80135\n",
            "gdpPercap_2007  34435.36744  25185.00911\n"
          ],
          "name": "stdout"
        }
      ]
    },
    {
      "cell_type": "markdown",
      "metadata": {
        "id": "joqsgrT07JWo"
      },
      "source": [
        "## Use `DataFrame.describe()` to get summary statistics about data."
      ]
    },
    {
      "cell_type": "markdown",
      "metadata": {
        "id": "xNHKhE3r8bVu"
      },
      "source": [
        "- `DataFrame.describe()` gets the summary statistics of only the columns that have numerical data. All other columns are ignored, unless you use the argument `include='all'`."
      ]
    },
    {
      "cell_type": "code",
      "metadata": {
        "colab": {
          "base_uri": "https://localhost:8080/"
        },
        "id": "WL4sgaJx8oqP",
        "outputId": "5f504e6d-e3fc-4387-b31e-fb68c81b4eb6"
      },
      "source": [
        "print(data.describe())"
      ],
      "execution_count": null,
      "outputs": [
        {
          "output_type": "stream",
          "text": [
            "       gdpPercap_1952  gdpPercap_1957  ...  gdpPercap_2002  gdpPercap_2007\n",
            "count        2.000000        2.000000  ...        2.000000        2.000000\n",
            "mean     10298.085650    11598.522455  ...    26938.778040    29810.188275\n",
            "std        365.560078      917.644806  ...     5301.853680     6540.991104\n",
            "min      10039.595640    10949.649590  ...    23189.801350    25185.009110\n",
            "25%      10168.840645    11274.086022  ...    25064.289695    27497.598692\n",
            "50%      10298.085650    11598.522455  ...    26938.778040    29810.188275\n",
            "75%      10427.330655    11922.958888  ...    28813.266385    32122.777857\n",
            "max      10556.575660    12247.395320  ...    30687.754730    34435.367440\n",
            "\n",
            "[8 rows x 12 columns]\n"
          ],
          "name": "stdout"
        },
        {
          "output_type": "execute_result",
          "data": {
            "text/plain": [
              "pandas.core.frame.DataFrame"
            ]
          },
          "metadata": {
            "tags": []
          },
          "execution_count": 27
        }
      ]
    },
    {
      "cell_type": "markdown",
      "metadata": {
        "id": "NnMT-fIT_mZP"
      },
      "source": [
        "## Homework"
      ]
    },
    {
      "cell_type": "markdown",
      "metadata": {
        "id": "5yXaNvvY-EEw"
      },
      "source": [
        "### Exercise: Writing Data\n",
        "\n",
        "As well as the `read_csv` function for reading data from a file, Pandas provides a `to_csv` function to write dataframes to files. Applying what you’ve learned about reading from files, write the dataframe `data` to a file called `processed.csv`. You can use `help` to get information on how to use `to_csv`."
      ]
    },
    {
      "cell_type": "markdown",
      "metadata": {
        "id": "32qnMhIc_VYQ"
      },
      "source": [
        "### Exercise: Reading Other Data\n",
        "\n",
        "Read the data in `gapminder_gdp_americas.csv` (which is stored at https://raw.githubusercontent.com/swcarpentry/python-novice-gapminder/gh-pages/data/gapminder_gdp_americas.csv) into a variable called `americas` and display its summary statistics."
      ]
    },
    {
      "cell_type": "markdown",
      "metadata": {
        "id": "iKSshUyQBEGs"
      },
      "source": [
        "### Exercise: Inspecting Data\n",
        "\n",
        "After reading the data for the Americas, use `help(americas.head)` and `help(americas.tail)` to find out what `DataFrame.head` and `DataFrame.tail` do.\n",
        "\n",
        "1. What method call will display the first three rows of this data?\n",
        "2. What method call will display the last three columns of this data? (Hint: you may need to change your view of the data.)"
      ]
    }
  ]
}