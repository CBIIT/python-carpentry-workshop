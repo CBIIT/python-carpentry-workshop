{
  "nbformat": 4,
  "nbformat_minor": 0,
  "metadata": {
    "colab": {
      "name": "python_for_loops.ipynb",
      "provenance": [],
      "include_colab_link": true
    },
    "kernelspec": {
      "name": "python3",
      "display_name": "Python 3"
    },
    "language_info": {
      "name": "python"
    }
  },
  "cells": [
    {
      "cell_type": "markdown",
      "metadata": {
        "id": "view-in-github",
        "colab_type": "text"
      },
      "source": [
        "<a href=\"https://colab.research.google.com/github/CBIIT/python-carpentry-workshop/blob/main/python_for_loops.ipynb\" target=\"_parent\"><img src=\"https://colab.research.google.com/assets/colab-badge.svg\" alt=\"Open In Colab\"/></a>"
      ]
    },
    {
      "cell_type": "markdown",
      "metadata": {
        "id": "AzvwsiMWHcTo"
      },
      "source": [
        "# For Loops"
      ]
    },
    {
      "cell_type": "markdown",
      "metadata": {
        "id": "xQN_dr7gHu4F"
      },
      "source": [
        "## A for loop executes commands once for each value in a collection"
      ]
    },
    {
      "cell_type": "code",
      "metadata": {
        "id": "wqXl5-NcCAKn"
      },
      "source": [
        "grade0 = 70\n",
        "grade1 = 75\n",
        "grade2 = 50\n",
        "#...\n",
        "grade100 = 30"
      ],
      "execution_count": null,
      "outputs": []
    },
    {
      "cell_type": "code",
      "metadata": {
        "id": "W6nB6OZsCBd7"
      },
      "source": [
        "#Increment all grades by 2\n",
        "grade0 = grade0 + 2\n",
        "grade1 = grade1 + 2\n",
        "grade2 = grade2 + 2\n",
        "#...\n",
        "grade100 = grade100 + 2"
      ],
      "execution_count": null,
      "outputs": []
    },
    {
      "cell_type": "code",
      "metadata": {
        "colab": {
          "base_uri": "https://localhost:8080/"
        },
        "id": "zM1z12BcIIVl",
        "outputId": "3202e467-73f2-47ca-8585-78b99415e283"
      },
      "source": [
        "grades = [70, 75, 50, 30]\n",
        "grades[0] = grades[0] + 2\n",
        "grades[1] = grades[1] + 2\n",
        "#And so on\n",
        "print(grades)"
      ],
      "execution_count": null,
      "outputs": [
        {
          "output_type": "stream",
          "text": [
            "[72, 77, 50, 30]\n"
          ],
          "name": "stdout"
        }
      ]
    },
    {
      "cell_type": "markdown",
      "metadata": {
        "id": "tJCcBZ_-I2dk"
      },
      "source": [
        "## A for loop tells python to execute some statements once fo reach value in a list (collection), character string, or any collection"
      ]
    },
    {
      "cell_type": "code",
      "metadata": {
        "colab": {
          "base_uri": "https://localhost:8080/"
        },
        "id": "VwnBgvpeI_gr",
        "outputId": "0c14365c-9feb-4111-d990-e54007a42a48"
      },
      "source": [
        "for number in [2, 3, 5]: #First line of the for loop has to end with ':'\n",
        "  print(number)\n",
        "  print(number * 10)\n",
        "print(\"end of for loop\") #This is not part of the body of the for loop"
      ],
      "execution_count": null,
      "outputs": [
        {
          "output_type": "stream",
          "text": [
            "2\n",
            "20\n",
            "3\n",
            "30\n",
            "5\n",
            "50\n",
            "end of for loop\n"
          ],
          "name": "stdout"
        }
      ]
    },
    {
      "cell_type": "code",
      "metadata": {
        "colab": {
          "base_uri": "https://localhost:8080/",
          "height": 132
        },
        "id": "CzavB6loKgN9",
        "outputId": "1484d50d-4ad6-4214-ed03-e96182cceb62"
      },
      "source": [
        " #First line of the for loop has to end with ':'\n",
        "for number in [2, 3, 5]\n",
        "  print(number)\n",
        "  print(number * 10)"
      ],
      "execution_count": null,
      "outputs": [
        {
          "output_type": "error",
          "ename": "SyntaxError",
          "evalue": "ignored",
          "traceback": [
            "\u001b[0;36m  File \u001b[0;32m\"<ipython-input-20-04315a25892b>\"\u001b[0;36m, line \u001b[0;32m2\u001b[0m\n\u001b[0;31m    for number in [2, 3, 5]\u001b[0m\n\u001b[0m                           ^\u001b[0m\n\u001b[0;31mSyntaxError\u001b[0m\u001b[0;31m:\u001b[0m invalid syntax\n"
          ]
        }
      ]
    },
    {
      "cell_type": "code",
      "metadata": {
        "colab": {
          "base_uri": "https://localhost:8080/",
          "height": 132
        },
        "id": "OxVbT6gWKlBF",
        "outputId": "130ec868-ef1e-40ac-df3a-11cc3402801e"
      },
      "source": [
        " #Body of  the for loop has to be indented\n",
        "for number in [2, 3, 5]:\n",
        "print(number)\n"
      ],
      "execution_count": null,
      "outputs": [
        {
          "output_type": "error",
          "ename": "IndentationError",
          "evalue": "ignored",
          "traceback": [
            "\u001b[0;36m  File \u001b[0;32m\"<ipython-input-18-c7f0b7bf9005>\"\u001b[0;36m, line \u001b[0;32m3\u001b[0m\n\u001b[0;31m    print(number)\u001b[0m\n\u001b[0m        ^\u001b[0m\n\u001b[0;31mIndentationError\u001b[0m\u001b[0;31m:\u001b[0m expected an indented block\n"
          ]
        }
      ]
    },
    {
      "cell_type": "code",
      "metadata": {
        "colab": {
          "base_uri": "https://localhost:8080/",
          "height": 132
        },
        "id": "oImWPuj1K14_",
        "outputId": "85db01af-2c99-47d5-fb5d-e6480c439c57"
      },
      "source": [
        "# Indentation is important in python\n",
        "first_name = \"John\"\n",
        "  last_name = \"Smith\""
      ],
      "execution_count": null,
      "outputs": [
        {
          "output_type": "error",
          "ename": "IndentationError",
          "evalue": "ignored",
          "traceback": [
            "\u001b[0;36m  File \u001b[0;32m\"<ipython-input-19-78ed649f03ff>\"\u001b[0;36m, line \u001b[0;32m3\u001b[0m\n\u001b[0;31m    last_name = \"Smith\"\u001b[0m\n\u001b[0m    ^\u001b[0m\n\u001b[0;31mIndentationError\u001b[0m\u001b[0;31m:\u001b[0m unexpected indent\n"
          ]
        }
      ]
    },
    {
      "cell_type": "markdown",
      "metadata": {
        "id": "cTeB63-OLUdK"
      },
      "source": [
        "## The body of a for loop can contain as many statements as needed"
      ]
    },
    {
      "cell_type": "code",
      "metadata": {
        "colab": {
          "base_uri": "https://localhost:8080/"
        },
        "id": "4MBl5OEcLR_3",
        "outputId": "0e342955-009c-45d9-cc64-44f11f291ac1"
      },
      "source": [
        "primes = [2, 3, 5]\n",
        "for p in primes:\n",
        "  squared = p ** 2\n",
        "  cubed = p ** 3\n",
        "  print(p, squared, cubed)"
      ],
      "execution_count": null,
      "outputs": [
        {
          "output_type": "stream",
          "text": [
            "2 4 8\n",
            "3 9 27\n",
            "5 25 125\n"
          ],
          "name": "stdout"
        }
      ]
    },
    {
      "cell_type": "markdown",
      "metadata": {
        "id": "ttgRyQUKL3ru"
      },
      "source": [
        "## Use range to iterate over a sequence of numbers"
      ]
    },
    {
      "cell_type": "code",
      "metadata": {
        "colab": {
          "base_uri": "https://localhost:8080/"
        },
        "id": "lUswErpbL_rU",
        "outputId": "bf0c5839-25cc-4726-f139-6fab08c65a5a"
      },
      "source": [
        "print('a range is not a list: range(0,3)')\n",
        "for number in range(0, 10):\n",
        "  print('*')\n",
        "  #print(number)"
      ],
      "execution_count": null,
      "outputs": [
        {
          "output_type": "stream",
          "text": [
            "a range is not a list: range(0,3)\n",
            "*\n",
            "*\n",
            "*\n",
            "*\n",
            "*\n",
            "*\n",
            "*\n",
            "*\n",
            "*\n",
            "*\n"
          ],
          "name": "stdout"
        }
      ]
    },
    {
      "cell_type": "markdown",
      "metadata": {
        "id": "6WDB9d9JMq1v"
      },
      "source": [
        "## Exercise\n",
        "Given the grades of the students:\n",
        "grades = [70, 75, 50, 30]\n",
        "Give every student a bonus of 2 using for loops"
      ]
    },
    {
      "cell_type": "code",
      "metadata": {
        "colab": {
          "base_uri": "https://localhost:8080/"
        },
        "id": "Aka3gEfuMXla",
        "outputId": "e86ac059-35cc-49a3-c9c2-3c9d83ad625d"
      },
      "source": [
        "grades = [70, 75, 50, 30, 67]\n",
        "n_students = len(grades)\n",
        "for index in range(0,n_students):\n",
        "  print(index)\n",
        "  grades[index] = grades[index] + 2\n",
        "print(grades)"
      ],
      "execution_count": null,
      "outputs": [
        {
          "output_type": "stream",
          "text": [
            "0\n",
            "1\n",
            "2\n",
            "3\n",
            "4\n",
            "[72, 77, 52, 32, 69]\n"
          ],
          "name": "stdout"
        }
      ]
    },
    {
      "cell_type": "markdown",
      "metadata": {
        "id": "gAcJGTzsSKsV"
      },
      "source": [
        "## Calculate the mean grade of students"
      ]
    },
    {
      "cell_type": "code",
      "metadata": {
        "colab": {
          "base_uri": "https://localhost:8080/"
        },
        "id": "ruYKdg-jSNkg",
        "outputId": "011d49b6-ef0c-4e16-a5c8-f94fc6ac63e7"
      },
      "source": [
        "# Mean = sum(grades) / n_students\n",
        "grades = [70, 75, 50, 30, 67]\n",
        "n_students = len(grades)\n",
        "sum = 0\n",
        "for grade in grades:\n",
        "  sum = sum + grade\n",
        "  print(sum)\n",
        "\n",
        "mean_grade = sum / n_students\n",
        "print(\"Mean grade:\", mean_grade)\n",
        "\n"
      ],
      "execution_count": null,
      "outputs": [
        {
          "output_type": "stream",
          "text": [
            "70\n",
            "145\n",
            "195\n",
            "225\n",
            "292\n",
            "Mean grade: 58.4\n"
          ],
          "name": "stdout"
        }
      ]
    }
  ]
}
