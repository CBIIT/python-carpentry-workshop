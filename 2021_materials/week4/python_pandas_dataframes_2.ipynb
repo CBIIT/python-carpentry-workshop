{
  "nbformat": 4,
  "nbformat_minor": 0,
  "metadata": {
    "colab": {
      "name": "python_pandas_dataframes_2.ipynb",
      "provenance": [],
      "collapsed_sections": [
        "wOMPtRBIPcKm",
        "A4x8ZliQ8BuP"
      ],
      "include_colab_link": true
    },
    "kernelspec": {
      "name": "python3",
      "display_name": "Python 3"
    },
    "language_info": {
      "name": "python"
    }
  },
  "cells": [
    {
      "cell_type": "markdown",
      "metadata": {
        "id": "view-in-github",
        "colab_type": "text"
      },
      "source": [
        "<a href=\"https://colab.research.google.com/github/CBIIT/python-carpentry-workshop/blob/main/python_pandas_dataframes_2.ipynb\" target=\"_parent\"><img src=\"https://colab.research.google.com/assets/colab-badge.svg\" alt=\"Open In Colab\"/></a>"
      ]
    },
    {
      "cell_type": "markdown",
      "metadata": {
        "id": "ko2AvTFP3SHP"
      },
      "source": [
        "# Pandas DataFrames 2"
      ]
    },
    {
      "cell_type": "code",
      "metadata": {
        "id": "vvC0t7poL4eS"
      },
      "source": [
        "import pandas as pd"
      ],
      "execution_count": null,
      "outputs": []
    },
    {
      "cell_type": "code",
      "metadata": {
        "id": "2q7aanIBMG_2"
      },
      "source": [
        "data_europe = pd.read_csv(\"https://raw.githubusercontent.com/swcarpentry/python-novice-gapminder/gh-pages/data/gapminder_gdp_europe.csv\", index_col='country')"
      ],
      "execution_count": null,
      "outputs": []
    },
    {
      "cell_type": "markdown",
      "metadata": {
        "id": "SPEu9iOkOPWQ"
      },
      "source": [
        "## Dataframe object has methods and member variables"
      ]
    },
    {
      "cell_type": "code",
      "metadata": {
        "id": "K-IKre4yObId"
      },
      "source": [
        "data_europe.info()"
      ],
      "execution_count": null,
      "outputs": []
    },
    {
      "cell_type": "code",
      "metadata": {
        "colab": {
          "base_uri": "https://localhost:8080/"
        },
        "id": "ag0zkHzXOOgO",
        "outputId": "f44e3c40-37b5-497c-f2f7-f90147fc068f"
      },
      "source": [
        "type(data_europe)"
      ],
      "execution_count": null,
      "outputs": [
        {
          "output_type": "execute_result",
          "data": {
            "text/plain": [
              "pandas.core.frame.DataFrame"
            ]
          },
          "metadata": {
            "tags": []
          },
          "execution_count": 5
        }
      ]
    },
    {
      "cell_type": "markdown",
      "metadata": {
        "id": "wOMPtRBIPcKm"
      },
      "source": [
        "## Selecting values"
      ]
    },
    {
      "cell_type": "markdown",
      "metadata": {
        "id": "AljZItWCOO3w"
      },
      "source": [
        ""
      ]
    },
    {
      "cell_type": "code",
      "metadata": {
        "colab": {
          "base_uri": "https://localhost:8080/"
        },
        "id": "y-YlgVviPfDx",
        "outputId": "b996c3ec-25d1-43d6-e3b8-ecb5d3cccf55"
      },
      "source": [
        "data_europe.iloc[0, 0]"
      ],
      "execution_count": null,
      "outputs": [
        {
          "output_type": "execute_result",
          "data": {
            "text/plain": [
              "1601.056136"
            ]
          },
          "metadata": {
            "tags": []
          },
          "execution_count": 11
        }
      ]
    },
    {
      "cell_type": "code",
      "metadata": {
        "colab": {
          "base_uri": "https://localhost:8080/"
        },
        "id": "oSyV9w6MQgBy",
        "outputId": "277e07d7-0e1e-4a7f-ae1f-752f5c965ff5"
      },
      "source": [
        "data_europe.loc[\"Albania\", \"gdpPercap_1952\"]"
      ],
      "execution_count": null,
      "outputs": [
        {
          "output_type": "execute_result",
          "data": {
            "text/plain": [
              "1601.056136"
            ]
          },
          "metadata": {
            "tags": []
          },
          "execution_count": 12
        }
      ]
    },
    {
      "cell_type": "code",
      "metadata": {
        "colab": {
          "base_uri": "https://localhost:8080/"
        },
        "id": "tpyV4xWAQulg",
        "outputId": "74a81145-c780-4b54-87e8-e62b029e8bac"
      },
      "source": [
        "data_albania = data_europe.loc[\"Albania\", :]\n",
        "print(type(data_albania))\n",
        "data_albania.describe()\n",
        "data_albania"
      ],
      "execution_count": null,
      "outputs": [
        {
          "output_type": "stream",
          "text": [
            "<class 'pandas.core.series.Series'>\n"
          ],
          "name": "stdout"
        },
        {
          "output_type": "execute_result",
          "data": {
            "text/plain": [
              "gdpPercap_1952    1601.056136\n",
              "gdpPercap_1957    1942.284244\n",
              "gdpPercap_1962    2312.888958\n",
              "gdpPercap_1967    2760.196931\n",
              "gdpPercap_1972    3313.422188\n",
              "gdpPercap_1977    3533.003910\n",
              "gdpPercap_1982    3630.880722\n",
              "gdpPercap_1987    3738.932735\n",
              "gdpPercap_1992    2497.437901\n",
              "gdpPercap_1997    3193.054604\n",
              "gdpPercap_2002    4604.211737\n",
              "gdpPercap_2007    5937.029526\n",
              "Name: Albania, dtype: float64"
            ]
          },
          "metadata": {
            "tags": []
          },
          "execution_count": 18
        }
      ]
    },
    {
      "cell_type": "code",
      "metadata": {
        "colab": {
          "base_uri": "https://localhost:8080/"
        },
        "id": "YBbF2kx8RTjR",
        "outputId": "f021118b-e2a8-4b67-d163-6e91ceeb2d6d"
      },
      "source": [
        "data_1952 = data_europe.loc[:, \"gdpPercap_1952\"]\n",
        "data_1952"
      ],
      "execution_count": null,
      "outputs": [
        {
          "output_type": "execute_result",
          "data": {
            "text/plain": [
              "country\n",
              "Albania                    1601.056136\n",
              "Austria                    6137.076492\n",
              "Belgium                    8343.105127\n",
              "Bosnia and Herzegovina      973.533195\n",
              "Bulgaria                   2444.286648\n",
              "Croatia                    3119.236520\n",
              "Czech Republic             6876.140250\n",
              "Denmark                    9692.385245\n",
              "Finland                    6424.519071\n",
              "France                     7029.809327\n",
              "Germany                    7144.114393\n",
              "Greece                     3530.690067\n",
              "Hungary                    5263.673816\n",
              "Iceland                    7267.688428\n",
              "Ireland                    5210.280328\n",
              "Italy                      4931.404155\n",
              "Montenegro                 2647.585601\n",
              "Netherlands                8941.571858\n",
              "Norway                    10095.421720\n",
              "Poland                     4029.329699\n",
              "Portugal                   3068.319867\n",
              "Romania                    3144.613186\n",
              "Serbia                     3581.459448\n",
              "Slovak Republic            5074.659104\n",
              "Slovenia                   4215.041741\n",
              "Spain                      3834.034742\n",
              "Sweden                     8527.844662\n",
              "Switzerland               14734.232750\n",
              "Turkey                     1969.100980\n",
              "United Kingdom             9979.508487\n",
              "Name: gdpPercap_1952, dtype: float64"
            ]
          },
          "metadata": {
            "tags": []
          },
          "execution_count": 22
        }
      ]
    },
    {
      "cell_type": "markdown",
      "metadata": {
        "id": "a7KcQ4k0R968"
      },
      "source": [
        "## Select multiple columns from the dataframe"
      ]
    },
    {
      "cell_type": "code",
      "metadata": {
        "colab": {
          "base_uri": "https://localhost:8080/",
          "height": 251
        },
        "id": "0lAyveklSBo_",
        "outputId": "12d2924a-f0c9-4b41-d1a6-a2540d712e1e"
      },
      "source": [
        "subset = data_europe.loc[\"Italy\":\"Poland\", 'gdpPercap_1962':'gdpPercap_1972']\n",
        "print(\"type(subset)) is: \", type(subset))\n",
        "subset"
      ],
      "execution_count": null,
      "outputs": [
        {
          "output_type": "stream",
          "text": [
            "type(subset)) is:  <class 'pandas.core.frame.DataFrame'>\n"
          ],
          "name": "stdout"
        },
        {
          "output_type": "execute_result",
          "data": {
            "text/html": [
              "<div>\n",
              "<style scoped>\n",
              "    .dataframe tbody tr th:only-of-type {\n",
              "        vertical-align: middle;\n",
              "    }\n",
              "\n",
              "    .dataframe tbody tr th {\n",
              "        vertical-align: top;\n",
              "    }\n",
              "\n",
              "    .dataframe thead th {\n",
              "        text-align: right;\n",
              "    }\n",
              "</style>\n",
              "<table border=\"1\" class=\"dataframe\">\n",
              "  <thead>\n",
              "    <tr style=\"text-align: right;\">\n",
              "      <th></th>\n",
              "      <th>gdpPercap_1962</th>\n",
              "      <th>gdpPercap_1967</th>\n",
              "      <th>gdpPercap_1972</th>\n",
              "    </tr>\n",
              "    <tr>\n",
              "      <th>country</th>\n",
              "      <th></th>\n",
              "      <th></th>\n",
              "      <th></th>\n",
              "    </tr>\n",
              "  </thead>\n",
              "  <tbody>\n",
              "    <tr>\n",
              "      <th>Italy</th>\n",
              "      <td>8243.582340</td>\n",
              "      <td>10022.401310</td>\n",
              "      <td>12269.273780</td>\n",
              "    </tr>\n",
              "    <tr>\n",
              "      <th>Montenegro</th>\n",
              "      <td>4649.593785</td>\n",
              "      <td>5907.850937</td>\n",
              "      <td>7778.414017</td>\n",
              "    </tr>\n",
              "    <tr>\n",
              "      <th>Netherlands</th>\n",
              "      <td>12790.849560</td>\n",
              "      <td>15363.251360</td>\n",
              "      <td>18794.745670</td>\n",
              "    </tr>\n",
              "    <tr>\n",
              "      <th>Norway</th>\n",
              "      <td>13450.401510</td>\n",
              "      <td>16361.876470</td>\n",
              "      <td>18965.055510</td>\n",
              "    </tr>\n",
              "    <tr>\n",
              "      <th>Poland</th>\n",
              "      <td>5338.752143</td>\n",
              "      <td>6557.152776</td>\n",
              "      <td>8006.506993</td>\n",
              "    </tr>\n",
              "  </tbody>\n",
              "</table>\n",
              "</div>"
            ],
            "text/plain": [
              "             gdpPercap_1962  gdpPercap_1967  gdpPercap_1972\n",
              "country                                                    \n",
              "Italy           8243.582340    10022.401310    12269.273780\n",
              "Montenegro      4649.593785     5907.850937     7778.414017\n",
              "Netherlands    12790.849560    15363.251360    18794.745670\n",
              "Norway         13450.401510    16361.876470    18965.055510\n",
              "Poland          5338.752143     6557.152776     8006.506993"
            ]
          },
          "metadata": {
            "tags": []
          },
          "execution_count": 27
        }
      ]
    },
    {
      "cell_type": "code",
      "metadata": {
        "id": "71-qoudmTssF"
      },
      "source": [
        ""
      ],
      "execution_count": null,
      "outputs": []
    },
    {
      "cell_type": "markdown",
      "metadata": {
        "id": "O7W27eiWStgj"
      },
      "source": [
        "## Use sliced results in further operations"
      ]
    },
    {
      "cell_type": "code",
      "metadata": {
        "colab": {
          "base_uri": "https://localhost:8080/"
        },
        "id": "Ivo8pjTiSzFW",
        "outputId": "a33db30d-3e9e-40ae-d894-58cc600e255d"
      },
      "source": [
        "# Run maximum on rows\n",
        "subset.max(1)"
      ],
      "execution_count": null,
      "outputs": [
        {
          "output_type": "execute_result",
          "data": {
            "text/plain": [
              "country\n",
              "Italy          12269.273780\n",
              "Montenegro      7778.414017\n",
              "Netherlands    18794.745670\n",
              "Norway         18965.055510\n",
              "Poland          8006.506993\n",
              "dtype: float64"
            ]
          },
          "metadata": {
            "tags": []
          },
          "execution_count": 33
        }
      ]
    },
    {
      "cell_type": "code",
      "metadata": {
        "colab": {
          "base_uri": "https://localhost:8080/"
        },
        "id": "sGagFQU6TI_T",
        "outputId": "c3f6b10c-29f8-47a9-f6aa-4866d02f0cd0"
      },
      "source": [
        "subset.min()"
      ],
      "execution_count": null,
      "outputs": [
        {
          "output_type": "execute_result",
          "data": {
            "text/plain": [
              "gdpPercap_1962    4649.593785\n",
              "gdpPercap_1967    5907.850937\n",
              "gdpPercap_1972    7778.414017\n",
              "dtype: float64"
            ]
          },
          "metadata": {
            "tags": []
          },
          "execution_count": 31
        }
      ]
    },
    {
      "cell_type": "code",
      "metadata": {
        "colab": {
          "base_uri": "https://localhost:8080/"
        },
        "id": "yeluR7GyTt80",
        "outputId": "a6b25b42-4955-430e-b0f0-ea99f6970fbb"
      },
      "source": [
        "# Apply method on the returned dataframe in the same line\n",
        "data_europe.loc[\"Italy\":\"Poland\", 'gdpPercap_1962':'gdpPercap_1972'].max()"
      ],
      "execution_count": null,
      "outputs": [
        {
          "output_type": "execute_result",
          "data": {
            "text/plain": [
              "gdpPercap_1962    13450.40151\n",
              "gdpPercap_1967    16361.87647\n",
              "gdpPercap_1972    18965.05551\n",
              "dtype: float64"
            ]
          },
          "metadata": {
            "tags": []
          },
          "execution_count": 34
        }
      ]
    },
    {
      "cell_type": "code",
      "metadata": {
        "id": "0XITFrBmU6OH"
      },
      "source": [
        "help(subset.max)"
      ],
      "execution_count": null,
      "outputs": []
    },
    {
      "cell_type": "code",
      "metadata": {
        "id": "_xNgTUDW7_Um"
      },
      "source": [
        ""
      ],
      "execution_count": null,
      "outputs": []
    },
    {
      "cell_type": "markdown",
      "metadata": {
        "id": "A4x8ZliQ8BuP"
      },
      "source": [
        "## Poll question (Please answer the question in the poll)\n",
        "We will start 11:05"
      ]
    },
    {
      "cell_type": "code",
      "metadata": {
        "id": "7x7U4Gh88FB4"
      },
      "source": [
        "import pandas as pd"
      ],
      "execution_count": null,
      "outputs": []
    },
    {
      "cell_type": "code",
      "metadata": {
        "id": "ajIVKeqF9qaf"
      },
      "source": [
        "s1 = pd.Series([1,2,3], index=[\"A\",\"B\",\"C\"], name='s1')"
      ],
      "execution_count": null,
      "outputs": []
    },
    {
      "cell_type": "code",
      "metadata": {
        "colab": {
          "base_uri": "https://localhost:8080/"
        },
        "id": "uFtfYroN9q9R",
        "outputId": "d5fc6228-d318-4d3f-c49c-756a05caae2f"
      },
      "source": [
        "s1"
      ],
      "execution_count": null,
      "outputs": [
        {
          "output_type": "execute_result",
          "data": {
            "text/plain": [
              "A    1\n",
              "B    2\n",
              "C    3\n",
              "Name: s1, dtype: int64"
            ]
          },
          "metadata": {
            "tags": []
          },
          "execution_count": 3
        }
      ]
    },
    {
      "cell_type": "code",
      "metadata": {
        "colab": {
          "base_uri": "https://localhost:8080/"
        },
        "id": "AHIUC1ZR-LbC",
        "outputId": "a00a2a52-1c58-4fec-abfd-e2e3f8fea656"
      },
      "source": [
        "s2 = pd.Series([3,4,5], index=[\"A\",\"B\",\"C\"], name=\"s2\")\n",
        "s2"
      ],
      "execution_count": null,
      "outputs": [
        {
          "output_type": "execute_result",
          "data": {
            "text/plain": [
              "A    3\n",
              "B    4\n",
              "C    5\n",
              "Name: s2, dtype: int64"
            ]
          },
          "metadata": {
            "tags": []
          },
          "execution_count": 11
        }
      ]
    },
    {
      "cell_type": "code",
      "metadata": {
        "colab": {
          "base_uri": "https://localhost:8080/",
          "height": 136
        },
        "id": "3wVf-zyd-hPX",
        "outputId": "0be96a37-f482-465a-c079-266224ce306a"
      },
      "source": [
        "data = pd.concat([s1, s2], axis = 1)\n",
        "data"
      ],
      "execution_count": null,
      "outputs": [
        {
          "output_type": "execute_result",
          "data": {
            "text/html": [
              "<div>\n",
              "<style scoped>\n",
              "    .dataframe tbody tr th:only-of-type {\n",
              "        vertical-align: middle;\n",
              "    }\n",
              "\n",
              "    .dataframe tbody tr th {\n",
              "        vertical-align: top;\n",
              "    }\n",
              "\n",
              "    .dataframe thead th {\n",
              "        text-align: right;\n",
              "    }\n",
              "</style>\n",
              "<table border=\"1\" class=\"dataframe\">\n",
              "  <thead>\n",
              "    <tr style=\"text-align: right;\">\n",
              "      <th></th>\n",
              "      <th>s1</th>\n",
              "      <th>s2</th>\n",
              "    </tr>\n",
              "  </thead>\n",
              "  <tbody>\n",
              "    <tr>\n",
              "      <th>A</th>\n",
              "      <td>1</td>\n",
              "      <td>3</td>\n",
              "    </tr>\n",
              "    <tr>\n",
              "      <th>B</th>\n",
              "      <td>2</td>\n",
              "      <td>4</td>\n",
              "    </tr>\n",
              "    <tr>\n",
              "      <th>C</th>\n",
              "      <td>3</td>\n",
              "      <td>5</td>\n",
              "    </tr>\n",
              "  </tbody>\n",
              "</table>\n",
              "</div>"
            ],
            "text/plain": [
              "   s1  s2\n",
              "A   1   3\n",
              "B   2   4\n",
              "C   3   5"
            ]
          },
          "metadata": {
            "tags": []
          },
          "execution_count": 12
        }
      ]
    },
    {
      "cell_type": "code",
      "metadata": {
        "id": "XoxXVTgO_0nL"
      },
      "source": [
        "data_europe = pd.read_csv(\"https://raw.githubusercontent.com/swcarpentry/python-novice-gapminder/gh-pages/data/gapminder_gdp_europe.csv\", index_col='country')"
      ],
      "execution_count": null,
      "outputs": []
    },
    {
      "cell_type": "code",
      "metadata": {
        "colab": {
          "base_uri": "https://localhost:8080/",
          "height": 1000
        },
        "id": "iJ8P0br9A6L2",
        "outputId": "2eec1214-3805-4cdf-86a3-dd1985da8ca5"
      },
      "source": [
        "data_europe"
      ],
      "execution_count": null,
      "outputs": [
        {
          "output_type": "execute_result",
          "data": {
            "text/html": [
              "<div>\n",
              "<style scoped>\n",
              "    .dataframe tbody tr th:only-of-type {\n",
              "        vertical-align: middle;\n",
              "    }\n",
              "\n",
              "    .dataframe tbody tr th {\n",
              "        vertical-align: top;\n",
              "    }\n",
              "\n",
              "    .dataframe thead th {\n",
              "        text-align: right;\n",
              "    }\n",
              "</style>\n",
              "<table border=\"1\" class=\"dataframe\">\n",
              "  <thead>\n",
              "    <tr style=\"text-align: right;\">\n",
              "      <th></th>\n",
              "      <th>gdpPercap_1952</th>\n",
              "      <th>gdpPercap_1957</th>\n",
              "      <th>gdpPercap_1962</th>\n",
              "      <th>gdpPercap_1967</th>\n",
              "      <th>gdpPercap_1972</th>\n",
              "      <th>gdpPercap_1977</th>\n",
              "      <th>gdpPercap_1982</th>\n",
              "      <th>gdpPercap_1987</th>\n",
              "      <th>gdpPercap_1992</th>\n",
              "      <th>gdpPercap_1997</th>\n",
              "      <th>gdpPercap_2002</th>\n",
              "      <th>gdpPercap_2007</th>\n",
              "    </tr>\n",
              "    <tr>\n",
              "      <th>country</th>\n",
              "      <th></th>\n",
              "      <th></th>\n",
              "      <th></th>\n",
              "      <th></th>\n",
              "      <th></th>\n",
              "      <th></th>\n",
              "      <th></th>\n",
              "      <th></th>\n",
              "      <th></th>\n",
              "      <th></th>\n",
              "      <th></th>\n",
              "      <th></th>\n",
              "    </tr>\n",
              "  </thead>\n",
              "  <tbody>\n",
              "    <tr>\n",
              "      <th>Albania</th>\n",
              "      <td>1601.056136</td>\n",
              "      <td>1942.284244</td>\n",
              "      <td>2312.888958</td>\n",
              "      <td>2760.196931</td>\n",
              "      <td>3313.422188</td>\n",
              "      <td>3533.003910</td>\n",
              "      <td>3630.880722</td>\n",
              "      <td>3738.932735</td>\n",
              "      <td>2497.437901</td>\n",
              "      <td>3193.054604</td>\n",
              "      <td>4604.211737</td>\n",
              "      <td>5937.029526</td>\n",
              "    </tr>\n",
              "    <tr>\n",
              "      <th>Austria</th>\n",
              "      <td>6137.076492</td>\n",
              "      <td>8842.598030</td>\n",
              "      <td>10750.721110</td>\n",
              "      <td>12834.602400</td>\n",
              "      <td>16661.625600</td>\n",
              "      <td>19749.422300</td>\n",
              "      <td>21597.083620</td>\n",
              "      <td>23687.826070</td>\n",
              "      <td>27042.018680</td>\n",
              "      <td>29095.920660</td>\n",
              "      <td>32417.607690</td>\n",
              "      <td>36126.492700</td>\n",
              "    </tr>\n",
              "    <tr>\n",
              "      <th>Belgium</th>\n",
              "      <td>8343.105127</td>\n",
              "      <td>9714.960623</td>\n",
              "      <td>10991.206760</td>\n",
              "      <td>13149.041190</td>\n",
              "      <td>16672.143560</td>\n",
              "      <td>19117.974480</td>\n",
              "      <td>20979.845890</td>\n",
              "      <td>22525.563080</td>\n",
              "      <td>25575.570690</td>\n",
              "      <td>27561.196630</td>\n",
              "      <td>30485.883750</td>\n",
              "      <td>33692.605080</td>\n",
              "    </tr>\n",
              "    <tr>\n",
              "      <th>Bosnia and Herzegovina</th>\n",
              "      <td>973.533195</td>\n",
              "      <td>1353.989176</td>\n",
              "      <td>1709.683679</td>\n",
              "      <td>2172.352423</td>\n",
              "      <td>2860.169750</td>\n",
              "      <td>3528.481305</td>\n",
              "      <td>4126.613157</td>\n",
              "      <td>4314.114757</td>\n",
              "      <td>2546.781445</td>\n",
              "      <td>4766.355904</td>\n",
              "      <td>6018.975239</td>\n",
              "      <td>7446.298803</td>\n",
              "    </tr>\n",
              "    <tr>\n",
              "      <th>Bulgaria</th>\n",
              "      <td>2444.286648</td>\n",
              "      <td>3008.670727</td>\n",
              "      <td>4254.337839</td>\n",
              "      <td>5577.002800</td>\n",
              "      <td>6597.494398</td>\n",
              "      <td>7612.240438</td>\n",
              "      <td>8224.191647</td>\n",
              "      <td>8239.854824</td>\n",
              "      <td>6302.623438</td>\n",
              "      <td>5970.388760</td>\n",
              "      <td>7696.777725</td>\n",
              "      <td>10680.792820</td>\n",
              "    </tr>\n",
              "    <tr>\n",
              "      <th>Croatia</th>\n",
              "      <td>3119.236520</td>\n",
              "      <td>4338.231617</td>\n",
              "      <td>5477.890018</td>\n",
              "      <td>6960.297861</td>\n",
              "      <td>9164.090127</td>\n",
              "      <td>11305.385170</td>\n",
              "      <td>13221.821840</td>\n",
              "      <td>13822.583940</td>\n",
              "      <td>8447.794873</td>\n",
              "      <td>9875.604515</td>\n",
              "      <td>11628.388950</td>\n",
              "      <td>14619.222720</td>\n",
              "    </tr>\n",
              "    <tr>\n",
              "      <th>Czech Republic</th>\n",
              "      <td>6876.140250</td>\n",
              "      <td>8256.343918</td>\n",
              "      <td>10136.867130</td>\n",
              "      <td>11399.444890</td>\n",
              "      <td>13108.453600</td>\n",
              "      <td>14800.160620</td>\n",
              "      <td>15377.228550</td>\n",
              "      <td>16310.443400</td>\n",
              "      <td>14297.021220</td>\n",
              "      <td>16048.514240</td>\n",
              "      <td>17596.210220</td>\n",
              "      <td>22833.308510</td>\n",
              "    </tr>\n",
              "    <tr>\n",
              "      <th>Denmark</th>\n",
              "      <td>9692.385245</td>\n",
              "      <td>11099.659350</td>\n",
              "      <td>13583.313510</td>\n",
              "      <td>15937.211230</td>\n",
              "      <td>18866.207210</td>\n",
              "      <td>20422.901500</td>\n",
              "      <td>21688.040480</td>\n",
              "      <td>25116.175810</td>\n",
              "      <td>26406.739850</td>\n",
              "      <td>29804.345670</td>\n",
              "      <td>32166.500060</td>\n",
              "      <td>35278.418740</td>\n",
              "    </tr>\n",
              "    <tr>\n",
              "      <th>Finland</th>\n",
              "      <td>6424.519071</td>\n",
              "      <td>7545.415386</td>\n",
              "      <td>9371.842561</td>\n",
              "      <td>10921.636260</td>\n",
              "      <td>14358.875900</td>\n",
              "      <td>15605.422830</td>\n",
              "      <td>18533.157610</td>\n",
              "      <td>21141.012230</td>\n",
              "      <td>20647.164990</td>\n",
              "      <td>23723.950200</td>\n",
              "      <td>28204.590570</td>\n",
              "      <td>33207.084400</td>\n",
              "    </tr>\n",
              "    <tr>\n",
              "      <th>France</th>\n",
              "      <td>7029.809327</td>\n",
              "      <td>8662.834898</td>\n",
              "      <td>10560.485530</td>\n",
              "      <td>12999.917660</td>\n",
              "      <td>16107.191710</td>\n",
              "      <td>18292.635140</td>\n",
              "      <td>20293.897460</td>\n",
              "      <td>22066.442140</td>\n",
              "      <td>24703.796150</td>\n",
              "      <td>25889.784870</td>\n",
              "      <td>28926.032340</td>\n",
              "      <td>30470.016700</td>\n",
              "    </tr>\n",
              "    <tr>\n",
              "      <th>Germany</th>\n",
              "      <td>7144.114393</td>\n",
              "      <td>10187.826650</td>\n",
              "      <td>12902.462910</td>\n",
              "      <td>14745.625610</td>\n",
              "      <td>18016.180270</td>\n",
              "      <td>20512.921230</td>\n",
              "      <td>22031.532740</td>\n",
              "      <td>24639.185660</td>\n",
              "      <td>26505.303170</td>\n",
              "      <td>27788.884160</td>\n",
              "      <td>30035.801980</td>\n",
              "      <td>32170.374420</td>\n",
              "    </tr>\n",
              "    <tr>\n",
              "      <th>Greece</th>\n",
              "      <td>3530.690067</td>\n",
              "      <td>4916.299889</td>\n",
              "      <td>6017.190733</td>\n",
              "      <td>8513.097016</td>\n",
              "      <td>12724.829570</td>\n",
              "      <td>14195.524280</td>\n",
              "      <td>15268.420890</td>\n",
              "      <td>16120.528390</td>\n",
              "      <td>17541.496340</td>\n",
              "      <td>18747.698140</td>\n",
              "      <td>22514.254800</td>\n",
              "      <td>27538.411880</td>\n",
              "    </tr>\n",
              "    <tr>\n",
              "      <th>Hungary</th>\n",
              "      <td>5263.673816</td>\n",
              "      <td>6040.180011</td>\n",
              "      <td>7550.359877</td>\n",
              "      <td>9326.644670</td>\n",
              "      <td>10168.656110</td>\n",
              "      <td>11674.837370</td>\n",
              "      <td>12545.990660</td>\n",
              "      <td>12986.479980</td>\n",
              "      <td>10535.628550</td>\n",
              "      <td>11712.776800</td>\n",
              "      <td>14843.935560</td>\n",
              "      <td>18008.944440</td>\n",
              "    </tr>\n",
              "    <tr>\n",
              "      <th>Iceland</th>\n",
              "      <td>7267.688428</td>\n",
              "      <td>9244.001412</td>\n",
              "      <td>10350.159060</td>\n",
              "      <td>13319.895680</td>\n",
              "      <td>15798.063620</td>\n",
              "      <td>19654.962470</td>\n",
              "      <td>23269.607500</td>\n",
              "      <td>26923.206280</td>\n",
              "      <td>25144.392010</td>\n",
              "      <td>28061.099660</td>\n",
              "      <td>31163.201960</td>\n",
              "      <td>36180.789190</td>\n",
              "    </tr>\n",
              "    <tr>\n",
              "      <th>Ireland</th>\n",
              "      <td>5210.280328</td>\n",
              "      <td>5599.077872</td>\n",
              "      <td>6631.597314</td>\n",
              "      <td>7655.568963</td>\n",
              "      <td>9530.772896</td>\n",
              "      <td>11150.981130</td>\n",
              "      <td>12618.321410</td>\n",
              "      <td>13872.866520</td>\n",
              "      <td>17558.815550</td>\n",
              "      <td>24521.947130</td>\n",
              "      <td>34077.049390</td>\n",
              "      <td>40675.996350</td>\n",
              "    </tr>\n",
              "    <tr>\n",
              "      <th>Italy</th>\n",
              "      <td>4931.404155</td>\n",
              "      <td>6248.656232</td>\n",
              "      <td>8243.582340</td>\n",
              "      <td>10022.401310</td>\n",
              "      <td>12269.273780</td>\n",
              "      <td>14255.984750</td>\n",
              "      <td>16537.483500</td>\n",
              "      <td>19207.234820</td>\n",
              "      <td>22013.644860</td>\n",
              "      <td>24675.024460</td>\n",
              "      <td>27968.098170</td>\n",
              "      <td>28569.719700</td>\n",
              "    </tr>\n",
              "    <tr>\n",
              "      <th>Montenegro</th>\n",
              "      <td>2647.585601</td>\n",
              "      <td>3682.259903</td>\n",
              "      <td>4649.593785</td>\n",
              "      <td>5907.850937</td>\n",
              "      <td>7778.414017</td>\n",
              "      <td>9595.929905</td>\n",
              "      <td>11222.587620</td>\n",
              "      <td>11732.510170</td>\n",
              "      <td>7003.339037</td>\n",
              "      <td>6465.613349</td>\n",
              "      <td>6557.194282</td>\n",
              "      <td>9253.896111</td>\n",
              "    </tr>\n",
              "    <tr>\n",
              "      <th>Netherlands</th>\n",
              "      <td>8941.571858</td>\n",
              "      <td>11276.193440</td>\n",
              "      <td>12790.849560</td>\n",
              "      <td>15363.251360</td>\n",
              "      <td>18794.745670</td>\n",
              "      <td>21209.059200</td>\n",
              "      <td>21399.460460</td>\n",
              "      <td>23651.323610</td>\n",
              "      <td>26790.949610</td>\n",
              "      <td>30246.130630</td>\n",
              "      <td>33724.757780</td>\n",
              "      <td>36797.933320</td>\n",
              "    </tr>\n",
              "    <tr>\n",
              "      <th>Norway</th>\n",
              "      <td>10095.421720</td>\n",
              "      <td>11653.973040</td>\n",
              "      <td>13450.401510</td>\n",
              "      <td>16361.876470</td>\n",
              "      <td>18965.055510</td>\n",
              "      <td>23311.349390</td>\n",
              "      <td>26298.635310</td>\n",
              "      <td>31540.974800</td>\n",
              "      <td>33965.661150</td>\n",
              "      <td>41283.164330</td>\n",
              "      <td>44683.975250</td>\n",
              "      <td>49357.190170</td>\n",
              "    </tr>\n",
              "    <tr>\n",
              "      <th>Poland</th>\n",
              "      <td>4029.329699</td>\n",
              "      <td>4734.253019</td>\n",
              "      <td>5338.752143</td>\n",
              "      <td>6557.152776</td>\n",
              "      <td>8006.506993</td>\n",
              "      <td>9508.141454</td>\n",
              "      <td>8451.531004</td>\n",
              "      <td>9082.351172</td>\n",
              "      <td>7738.881247</td>\n",
              "      <td>10159.583680</td>\n",
              "      <td>12002.239080</td>\n",
              "      <td>15389.924680</td>\n",
              "    </tr>\n",
              "    <tr>\n",
              "      <th>Portugal</th>\n",
              "      <td>3068.319867</td>\n",
              "      <td>3774.571743</td>\n",
              "      <td>4727.954889</td>\n",
              "      <td>6361.517993</td>\n",
              "      <td>9022.247417</td>\n",
              "      <td>10172.485720</td>\n",
              "      <td>11753.842910</td>\n",
              "      <td>13039.308760</td>\n",
              "      <td>16207.266630</td>\n",
              "      <td>17641.031560</td>\n",
              "      <td>19970.907870</td>\n",
              "      <td>20509.647770</td>\n",
              "    </tr>\n",
              "    <tr>\n",
              "      <th>Romania</th>\n",
              "      <td>3144.613186</td>\n",
              "      <td>3943.370225</td>\n",
              "      <td>4734.997586</td>\n",
              "      <td>6470.866545</td>\n",
              "      <td>8011.414402</td>\n",
              "      <td>9356.397240</td>\n",
              "      <td>9605.314053</td>\n",
              "      <td>9696.273295</td>\n",
              "      <td>6598.409903</td>\n",
              "      <td>7346.547557</td>\n",
              "      <td>7885.360081</td>\n",
              "      <td>10808.475610</td>\n",
              "    </tr>\n",
              "    <tr>\n",
              "      <th>Serbia</th>\n",
              "      <td>3581.459448</td>\n",
              "      <td>4981.090891</td>\n",
              "      <td>6289.629157</td>\n",
              "      <td>7991.707066</td>\n",
              "      <td>10522.067490</td>\n",
              "      <td>12980.669560</td>\n",
              "      <td>15181.092700</td>\n",
              "      <td>15870.878510</td>\n",
              "      <td>9325.068238</td>\n",
              "      <td>7914.320304</td>\n",
              "      <td>7236.075251</td>\n",
              "      <td>9786.534714</td>\n",
              "    </tr>\n",
              "    <tr>\n",
              "      <th>Slovak Republic</th>\n",
              "      <td>5074.659104</td>\n",
              "      <td>6093.262980</td>\n",
              "      <td>7481.107598</td>\n",
              "      <td>8412.902397</td>\n",
              "      <td>9674.167626</td>\n",
              "      <td>10922.664040</td>\n",
              "      <td>11348.545850</td>\n",
              "      <td>12037.267580</td>\n",
              "      <td>9498.467723</td>\n",
              "      <td>12126.230650</td>\n",
              "      <td>13638.778370</td>\n",
              "      <td>18678.314350</td>\n",
              "    </tr>\n",
              "    <tr>\n",
              "      <th>Slovenia</th>\n",
              "      <td>4215.041741</td>\n",
              "      <td>5862.276629</td>\n",
              "      <td>7402.303395</td>\n",
              "      <td>9405.489397</td>\n",
              "      <td>12383.486200</td>\n",
              "      <td>15277.030170</td>\n",
              "      <td>17866.721750</td>\n",
              "      <td>18678.534920</td>\n",
              "      <td>14214.716810</td>\n",
              "      <td>17161.107350</td>\n",
              "      <td>20660.019360</td>\n",
              "      <td>25768.257590</td>\n",
              "    </tr>\n",
              "    <tr>\n",
              "      <th>Spain</th>\n",
              "      <td>3834.034742</td>\n",
              "      <td>4564.802410</td>\n",
              "      <td>5693.843879</td>\n",
              "      <td>7993.512294</td>\n",
              "      <td>10638.751310</td>\n",
              "      <td>13236.921170</td>\n",
              "      <td>13926.169970</td>\n",
              "      <td>15764.983130</td>\n",
              "      <td>18603.064520</td>\n",
              "      <td>20445.298960</td>\n",
              "      <td>24835.471660</td>\n",
              "      <td>28821.063700</td>\n",
              "    </tr>\n",
              "    <tr>\n",
              "      <th>Sweden</th>\n",
              "      <td>8527.844662</td>\n",
              "      <td>9911.878226</td>\n",
              "      <td>12329.441920</td>\n",
              "      <td>15258.296970</td>\n",
              "      <td>17832.024640</td>\n",
              "      <td>18855.725210</td>\n",
              "      <td>20667.381250</td>\n",
              "      <td>23586.929270</td>\n",
              "      <td>23880.016830</td>\n",
              "      <td>25266.594990</td>\n",
              "      <td>29341.630930</td>\n",
              "      <td>33859.748350</td>\n",
              "    </tr>\n",
              "    <tr>\n",
              "      <th>Switzerland</th>\n",
              "      <td>14734.232750</td>\n",
              "      <td>17909.489730</td>\n",
              "      <td>20431.092700</td>\n",
              "      <td>22966.144320</td>\n",
              "      <td>27195.113040</td>\n",
              "      <td>26982.290520</td>\n",
              "      <td>28397.715120</td>\n",
              "      <td>30281.704590</td>\n",
              "      <td>31871.530300</td>\n",
              "      <td>32135.323010</td>\n",
              "      <td>34480.957710</td>\n",
              "      <td>37506.419070</td>\n",
              "    </tr>\n",
              "    <tr>\n",
              "      <th>Turkey</th>\n",
              "      <td>1969.100980</td>\n",
              "      <td>2218.754257</td>\n",
              "      <td>2322.869908</td>\n",
              "      <td>2826.356387</td>\n",
              "      <td>3450.696380</td>\n",
              "      <td>4269.122326</td>\n",
              "      <td>4241.356344</td>\n",
              "      <td>5089.043686</td>\n",
              "      <td>5678.348271</td>\n",
              "      <td>6601.429915</td>\n",
              "      <td>6508.085718</td>\n",
              "      <td>8458.276384</td>\n",
              "    </tr>\n",
              "    <tr>\n",
              "      <th>United Kingdom</th>\n",
              "      <td>9979.508487</td>\n",
              "      <td>11283.177950</td>\n",
              "      <td>12477.177070</td>\n",
              "      <td>14142.850890</td>\n",
              "      <td>15895.116410</td>\n",
              "      <td>17428.748460</td>\n",
              "      <td>18232.424520</td>\n",
              "      <td>21664.787670</td>\n",
              "      <td>22705.092540</td>\n",
              "      <td>26074.531360</td>\n",
              "      <td>29478.999190</td>\n",
              "      <td>33203.261280</td>\n",
              "    </tr>\n",
              "  </tbody>\n",
              "</table>\n",
              "</div>"
            ],
            "text/plain": [
              "                        gdpPercap_1952  ...  gdpPercap_2007\n",
              "country                                 ...                \n",
              "Albania                    1601.056136  ...     5937.029526\n",
              "Austria                    6137.076492  ...    36126.492700\n",
              "Belgium                    8343.105127  ...    33692.605080\n",
              "Bosnia and Herzegovina      973.533195  ...     7446.298803\n",
              "Bulgaria                   2444.286648  ...    10680.792820\n",
              "Croatia                    3119.236520  ...    14619.222720\n",
              "Czech Republic             6876.140250  ...    22833.308510\n",
              "Denmark                    9692.385245  ...    35278.418740\n",
              "Finland                    6424.519071  ...    33207.084400\n",
              "France                     7029.809327  ...    30470.016700\n",
              "Germany                    7144.114393  ...    32170.374420\n",
              "Greece                     3530.690067  ...    27538.411880\n",
              "Hungary                    5263.673816  ...    18008.944440\n",
              "Iceland                    7267.688428  ...    36180.789190\n",
              "Ireland                    5210.280328  ...    40675.996350\n",
              "Italy                      4931.404155  ...    28569.719700\n",
              "Montenegro                 2647.585601  ...     9253.896111\n",
              "Netherlands                8941.571858  ...    36797.933320\n",
              "Norway                    10095.421720  ...    49357.190170\n",
              "Poland                     4029.329699  ...    15389.924680\n",
              "Portugal                   3068.319867  ...    20509.647770\n",
              "Romania                    3144.613186  ...    10808.475610\n",
              "Serbia                     3581.459448  ...     9786.534714\n",
              "Slovak Republic            5074.659104  ...    18678.314350\n",
              "Slovenia                   4215.041741  ...    25768.257590\n",
              "Spain                      3834.034742  ...    28821.063700\n",
              "Sweden                     8527.844662  ...    33859.748350\n",
              "Switzerland               14734.232750  ...    37506.419070\n",
              "Turkey                     1969.100980  ...     8458.276384\n",
              "United Kingdom             9979.508487  ...    33203.261280\n",
              "\n",
              "[30 rows x 12 columns]"
            ]
          },
          "metadata": {
            "tags": []
          },
          "execution_count": 14
        }
      ]
    },
    {
      "cell_type": "code",
      "metadata": {
        "id": "HO_JUY6AA7ZV"
      },
      "source": [
        ""
      ],
      "execution_count": null,
      "outputs": []
    },
    {
      "cell_type": "markdown",
      "metadata": {
        "id": "CK_pAUGuBKsX"
      },
      "source": [
        "## Use Comparison to select data based on value"
      ]
    },
    {
      "cell_type": "code",
      "metadata": {
        "colab": {
          "base_uri": "https://localhost:8080/",
          "height": 225
        },
        "id": "OpoUhQteBOH5",
        "outputId": "8e3ae5ea-6135-4cc5-c157-372fafd6fd57"
      },
      "source": [
        "subset = data_europe.loc[\"Italy\":\"Poland\", \"gdpPercap_1962\":\"gdpPercap_1972\"]\n",
        "subset"
      ],
      "execution_count": null,
      "outputs": [
        {
          "output_type": "execute_result",
          "data": {
            "text/html": [
              "<div>\n",
              "<style scoped>\n",
              "    .dataframe tbody tr th:only-of-type {\n",
              "        vertical-align: middle;\n",
              "    }\n",
              "\n",
              "    .dataframe tbody tr th {\n",
              "        vertical-align: top;\n",
              "    }\n",
              "\n",
              "    .dataframe thead th {\n",
              "        text-align: right;\n",
              "    }\n",
              "</style>\n",
              "<table border=\"1\" class=\"dataframe\">\n",
              "  <thead>\n",
              "    <tr style=\"text-align: right;\">\n",
              "      <th></th>\n",
              "      <th>gdpPercap_1962</th>\n",
              "      <th>gdpPercap_1967</th>\n",
              "      <th>gdpPercap_1972</th>\n",
              "    </tr>\n",
              "    <tr>\n",
              "      <th>country</th>\n",
              "      <th></th>\n",
              "      <th></th>\n",
              "      <th></th>\n",
              "    </tr>\n",
              "  </thead>\n",
              "  <tbody>\n",
              "    <tr>\n",
              "      <th>Italy</th>\n",
              "      <td>8243.582340</td>\n",
              "      <td>10022.401310</td>\n",
              "      <td>12269.273780</td>\n",
              "    </tr>\n",
              "    <tr>\n",
              "      <th>Montenegro</th>\n",
              "      <td>4649.593785</td>\n",
              "      <td>5907.850937</td>\n",
              "      <td>7778.414017</td>\n",
              "    </tr>\n",
              "    <tr>\n",
              "      <th>Netherlands</th>\n",
              "      <td>12790.849560</td>\n",
              "      <td>15363.251360</td>\n",
              "      <td>18794.745670</td>\n",
              "    </tr>\n",
              "    <tr>\n",
              "      <th>Norway</th>\n",
              "      <td>13450.401510</td>\n",
              "      <td>16361.876470</td>\n",
              "      <td>18965.055510</td>\n",
              "    </tr>\n",
              "    <tr>\n",
              "      <th>Poland</th>\n",
              "      <td>5338.752143</td>\n",
              "      <td>6557.152776</td>\n",
              "      <td>8006.506993</td>\n",
              "    </tr>\n",
              "  </tbody>\n",
              "</table>\n",
              "</div>"
            ],
            "text/plain": [
              "             gdpPercap_1962  gdpPercap_1967  gdpPercap_1972\n",
              "country                                                    \n",
              "Italy           8243.582340    10022.401310    12269.273780\n",
              "Montenegro      4649.593785     5907.850937     7778.414017\n",
              "Netherlands    12790.849560    15363.251360    18794.745670\n",
              "Norway         13450.401510    16361.876470    18965.055510\n",
              "Poland          5338.752143     6557.152776     8006.506993"
            ]
          },
          "metadata": {
            "tags": []
          },
          "execution_count": 17
        }
      ]
    },
    {
      "cell_type": "code",
      "metadata": {
        "colab": {
          "base_uri": "https://localhost:8080/"
        },
        "id": "Kw9A9BneBskS",
        "outputId": "69f30828-feb3-4bf0-c1eb-5c3019c2a8dc"
      },
      "source": [
        "comp_results = subset > 10000\n",
        "print(comp_results)\n",
        "type(comp_results)\n"
      ],
      "execution_count": null,
      "outputs": [
        {
          "output_type": "stream",
          "text": [
            "             gdpPercap_1962  gdpPercap_1967  gdpPercap_1972\n",
            "country                                                    \n",
            "Italy                 False            True            True\n",
            "Montenegro            False           False           False\n",
            "Netherlands            True            True            True\n",
            "Norway                 True            True            True\n",
            "Poland                False           False           False\n"
          ],
          "name": "stdout"
        },
        {
          "output_type": "execute_result",
          "data": {
            "text/plain": [
              "pandas.core.frame.DataFrame"
            ]
          },
          "metadata": {
            "tags": []
          },
          "execution_count": 20
        }
      ]
    },
    {
      "cell_type": "markdown",
      "metadata": {
        "id": "r8OS865yCfDe"
      },
      "source": [
        "## Select values or NaN using Boolean mask"
      ]
    },
    {
      "cell_type": "markdown",
      "metadata": {
        "id": "FhUysBQbCb7t"
      },
      "source": [
        ""
      ]
    },
    {
      "cell_type": "code",
      "metadata": {
        "colab": {
          "base_uri": "https://localhost:8080/",
          "height": 225
        },
        "id": "_FXlqQ1mClxe",
        "outputId": "66c4938c-2c96-49a4-8382-e1822f5faee4"
      },
      "source": [
        "subset_gt_10000 = subset[comp_results]\n",
        "subset_gt_10000"
      ],
      "execution_count": null,
      "outputs": [
        {
          "output_type": "execute_result",
          "data": {
            "text/html": [
              "<div>\n",
              "<style scoped>\n",
              "    .dataframe tbody tr th:only-of-type {\n",
              "        vertical-align: middle;\n",
              "    }\n",
              "\n",
              "    .dataframe tbody tr th {\n",
              "        vertical-align: top;\n",
              "    }\n",
              "\n",
              "    .dataframe thead th {\n",
              "        text-align: right;\n",
              "    }\n",
              "</style>\n",
              "<table border=\"1\" class=\"dataframe\">\n",
              "  <thead>\n",
              "    <tr style=\"text-align: right;\">\n",
              "      <th></th>\n",
              "      <th>gdpPercap_1962</th>\n",
              "      <th>gdpPercap_1967</th>\n",
              "      <th>gdpPercap_1972</th>\n",
              "    </tr>\n",
              "    <tr>\n",
              "      <th>country</th>\n",
              "      <th></th>\n",
              "      <th></th>\n",
              "      <th></th>\n",
              "    </tr>\n",
              "  </thead>\n",
              "  <tbody>\n",
              "    <tr>\n",
              "      <th>Italy</th>\n",
              "      <td>NaN</td>\n",
              "      <td>10022.40131</td>\n",
              "      <td>12269.27378</td>\n",
              "    </tr>\n",
              "    <tr>\n",
              "      <th>Montenegro</th>\n",
              "      <td>NaN</td>\n",
              "      <td>NaN</td>\n",
              "      <td>NaN</td>\n",
              "    </tr>\n",
              "    <tr>\n",
              "      <th>Netherlands</th>\n",
              "      <td>12790.84956</td>\n",
              "      <td>15363.25136</td>\n",
              "      <td>18794.74567</td>\n",
              "    </tr>\n",
              "    <tr>\n",
              "      <th>Norway</th>\n",
              "      <td>13450.40151</td>\n",
              "      <td>16361.87647</td>\n",
              "      <td>18965.05551</td>\n",
              "    </tr>\n",
              "    <tr>\n",
              "      <th>Poland</th>\n",
              "      <td>NaN</td>\n",
              "      <td>NaN</td>\n",
              "      <td>NaN</td>\n",
              "    </tr>\n",
              "  </tbody>\n",
              "</table>\n",
              "</div>"
            ],
            "text/plain": [
              "             gdpPercap_1962  gdpPercap_1967  gdpPercap_1972\n",
              "country                                                    \n",
              "Italy                   NaN     10022.40131     12269.27378\n",
              "Montenegro              NaN             NaN             NaN\n",
              "Netherlands     12790.84956     15363.25136     18794.74567\n",
              "Norway          13450.40151     16361.87647     18965.05551\n",
              "Poland                  NaN             NaN             NaN"
            ]
          },
          "metadata": {
            "tags": []
          },
          "execution_count": 23
        }
      ]
    },
    {
      "cell_type": "code",
      "metadata": {
        "colab": {
          "base_uri": "https://localhost:8080/",
          "height": 284
        },
        "id": "ttlgsPDeDE9j",
        "outputId": "508fad7f-0ab3-4362-a687-61da69c467fd"
      },
      "source": [
        "subset_gt_10000.describe()"
      ],
      "execution_count": null,
      "outputs": [
        {
          "output_type": "execute_result",
          "data": {
            "text/html": [
              "<div>\n",
              "<style scoped>\n",
              "    .dataframe tbody tr th:only-of-type {\n",
              "        vertical-align: middle;\n",
              "    }\n",
              "\n",
              "    .dataframe tbody tr th {\n",
              "        vertical-align: top;\n",
              "    }\n",
              "\n",
              "    .dataframe thead th {\n",
              "        text-align: right;\n",
              "    }\n",
              "</style>\n",
              "<table border=\"1\" class=\"dataframe\">\n",
              "  <thead>\n",
              "    <tr style=\"text-align: right;\">\n",
              "      <th></th>\n",
              "      <th>gdpPercap_1962</th>\n",
              "      <th>gdpPercap_1967</th>\n",
              "      <th>gdpPercap_1972</th>\n",
              "    </tr>\n",
              "  </thead>\n",
              "  <tbody>\n",
              "    <tr>\n",
              "      <th>count</th>\n",
              "      <td>2.000000</td>\n",
              "      <td>3.000000</td>\n",
              "      <td>3.000000</td>\n",
              "    </tr>\n",
              "    <tr>\n",
              "      <th>mean</th>\n",
              "      <td>13120.625535</td>\n",
              "      <td>13915.843047</td>\n",
              "      <td>16676.358320</td>\n",
              "    </tr>\n",
              "    <tr>\n",
              "      <th>std</th>\n",
              "      <td>466.373656</td>\n",
              "      <td>3408.589070</td>\n",
              "      <td>3817.597015</td>\n",
              "    </tr>\n",
              "    <tr>\n",
              "      <th>min</th>\n",
              "      <td>12790.849560</td>\n",
              "      <td>10022.401310</td>\n",
              "      <td>12269.273780</td>\n",
              "    </tr>\n",
              "    <tr>\n",
              "      <th>25%</th>\n",
              "      <td>12955.737547</td>\n",
              "      <td>12692.826335</td>\n",
              "      <td>15532.009725</td>\n",
              "    </tr>\n",
              "    <tr>\n",
              "      <th>50%</th>\n",
              "      <td>13120.625535</td>\n",
              "      <td>15363.251360</td>\n",
              "      <td>18794.745670</td>\n",
              "    </tr>\n",
              "    <tr>\n",
              "      <th>75%</th>\n",
              "      <td>13285.513523</td>\n",
              "      <td>15862.563915</td>\n",
              "      <td>18879.900590</td>\n",
              "    </tr>\n",
              "    <tr>\n",
              "      <th>max</th>\n",
              "      <td>13450.401510</td>\n",
              "      <td>16361.876470</td>\n",
              "      <td>18965.055510</td>\n",
              "    </tr>\n",
              "  </tbody>\n",
              "</table>\n",
              "</div>"
            ],
            "text/plain": [
              "       gdpPercap_1962  gdpPercap_1967  gdpPercap_1972\n",
              "count        2.000000        3.000000        3.000000\n",
              "mean     13120.625535    13915.843047    16676.358320\n",
              "std        466.373656     3408.589070     3817.597015\n",
              "min      12790.849560    10022.401310    12269.273780\n",
              "25%      12955.737547    12692.826335    15532.009725\n",
              "50%      13120.625535    15363.251360    18794.745670\n",
              "75%      13285.513523    15862.563915    18879.900590\n",
              "max      13450.401510    16361.876470    18965.055510"
            ]
          },
          "metadata": {
            "tags": []
          },
          "execution_count": 24
        }
      ]
    },
    {
      "cell_type": "markdown",
      "metadata": {
        "id": "XydU9PNNDmVu"
      },
      "source": [
        "## Group By: split-apply-combine"
      ]
    },
    {
      "cell_type": "code",
      "metadata": {
        "colab": {
          "base_uri": "https://localhost:8080/"
        },
        "id": "TlQkoHrfDuit",
        "outputId": "a47d6caf-10b4-4c94-a110-0cb83b5248e2"
      },
      "source": [
        "# Tell if every country did better or less than the mean gdp for a given year\n",
        "mask_higher = data_europe > data_europe.mean()\n",
        "#print(mask_higher)\n",
        "# Sum the number of years a country did better than the mean gdp\n",
        "years_gt_average_normalized = mask_higher.aggregate(\"sum\", axis=1) / len(data_europe.columns)\n",
        "years_gt_average_normalized"
      ],
      "execution_count": null,
      "outputs": [
        {
          "output_type": "execute_result",
          "data": {
            "text/plain": [
              "country\n",
              "Albania                   0.000000\n",
              "Austria                   1.000000\n",
              "Belgium                   1.000000\n",
              "Bosnia and Herzegovina    0.000000\n",
              "Bulgaria                  0.000000\n",
              "Croatia                   0.000000\n",
              "Czech Republic            0.500000\n",
              "Denmark                   1.000000\n",
              "Finland                   1.000000\n",
              "France                    1.000000\n",
              "Germany                   1.000000\n",
              "Greece                    0.333333\n",
              "Hungary                   0.000000\n",
              "Iceland                   1.000000\n",
              "Ireland                   0.333333\n",
              "Italy                     0.500000\n",
              "Montenegro                0.000000\n",
              "Netherlands               1.000000\n",
              "Norway                    1.000000\n",
              "Poland                    0.000000\n",
              "Portugal                  0.000000\n",
              "Romania                   0.000000\n",
              "Serbia                    0.000000\n",
              "Slovak Republic           0.000000\n",
              "Slovenia                  0.333333\n",
              "Spain                     0.333333\n",
              "Sweden                    1.000000\n",
              "Switzerland               1.000000\n",
              "Turkey                    0.000000\n",
              "United Kingdom            1.000000\n",
              "dtype: float64"
            ]
          },
          "metadata": {
            "tags": []
          },
          "execution_count": 43
        }
      ]
    },
    {
      "cell_type": "code",
      "metadata": {
        "id": "OdBxYf3rY9x7"
      },
      "source": [
        ""
      ],
      "execution_count": null,
      "outputs": []
    },
    {
      "cell_type": "markdown",
      "metadata": {
        "id": "HLnAN7GMGlit"
      },
      "source": [
        "## Group the countries by their score tag"
      ]
    },
    {
      "cell_type": "code",
      "metadata": {
        "colab": {
          "base_uri": "https://localhost:8080/"
        },
        "id": "aD4-gh8yGIh4",
        "outputId": "9b3c97e9-b211-4a8d-a486-95dc06737091"
      },
      "source": [
        "groups = data_europe.groupby(years_gt_average_normalized)\n",
        "type(groups)"
      ],
      "execution_count": null,
      "outputs": [
        {
          "output_type": "execute_result",
          "data": {
            "text/plain": [
              "pandas.core.groupby.generic.DataFrameGroupBy"
            ]
          },
          "metadata": {
            "tags": []
          },
          "execution_count": 47
        }
      ]
    }
  ]
}
