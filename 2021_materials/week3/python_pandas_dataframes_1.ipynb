{
  "nbformat": 4,
  "nbformat_minor": 0,
  "metadata": {
    "colab": {
      "name": "python_pandas_dataframes_1.ipynb",
      "provenance": [],
      "toc_visible": true,
      "include_colab_link": true
    },
    "kernelspec": {
      "name": "python3",
      "display_name": "Python 3"
    },
    "language_info": {
      "name": "python"
    }
  },
  "cells": [
    {
      "cell_type": "markdown",
      "metadata": {
        "id": "view-in-github",
        "colab_type": "text"
      },
      "source": [
        "<a href=\"https://colab.research.google.com/github/CBIIT/python-carpentry-workshop/blob/main/python_pandas_dataframes_1.ipynb\" target=\"_parent\"><img src=\"https://colab.research.google.com/assets/colab-badge.svg\" alt=\"Open In Colab\"/></a>"
      ]
    },
    {
      "cell_type": "markdown",
      "metadata": {
        "id": "zRB_I7GFDbMd"
      },
      "source": [
        "# Pandas DataFrames"
      ]
    },
    {
      "cell_type": "code",
      "metadata": {
        "id": "vvC0t7poL4eS"
      },
      "source": [
        "import pandas as pd"
      ],
      "execution_count": null,
      "outputs": []
    },
    {
      "cell_type": "code",
      "metadata": {
        "id": "2q7aanIBMG_2"
      },
      "source": [
        "data_europe = pd.read_csv(\"https://raw.githubusercontent.com/swcarpentry/python-novice-gapminder/gh-pages/data/gapminder_gdp_europe.csv\", index_col='country')"
      ],
      "execution_count": null,
      "outputs": []
    },
    {
      "cell_type": "markdown",
      "metadata": {
        "id": "SPEu9iOkOPWQ"
      },
      "source": [
        "## Dataframe object has methods and member variables"
      ]
    },
    {
      "cell_type": "code",
      "metadata": {
        "id": "K-IKre4yObId"
      },
      "source": [
        "data_europe.info()"
      ],
      "execution_count": null,
      "outputs": []
    },
    {
      "cell_type": "code",
      "metadata": {
        "colab": {
          "base_uri": "https://localhost:8080/"
        },
        "id": "ag0zkHzXOOgO",
        "outputId": "f44e3c40-37b5-497c-f2f7-f90147fc068f"
      },
      "source": [
        "type(data_europe)"
      ],
      "execution_count": null,
      "outputs": [
        {
          "output_type": "execute_result",
          "data": {
            "text/plain": [
              "pandas.core.frame.DataFrame"
            ]
          },
          "metadata": {
            "tags": []
          },
          "execution_count": 5
        }
      ]
    },
    {
      "cell_type": "markdown",
      "metadata": {
        "id": "wOMPtRBIPcKm"
      },
      "source": [
        "### Selecting value"
      ]
    },
    {
      "cell_type": "markdown",
      "metadata": {
        "id": "AljZItWCOO3w"
      },
      "source": [
        ""
      ]
    },
    {
      "cell_type": "code",
      "metadata": {
        "colab": {
          "base_uri": "https://localhost:8080/"
        },
        "id": "y-YlgVviPfDx",
        "outputId": "b996c3ec-25d1-43d6-e3b8-ecb5d3cccf55"
      },
      "source": [
        "data_europe.iloc[0, 0]"
      ],
      "execution_count": null,
      "outputs": [
        {
          "output_type": "execute_result",
          "data": {
            "text/plain": [
              "1601.056136"
            ]
          },
          "metadata": {
            "tags": []
          },
          "execution_count": 11
        }
      ]
    },
    {
      "cell_type": "code",
      "metadata": {
        "colab": {
          "base_uri": "https://localhost:8080/"
        },
        "id": "oSyV9w6MQgBy",
        "outputId": "277e07d7-0e1e-4a7f-ae1f-752f5c965ff5"
      },
      "source": [
        "data_europe.loc[\"Albania\", \"gdpPercap_1952\"]"
      ],
      "execution_count": null,
      "outputs": [
        {
          "output_type": "execute_result",
          "data": {
            "text/plain": [
              "1601.056136"
            ]
          },
          "metadata": {
            "tags": []
          },
          "execution_count": 12
        }
      ]
    },
    {
      "cell_type": "code",
      "metadata": {
        "colab": {
          "base_uri": "https://localhost:8080/"
        },
        "id": "tpyV4xWAQulg",
        "outputId": "74a81145-c780-4b54-87e8-e62b029e8bac"
      },
      "source": [
        "data_albania = data_europe.loc[\"Albania\", :]\n",
        "print(type(data_albania))\n",
        "data_albania.describe()\n",
        "data_albania"
      ],
      "execution_count": null,
      "outputs": [
        {
          "output_type": "stream",
          "text": [
            "<class 'pandas.core.series.Series'>\n"
          ],
          "name": "stdout"
        },
        {
          "output_type": "execute_result",
          "data": {
            "text/plain": [
              "gdpPercap_1952    1601.056136\n",
              "gdpPercap_1957    1942.284244\n",
              "gdpPercap_1962    2312.888958\n",
              "gdpPercap_1967    2760.196931\n",
              "gdpPercap_1972    3313.422188\n",
              "gdpPercap_1977    3533.003910\n",
              "gdpPercap_1982    3630.880722\n",
              "gdpPercap_1987    3738.932735\n",
              "gdpPercap_1992    2497.437901\n",
              "gdpPercap_1997    3193.054604\n",
              "gdpPercap_2002    4604.211737\n",
              "gdpPercap_2007    5937.029526\n",
              "Name: Albania, dtype: float64"
            ]
          },
          "metadata": {
            "tags": []
          },
          "execution_count": 18
        }
      ]
    },
    {
      "cell_type": "code",
      "metadata": {
        "colab": {
          "base_uri": "https://localhost:8080/"
        },
        "id": "YBbF2kx8RTjR",
        "outputId": "f021118b-e2a8-4b67-d163-6e91ceeb2d6d"
      },
      "source": [
        "data_1952 = data_europe.loc[:, \"gdpPercap_1952\"]\n",
        "data_1952"
      ],
      "execution_count": null,
      "outputs": [
        {
          "output_type": "execute_result",
          "data": {
            "text/plain": [
              "country\n",
              "Albania                    1601.056136\n",
              "Austria                    6137.076492\n",
              "Belgium                    8343.105127\n",
              "Bosnia and Herzegovina      973.533195\n",
              "Bulgaria                   2444.286648\n",
              "Croatia                    3119.236520\n",
              "Czech Republic             6876.140250\n",
              "Denmark                    9692.385245\n",
              "Finland                    6424.519071\n",
              "France                     7029.809327\n",
              "Germany                    7144.114393\n",
              "Greece                     3530.690067\n",
              "Hungary                    5263.673816\n",
              "Iceland                    7267.688428\n",
              "Ireland                    5210.280328\n",
              "Italy                      4931.404155\n",
              "Montenegro                 2647.585601\n",
              "Netherlands                8941.571858\n",
              "Norway                    10095.421720\n",
              "Poland                     4029.329699\n",
              "Portugal                   3068.319867\n",
              "Romania                    3144.613186\n",
              "Serbia                     3581.459448\n",
              "Slovak Republic            5074.659104\n",
              "Slovenia                   4215.041741\n",
              "Spain                      3834.034742\n",
              "Sweden                     8527.844662\n",
              "Switzerland               14734.232750\n",
              "Turkey                     1969.100980\n",
              "United Kingdom             9979.508487\n",
              "Name: gdpPercap_1952, dtype: float64"
            ]
          },
          "metadata": {
            "tags": []
          },
          "execution_count": 22
        }
      ]
    },
    {
      "cell_type": "markdown",
      "metadata": {
        "id": "a7KcQ4k0R968"
      },
      "source": [
        "### Select multiple columns from the dataframe"
      ]
    },
    {
      "cell_type": "code",
      "metadata": {
        "colab": {
          "base_uri": "https://localhost:8080/",
          "height": 251
        },
        "id": "0lAyveklSBo_",
        "outputId": "12d2924a-f0c9-4b41-d1a6-a2540d712e1e"
      },
      "source": [
        "subset = data_europe.loc[\"Italy\":\"Poland\", 'gdpPercap_1962':'gdpPercap_1972']\n",
        "print(\"type(subset)) is: \", type(subset))\n",
        "subset"
      ],
      "execution_count": null,
      "outputs": [
        {
          "output_type": "stream",
          "text": [
            "type(subset)) is:  <class 'pandas.core.frame.DataFrame'>\n"
          ],
          "name": "stdout"
        },
        {
          "output_type": "execute_result",
          "data": {
            "text/html": [
              "<div>\n",
              "<style scoped>\n",
              "    .dataframe tbody tr th:only-of-type {\n",
              "        vertical-align: middle;\n",
              "    }\n",
              "\n",
              "    .dataframe tbody tr th {\n",
              "        vertical-align: top;\n",
              "    }\n",
              "\n",
              "    .dataframe thead th {\n",
              "        text-align: right;\n",
              "    }\n",
              "</style>\n",
              "<table border=\"1\" class=\"dataframe\">\n",
              "  <thead>\n",
              "    <tr style=\"text-align: right;\">\n",
              "      <th></th>\n",
              "      <th>gdpPercap_1962</th>\n",
              "      <th>gdpPercap_1967</th>\n",
              "      <th>gdpPercap_1972</th>\n",
              "    </tr>\n",
              "    <tr>\n",
              "      <th>country</th>\n",
              "      <th></th>\n",
              "      <th></th>\n",
              "      <th></th>\n",
              "    </tr>\n",
              "  </thead>\n",
              "  <tbody>\n",
              "    <tr>\n",
              "      <th>Italy</th>\n",
              "      <td>8243.582340</td>\n",
              "      <td>10022.401310</td>\n",
              "      <td>12269.273780</td>\n",
              "    </tr>\n",
              "    <tr>\n",
              "      <th>Montenegro</th>\n",
              "      <td>4649.593785</td>\n",
              "      <td>5907.850937</td>\n",
              "      <td>7778.414017</td>\n",
              "    </tr>\n",
              "    <tr>\n",
              "      <th>Netherlands</th>\n",
              "      <td>12790.849560</td>\n",
              "      <td>15363.251360</td>\n",
              "      <td>18794.745670</td>\n",
              "    </tr>\n",
              "    <tr>\n",
              "      <th>Norway</th>\n",
              "      <td>13450.401510</td>\n",
              "      <td>16361.876470</td>\n",
              "      <td>18965.055510</td>\n",
              "    </tr>\n",
              "    <tr>\n",
              "      <th>Poland</th>\n",
              "      <td>5338.752143</td>\n",
              "      <td>6557.152776</td>\n",
              "      <td>8006.506993</td>\n",
              "    </tr>\n",
              "  </tbody>\n",
              "</table>\n",
              "</div>"
            ],
            "text/plain": [
              "             gdpPercap_1962  gdpPercap_1967  gdpPercap_1972\n",
              "country                                                    \n",
              "Italy           8243.582340    10022.401310    12269.273780\n",
              "Montenegro      4649.593785     5907.850937     7778.414017\n",
              "Netherlands    12790.849560    15363.251360    18794.745670\n",
              "Norway         13450.401510    16361.876470    18965.055510\n",
              "Poland          5338.752143     6557.152776     8006.506993"
            ]
          },
          "metadata": {
            "tags": []
          },
          "execution_count": 27
        }
      ]
    },
    {
      "cell_type": "code",
      "metadata": {
        "id": "71-qoudmTssF"
      },
      "source": [
        ""
      ],
      "execution_count": null,
      "outputs": []
    },
    {
      "cell_type": "markdown",
      "metadata": {
        "id": "O7W27eiWStgj"
      },
      "source": [
        "### Use sliced results in further operations"
      ]
    },
    {
      "cell_type": "code",
      "metadata": {
        "colab": {
          "base_uri": "https://localhost:8080/"
        },
        "id": "Ivo8pjTiSzFW",
        "outputId": "a33db30d-3e9e-40ae-d894-58cc600e255d"
      },
      "source": [
        "# Run maximum on rows\n",
        "subset.max(1)"
      ],
      "execution_count": null,
      "outputs": [
        {
          "output_type": "execute_result",
          "data": {
            "text/plain": [
              "country\n",
              "Italy          12269.273780\n",
              "Montenegro      7778.414017\n",
              "Netherlands    18794.745670\n",
              "Norway         18965.055510\n",
              "Poland          8006.506993\n",
              "dtype: float64"
            ]
          },
          "metadata": {
            "tags": []
          },
          "execution_count": 33
        }
      ]
    },
    {
      "cell_type": "code",
      "metadata": {
        "colab": {
          "base_uri": "https://localhost:8080/"
        },
        "id": "sGagFQU6TI_T",
        "outputId": "c3f6b10c-29f8-47a9-f6aa-4866d02f0cd0"
      },
      "source": [
        "subset.min()"
      ],
      "execution_count": null,
      "outputs": [
        {
          "output_type": "execute_result",
          "data": {
            "text/plain": [
              "gdpPercap_1962    4649.593785\n",
              "gdpPercap_1967    5907.850937\n",
              "gdpPercap_1972    7778.414017\n",
              "dtype: float64"
            ]
          },
          "metadata": {
            "tags": []
          },
          "execution_count": 31
        }
      ]
    },
    {
      "cell_type": "code",
      "metadata": {
        "colab": {
          "base_uri": "https://localhost:8080/"
        },
        "id": "yeluR7GyTt80",
        "outputId": "a6b25b42-4955-430e-b0f0-ea99f6970fbb"
      },
      "source": [
        "# Apply method on the returned dataframe in the same line\n",
        "data_europe.loc[\"Italy\":\"Poland\", 'gdpPercap_1962':'gdpPercap_1972'].max()"
      ],
      "execution_count": null,
      "outputs": [
        {
          "output_type": "execute_result",
          "data": {
            "text/plain": [
              "gdpPercap_1962    13450.40151\n",
              "gdpPercap_1967    16361.87647\n",
              "gdpPercap_1972    18965.05551\n",
              "dtype: float64"
            ]
          },
          "metadata": {
            "tags": []
          },
          "execution_count": 34
        }
      ]
    },
    {
      "cell_type": "code",
      "metadata": {
        "colab": {
          "base_uri": "https://localhost:8080/"
        },
        "id": "0XITFrBmU6OH",
        "outputId": "1144be25-9e21-4b86-b0f7-9cc6770f142b"
      },
      "source": [
        "help(subset.max)"
      ],
      "execution_count": null,
      "outputs": [
        {
          "output_type": "stream",
          "text": [
            "Help on method max in module pandas.core.frame:\n",
            "\n",
            "max(axis=None, skipna=None, level=None, numeric_only=None, **kwargs) method of pandas.core.frame.DataFrame instance\n",
            "    Return the maximum of the values for the requested axis.\n",
            "    \n",
            "    If you want the *index* of the maximum, use ``idxmax``. This isthe equivalent of the ``numpy.ndarray`` method ``argmax``.\n",
            "    \n",
            "    Parameters\n",
            "    ----------\n",
            "    axis : {index (0), columns (1)}\n",
            "        Axis for the function to be applied on.\n",
            "    skipna : bool, default True\n",
            "        Exclude NA/null values when computing the result.\n",
            "    level : int or level name, default None\n",
            "        If the axis is a MultiIndex (hierarchical), count along a\n",
            "        particular level, collapsing into a Series.\n",
            "    numeric_only : bool, default None\n",
            "        Include only float, int, boolean columns. If None, will attempt to use\n",
            "        everything, then use only numeric data. Not implemented for Series.\n",
            "    **kwargs\n",
            "        Additional keyword arguments to be passed to the function.\n",
            "    \n",
            "    Returns\n",
            "    -------\n",
            "    Series or DataFrame (if level specified)\n",
            "    \n",
            "    See Also\n",
            "    --------\n",
            "    Series.sum : Return the sum.\n",
            "    Series.min : Return the minimum.\n",
            "    Series.max : Return the maximum.\n",
            "    Series.idxmin : Return the index of the minimum.\n",
            "    Series.idxmax : Return the index of the maximum.\n",
            "    DataFrame.sum : Return the sum over the requested axis.\n",
            "    DataFrame.min : Return the minimum over the requested axis.\n",
            "    DataFrame.max : Return the maximum over the requested axis.\n",
            "    DataFrame.idxmin : Return the index of the minimum over the requested axis.\n",
            "    DataFrame.idxmax : Return the index of the maximum over the requested axis.\n",
            "    \n",
            "    Examples\n",
            "    --------\n",
            "    >>> idx = pd.MultiIndex.from_arrays([\n",
            "    ...     ['warm', 'warm', 'cold', 'cold'],\n",
            "    ...     ['dog', 'falcon', 'fish', 'spider']],\n",
            "    ...     names=['blooded', 'animal'])\n",
            "    >>> s = pd.Series([4, 2, 0, 8], name='legs', index=idx)\n",
            "    >>> s\n",
            "    blooded  animal\n",
            "    warm     dog       4\n",
            "             falcon    2\n",
            "    cold     fish      0\n",
            "             spider    8\n",
            "    Name: legs, dtype: int64\n",
            "    \n",
            "    >>> s.max()\n",
            "    8\n",
            "    \n",
            "    Max using level names, as well as indices.\n",
            "    \n",
            "    >>> s.max(level='blooded')\n",
            "    blooded\n",
            "    warm    4\n",
            "    cold    8\n",
            "    Name: legs, dtype: int64\n",
            "    \n",
            "    >>> s.max(level=0)\n",
            "    blooded\n",
            "    warm    4\n",
            "    cold    8\n",
            "    Name: legs, dtype: int64\n",
            "\n"
          ],
          "name": "stdout"
        }
      ]
    },
    {
      "cell_type": "markdown",
      "metadata": {
        "id": "qyLz5HL2Dwfm"
      },
      "source": [
        "## Homework"
      ]
    },
    {
      "cell_type": "markdown",
      "metadata": {
        "id": "uFIYkHTWD7Jy"
      },
      "source": [
        "### Exercise: Selection of Individual Values\n",
        "\n",
        "Assume Pandas has been imported into your notebook and the Gapminder GDP data for Europe has been loaded:\n",
        "```\n",
        "import pandas as pd\n",
        "\n",
        "df = pd.read_csv('https://raw.githubusercontent.com/swcarpentry/python-novice-gapminder/gh-pages/data/gapminder_gdp_europe.csv',\n",
        "index_col='country')\n",
        "```\n",
        "Write an expression to find the Per Capita GDP of Serbia in 2007.\n"
      ]
    },
    {
      "cell_type": "markdown",
      "metadata": {
        "id": "TA4rxUgLE1Tm"
      },
      "source": [
        "### Exercise: Extent of Slicing\n",
        "\n",
        "1. Do the two statements below produce the same output?\n",
        "2. Based on this, what rule governs what is included (or not) in numerical slices and named slices in Pandas?\n",
        "\n",
        "```\n",
        "print(df.iloc[0:2, 0:2])\n",
        "print(df.loc['Albania':'Belgium', 'gdpPercap_1952':'gdpPercap_1962'])\n",
        "```"
      ]
    }
  ]
}
