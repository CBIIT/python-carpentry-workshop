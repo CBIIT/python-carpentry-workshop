{
  "nbformat": 4,
  "nbformat_minor": 0,
  "metadata": {
    "colab": {
      "name": "week_3-reading_tabular_data_into_dataframes.ipynb",
      "provenance": [],
      "authorship_tag": "ABX9TyPllIQcTaarNJWU45+Z3XXg",
      "include_colab_link": true
    },
    "kernelspec": {
      "name": "python3",
      "display_name": "Python 3"
    },
    "language_info": {
      "name": "python"
    }
  },
  "cells": [
    {
      "cell_type": "markdown",
      "metadata": {
        "id": "view-in-github",
        "colab_type": "text"
      },
      "source": [
        "<a href=\"https://colab.research.google.com/github/CBIIT/python-carpentry-workshop/blob/main/week_3_reading_tabular_data_into_dataframes.ipynb\" target=\"_parent\"><img src=\"https://colab.research.google.com/assets/colab-badge.svg\" alt=\"Open In Colab\"/></a>"
      ]
    },
    {
      "cell_type": "markdown",
      "metadata": {
        "id": "GTSKa4JrqlmV"
      },
      "source": [
        "# Reading Tabular Data into DataFrames"
      ]
    },
    {
      "cell_type": "markdown",
      "metadata": {
        "id": "VS5sD2Qdqr8B"
      },
      "source": [
        "## Use the Pandas library to do statistics on tabular data\n"
      ]
    },
    {
      "cell_type": "code",
      "source": [
        "import pandas as pd\n",
        "data = pd.read_csv('https://raw.githubusercontent.com/swcarpentry/python-novice-plotting-ARCHIVED/gh-pages/data/gapminder_gdp_oceania.csv')"
      ],
      "metadata": {
        "id": "v5wp3QB6mOK8"
      },
      "execution_count": 1,
      "outputs": []
    },
    {
      "cell_type": "code",
      "source": [
        "print(data)"
      ],
      "metadata": {
        "colab": {
          "base_uri": "https://localhost:8080/"
        },
        "id": "EtcrmI--nN7j",
        "outputId": "76e444c1-ac37-4916-a8e4-9144f4593204"
      },
      "execution_count": 2,
      "outputs": [
        {
          "output_type": "stream",
          "name": "stdout",
          "text": [
            "       country  gdpPercap_1952  gdpPercap_1957  gdpPercap_1962  \\\n",
            "0    Australia     10039.59564     10949.64959     12217.22686   \n",
            "1  New Zealand     10556.57566     12247.39532     13175.67800   \n",
            "\n",
            "   gdpPercap_1967  gdpPercap_1972  gdpPercap_1977  gdpPercap_1982  \\\n",
            "0     14526.12465     16788.62948     18334.19751     19477.00928   \n",
            "1     14463.91893     16046.03728     16233.71770     17632.41040   \n",
            "\n",
            "   gdpPercap_1987  gdpPercap_1992  gdpPercap_1997  gdpPercap_2002  \\\n",
            "0     21888.88903     23424.76683     26997.93657     30687.75473   \n",
            "1     19007.19129     18363.32494     21050.41377     23189.80135   \n",
            "\n",
            "   gdpPercap_2007  \n",
            "0     34435.36744  \n",
            "1     25185.00911  \n"
          ]
        }
      ]
    },
    {
      "cell_type": "markdown",
      "metadata": {
        "id": "YOyCQUUZt5Mg"
      },
      "source": [
        "## Use `index_col` to specify that a column’s values should be used as row headings"
      ]
    },
    {
      "cell_type": "code",
      "source": [
        "data = pd.read_csv('https://raw.githubusercontent.com/swcarpentry/python-novice-plotting-ARCHIVED/gh-pages/data/gapminder_gdp_oceania.csv', index_col='country')\n",
        "print(data)"
      ],
      "metadata": {
        "colab": {
          "base_uri": "https://localhost:8080/"
        },
        "id": "ToxG9VBWnk_x",
        "outputId": "8aa5ce8c-beab-4146-d084-1dc63852ee6e"
      },
      "execution_count": 3,
      "outputs": [
        {
          "output_type": "stream",
          "name": "stdout",
          "text": [
            "             gdpPercap_1952  gdpPercap_1957  gdpPercap_1962  gdpPercap_1967  \\\n",
            "country                                                                       \n",
            "Australia       10039.59564     10949.64959     12217.22686     14526.12465   \n",
            "New Zealand     10556.57566     12247.39532     13175.67800     14463.91893   \n",
            "\n",
            "             gdpPercap_1972  gdpPercap_1977  gdpPercap_1982  gdpPercap_1987  \\\n",
            "country                                                                       \n",
            "Australia       16788.62948     18334.19751     19477.00928     21888.88903   \n",
            "New Zealand     16046.03728     16233.71770     17632.41040     19007.19129   \n",
            "\n",
            "             gdpPercap_1992  gdpPercap_1997  gdpPercap_2002  gdpPercap_2007  \n",
            "country                                                                      \n",
            "Australia       23424.76683     26997.93657     30687.75473     34435.36744  \n",
            "New Zealand     18363.32494     21050.41377     23189.80135     25185.00911  \n"
          ]
        }
      ]
    },
    {
      "cell_type": "markdown",
      "metadata": {
        "id": "P1H429nRyTW8"
      },
      "source": [
        "## Use the `DataFrame.info()` method to find out more about a dataframe"
      ]
    },
    {
      "cell_type": "code",
      "source": [
        "data.info()"
      ],
      "metadata": {
        "colab": {
          "base_uri": "https://localhost:8080/"
        },
        "id": "M8BvPgCvn_WE",
        "outputId": "bf43a551-26de-46df-e06c-7510f0c08e6b"
      },
      "execution_count": 4,
      "outputs": [
        {
          "output_type": "stream",
          "name": "stdout",
          "text": [
            "<class 'pandas.core.frame.DataFrame'>\n",
            "Index: 2 entries, Australia to New Zealand\n",
            "Data columns (total 12 columns):\n",
            " #   Column          Non-Null Count  Dtype  \n",
            "---  ------          --------------  -----  \n",
            " 0   gdpPercap_1952  2 non-null      float64\n",
            " 1   gdpPercap_1957  2 non-null      float64\n",
            " 2   gdpPercap_1962  2 non-null      float64\n",
            " 3   gdpPercap_1967  2 non-null      float64\n",
            " 4   gdpPercap_1972  2 non-null      float64\n",
            " 5   gdpPercap_1977  2 non-null      float64\n",
            " 6   gdpPercap_1982  2 non-null      float64\n",
            " 7   gdpPercap_1987  2 non-null      float64\n",
            " 8   gdpPercap_1992  2 non-null      float64\n",
            " 9   gdpPercap_1997  2 non-null      float64\n",
            " 10  gdpPercap_2002  2 non-null      float64\n",
            " 11  gdpPercap_2007  2 non-null      float64\n",
            "dtypes: float64(12)\n",
            "memory usage: 316.0+ bytes\n"
          ]
        }
      ]
    },
    {
      "cell_type": "markdown",
      "metadata": {
        "id": "rvYnOugq4q7D"
      },
      "source": [
        "## The `DataFrame.columns` variable stores information about the dataframe’s columns"
      ]
    },
    {
      "cell_type": "code",
      "source": [
        "data.columns"
      ],
      "metadata": {
        "colab": {
          "base_uri": "https://localhost:8080/"
        },
        "id": "Trd2UWeSojeT",
        "outputId": "7285bd87-94e4-488d-cb28-a090cbbae5c6"
      },
      "execution_count": 5,
      "outputs": [
        {
          "output_type": "execute_result",
          "data": {
            "text/plain": [
              "Index(['gdpPercap_1952', 'gdpPercap_1957', 'gdpPercap_1962', 'gdpPercap_1967',\n",
              "       'gdpPercap_1972', 'gdpPercap_1977', 'gdpPercap_1982', 'gdpPercap_1987',\n",
              "       'gdpPercap_1992', 'gdpPercap_1997', 'gdpPercap_2002', 'gdpPercap_2007'],\n",
              "      dtype='object')"
            ]
          },
          "metadata": {},
          "execution_count": 5
        }
      ]
    },
    {
      "cell_type": "markdown",
      "metadata": {
        "id": "gNDJPdau6TCM"
      },
      "source": [
        "## Use `DataFrame.T` to transpose a dataframe"
      ]
    },
    {
      "cell_type": "code",
      "source": [
        "data.T"
      ],
      "metadata": {
        "colab": {
          "base_uri": "https://localhost:8080/",
          "height": 425
        },
        "id": "Wmth4-ILo1s-",
        "outputId": "d1e3ab67-8d49-45f1-9bb8-f75199fe4e50"
      },
      "execution_count": 6,
      "outputs": [
        {
          "output_type": "execute_result",
          "data": {
            "text/plain": [
              "country           Australia  New Zealand\n",
              "gdpPercap_1952  10039.59564  10556.57566\n",
              "gdpPercap_1957  10949.64959  12247.39532\n",
              "gdpPercap_1962  12217.22686  13175.67800\n",
              "gdpPercap_1967  14526.12465  14463.91893\n",
              "gdpPercap_1972  16788.62948  16046.03728\n",
              "gdpPercap_1977  18334.19751  16233.71770\n",
              "gdpPercap_1982  19477.00928  17632.41040\n",
              "gdpPercap_1987  21888.88903  19007.19129\n",
              "gdpPercap_1992  23424.76683  18363.32494\n",
              "gdpPercap_1997  26997.93657  21050.41377\n",
              "gdpPercap_2002  30687.75473  23189.80135\n",
              "gdpPercap_2007  34435.36744  25185.00911"
            ],
            "text/html": [
              "\n",
              "  <div id=\"df-4ab5b464-22af-470f-a8b5-08ccdefc6138\">\n",
              "    <div class=\"colab-df-container\">\n",
              "      <div>\n",
              "<style scoped>\n",
              "    .dataframe tbody tr th:only-of-type {\n",
              "        vertical-align: middle;\n",
              "    }\n",
              "\n",
              "    .dataframe tbody tr th {\n",
              "        vertical-align: top;\n",
              "    }\n",
              "\n",
              "    .dataframe thead th {\n",
              "        text-align: right;\n",
              "    }\n",
              "</style>\n",
              "<table border=\"1\" class=\"dataframe\">\n",
              "  <thead>\n",
              "    <tr style=\"text-align: right;\">\n",
              "      <th>country</th>\n",
              "      <th>Australia</th>\n",
              "      <th>New Zealand</th>\n",
              "    </tr>\n",
              "  </thead>\n",
              "  <tbody>\n",
              "    <tr>\n",
              "      <th>gdpPercap_1952</th>\n",
              "      <td>10039.59564</td>\n",
              "      <td>10556.57566</td>\n",
              "    </tr>\n",
              "    <tr>\n",
              "      <th>gdpPercap_1957</th>\n",
              "      <td>10949.64959</td>\n",
              "      <td>12247.39532</td>\n",
              "    </tr>\n",
              "    <tr>\n",
              "      <th>gdpPercap_1962</th>\n",
              "      <td>12217.22686</td>\n",
              "      <td>13175.67800</td>\n",
              "    </tr>\n",
              "    <tr>\n",
              "      <th>gdpPercap_1967</th>\n",
              "      <td>14526.12465</td>\n",
              "      <td>14463.91893</td>\n",
              "    </tr>\n",
              "    <tr>\n",
              "      <th>gdpPercap_1972</th>\n",
              "      <td>16788.62948</td>\n",
              "      <td>16046.03728</td>\n",
              "    </tr>\n",
              "    <tr>\n",
              "      <th>gdpPercap_1977</th>\n",
              "      <td>18334.19751</td>\n",
              "      <td>16233.71770</td>\n",
              "    </tr>\n",
              "    <tr>\n",
              "      <th>gdpPercap_1982</th>\n",
              "      <td>19477.00928</td>\n",
              "      <td>17632.41040</td>\n",
              "    </tr>\n",
              "    <tr>\n",
              "      <th>gdpPercap_1987</th>\n",
              "      <td>21888.88903</td>\n",
              "      <td>19007.19129</td>\n",
              "    </tr>\n",
              "    <tr>\n",
              "      <th>gdpPercap_1992</th>\n",
              "      <td>23424.76683</td>\n",
              "      <td>18363.32494</td>\n",
              "    </tr>\n",
              "    <tr>\n",
              "      <th>gdpPercap_1997</th>\n",
              "      <td>26997.93657</td>\n",
              "      <td>21050.41377</td>\n",
              "    </tr>\n",
              "    <tr>\n",
              "      <th>gdpPercap_2002</th>\n",
              "      <td>30687.75473</td>\n",
              "      <td>23189.80135</td>\n",
              "    </tr>\n",
              "    <tr>\n",
              "      <th>gdpPercap_2007</th>\n",
              "      <td>34435.36744</td>\n",
              "      <td>25185.00911</td>\n",
              "    </tr>\n",
              "  </tbody>\n",
              "</table>\n",
              "</div>\n",
              "      <button class=\"colab-df-convert\" onclick=\"convertToInteractive('df-4ab5b464-22af-470f-a8b5-08ccdefc6138')\"\n",
              "              title=\"Convert this dataframe to an interactive table.\"\n",
              "              style=\"display:none;\">\n",
              "        \n",
              "  <svg xmlns=\"http://www.w3.org/2000/svg\" height=\"24px\"viewBox=\"0 0 24 24\"\n",
              "       width=\"24px\">\n",
              "    <path d=\"M0 0h24v24H0V0z\" fill=\"none\"/>\n",
              "    <path d=\"M18.56 5.44l.94 2.06.94-2.06 2.06-.94-2.06-.94-.94-2.06-.94 2.06-2.06.94zm-11 1L8.5 8.5l.94-2.06 2.06-.94-2.06-.94L8.5 2.5l-.94 2.06-2.06.94zm10 10l.94 2.06.94-2.06 2.06-.94-2.06-.94-.94-2.06-.94 2.06-2.06.94z\"/><path d=\"M17.41 7.96l-1.37-1.37c-.4-.4-.92-.59-1.43-.59-.52 0-1.04.2-1.43.59L10.3 9.45l-7.72 7.72c-.78.78-.78 2.05 0 2.83L4 21.41c.39.39.9.59 1.41.59.51 0 1.02-.2 1.41-.59l7.78-7.78 2.81-2.81c.8-.78.8-2.07 0-2.86zM5.41 20L4 18.59l7.72-7.72 1.47 1.35L5.41 20z\"/>\n",
              "  </svg>\n",
              "      </button>\n",
              "      \n",
              "  <style>\n",
              "    .colab-df-container {\n",
              "      display:flex;\n",
              "      flex-wrap:wrap;\n",
              "      gap: 12px;\n",
              "    }\n",
              "\n",
              "    .colab-df-convert {\n",
              "      background-color: #E8F0FE;\n",
              "      border: none;\n",
              "      border-radius: 50%;\n",
              "      cursor: pointer;\n",
              "      display: none;\n",
              "      fill: #1967D2;\n",
              "      height: 32px;\n",
              "      padding: 0 0 0 0;\n",
              "      width: 32px;\n",
              "    }\n",
              "\n",
              "    .colab-df-convert:hover {\n",
              "      background-color: #E2EBFA;\n",
              "      box-shadow: 0px 1px 2px rgba(60, 64, 67, 0.3), 0px 1px 3px 1px rgba(60, 64, 67, 0.15);\n",
              "      fill: #174EA6;\n",
              "    }\n",
              "\n",
              "    [theme=dark] .colab-df-convert {\n",
              "      background-color: #3B4455;\n",
              "      fill: #D2E3FC;\n",
              "    }\n",
              "\n",
              "    [theme=dark] .colab-df-convert:hover {\n",
              "      background-color: #434B5C;\n",
              "      box-shadow: 0px 1px 3px 1px rgba(0, 0, 0, 0.15);\n",
              "      filter: drop-shadow(0px 1px 2px rgba(0, 0, 0, 0.3));\n",
              "      fill: #FFFFFF;\n",
              "    }\n",
              "  </style>\n",
              "\n",
              "      <script>\n",
              "        const buttonEl =\n",
              "          document.querySelector('#df-4ab5b464-22af-470f-a8b5-08ccdefc6138 button.colab-df-convert');\n",
              "        buttonEl.style.display =\n",
              "          google.colab.kernel.accessAllowed ? 'block' : 'none';\n",
              "\n",
              "        async function convertToInteractive(key) {\n",
              "          const element = document.querySelector('#df-4ab5b464-22af-470f-a8b5-08ccdefc6138');\n",
              "          const dataTable =\n",
              "            await google.colab.kernel.invokeFunction('convertToInteractive',\n",
              "                                                     [key], {});\n",
              "          if (!dataTable) return;\n",
              "\n",
              "          const docLinkHtml = 'Like what you see? Visit the ' +\n",
              "            '<a target=\"_blank\" href=https://colab.research.google.com/notebooks/data_table.ipynb>data table notebook</a>'\n",
              "            + ' to learn more about interactive tables.';\n",
              "          element.innerHTML = '';\n",
              "          dataTable['output_type'] = 'display_data';\n",
              "          await google.colab.output.renderOutput(dataTable, element);\n",
              "          const docLink = document.createElement('div');\n",
              "          docLink.innerHTML = docLinkHtml;\n",
              "          element.appendChild(docLink);\n",
              "        }\n",
              "      </script>\n",
              "    </div>\n",
              "  </div>\n",
              "  "
            ]
          },
          "metadata": {},
          "execution_count": 6
        }
      ]
    },
    {
      "cell_type": "code",
      "source": [
        "print(data)"
      ],
      "metadata": {
        "colab": {
          "base_uri": "https://localhost:8080/"
        },
        "id": "1iUWpXehpDA5",
        "outputId": "68d7b732-1135-4bf9-a779-df2598eb6d8f"
      },
      "execution_count": 7,
      "outputs": [
        {
          "output_type": "stream",
          "name": "stdout",
          "text": [
            "             gdpPercap_1952  gdpPercap_1957  gdpPercap_1962  gdpPercap_1967  \\\n",
            "country                                                                       \n",
            "Australia       10039.59564     10949.64959     12217.22686     14526.12465   \n",
            "New Zealand     10556.57566     12247.39532     13175.67800     14463.91893   \n",
            "\n",
            "             gdpPercap_1972  gdpPercap_1977  gdpPercap_1982  gdpPercap_1987  \\\n",
            "country                                                                       \n",
            "Australia       16788.62948     18334.19751     19477.00928     21888.88903   \n",
            "New Zealand     16046.03728     16233.71770     17632.41040     19007.19129   \n",
            "\n",
            "             gdpPercap_1992  gdpPercap_1997  gdpPercap_2002  gdpPercap_2007  \n",
            "country                                                                      \n",
            "Australia       23424.76683     26997.93657     30687.75473     34435.36744  \n",
            "New Zealand     18363.32494     21050.41377     23189.80135     25185.00911  \n"
          ]
        }
      ]
    },
    {
      "cell_type": "markdown",
      "metadata": {
        "id": "joqsgrT07JWo"
      },
      "source": [
        "## Use `DataFrame.describe()` to get summary statistics about data."
      ]
    },
    {
      "cell_type": "code",
      "source": [
        "data.describe()"
      ],
      "metadata": {
        "colab": {
          "base_uri": "https://localhost:8080/",
          "height": 364
        },
        "id": "EyQ6BE6gpNgi",
        "outputId": "0834838e-5484-4172-dc98-71c2b020a9f2"
      },
      "execution_count": 8,
      "outputs": [
        {
          "output_type": "execute_result",
          "data": {
            "text/plain": [
              "       gdpPercap_1952  gdpPercap_1957  gdpPercap_1962  gdpPercap_1967  \\\n",
              "count        2.000000        2.000000        2.000000        2.000000   \n",
              "mean     10298.085650    11598.522455    12696.452430    14495.021790   \n",
              "std        365.560078      917.644806      677.727301       43.986086   \n",
              "min      10039.595640    10949.649590    12217.226860    14463.918930   \n",
              "25%      10168.840645    11274.086022    12456.839645    14479.470360   \n",
              "50%      10298.085650    11598.522455    12696.452430    14495.021790   \n",
              "75%      10427.330655    11922.958888    12936.065215    14510.573220   \n",
              "max      10556.575660    12247.395320    13175.678000    14526.124650   \n",
              "\n",
              "       gdpPercap_1972  gdpPercap_1977  gdpPercap_1982  gdpPercap_1987  \\\n",
              "count         2.00000        2.000000        2.000000        2.000000   \n",
              "mean      16417.33338    17283.957605    18554.709840    20448.040160   \n",
              "std         525.09198     1485.263517     1304.328377     2037.668013   \n",
              "min       16046.03728    16233.717700    17632.410400    19007.191290   \n",
              "25%       16231.68533    16758.837652    18093.560120    19727.615725   \n",
              "50%       16417.33338    17283.957605    18554.709840    20448.040160   \n",
              "75%       16602.98143    17809.077558    19015.859560    21168.464595   \n",
              "max       16788.62948    18334.197510    19477.009280    21888.889030   \n",
              "\n",
              "       gdpPercap_1992  gdpPercap_1997  gdpPercap_2002  gdpPercap_2007  \n",
              "count        2.000000        2.000000        2.000000        2.000000  \n",
              "mean     20894.045885    24024.175170    26938.778040    29810.188275  \n",
              "std       3578.979883     4205.533703     5301.853680     6540.991104  \n",
              "min      18363.324940    21050.413770    23189.801350    25185.009110  \n",
              "25%      19628.685412    22537.294470    25064.289695    27497.598692  \n",
              "50%      20894.045885    24024.175170    26938.778040    29810.188275  \n",
              "75%      22159.406358    25511.055870    28813.266385    32122.777858  \n",
              "max      23424.766830    26997.936570    30687.754730    34435.367440  "
            ],
            "text/html": [
              "\n",
              "  <div id=\"df-2e5bfe24-5c0e-4fd0-a389-28a00ab91fe4\">\n",
              "    <div class=\"colab-df-container\">\n",
              "      <div>\n",
              "<style scoped>\n",
              "    .dataframe tbody tr th:only-of-type {\n",
              "        vertical-align: middle;\n",
              "    }\n",
              "\n",
              "    .dataframe tbody tr th {\n",
              "        vertical-align: top;\n",
              "    }\n",
              "\n",
              "    .dataframe thead th {\n",
              "        text-align: right;\n",
              "    }\n",
              "</style>\n",
              "<table border=\"1\" class=\"dataframe\">\n",
              "  <thead>\n",
              "    <tr style=\"text-align: right;\">\n",
              "      <th></th>\n",
              "      <th>gdpPercap_1952</th>\n",
              "      <th>gdpPercap_1957</th>\n",
              "      <th>gdpPercap_1962</th>\n",
              "      <th>gdpPercap_1967</th>\n",
              "      <th>gdpPercap_1972</th>\n",
              "      <th>gdpPercap_1977</th>\n",
              "      <th>gdpPercap_1982</th>\n",
              "      <th>gdpPercap_1987</th>\n",
              "      <th>gdpPercap_1992</th>\n",
              "      <th>gdpPercap_1997</th>\n",
              "      <th>gdpPercap_2002</th>\n",
              "      <th>gdpPercap_2007</th>\n",
              "    </tr>\n",
              "  </thead>\n",
              "  <tbody>\n",
              "    <tr>\n",
              "      <th>count</th>\n",
              "      <td>2.000000</td>\n",
              "      <td>2.000000</td>\n",
              "      <td>2.000000</td>\n",
              "      <td>2.000000</td>\n",
              "      <td>2.00000</td>\n",
              "      <td>2.000000</td>\n",
              "      <td>2.000000</td>\n",
              "      <td>2.000000</td>\n",
              "      <td>2.000000</td>\n",
              "      <td>2.000000</td>\n",
              "      <td>2.000000</td>\n",
              "      <td>2.000000</td>\n",
              "    </tr>\n",
              "    <tr>\n",
              "      <th>mean</th>\n",
              "      <td>10298.085650</td>\n",
              "      <td>11598.522455</td>\n",
              "      <td>12696.452430</td>\n",
              "      <td>14495.021790</td>\n",
              "      <td>16417.33338</td>\n",
              "      <td>17283.957605</td>\n",
              "      <td>18554.709840</td>\n",
              "      <td>20448.040160</td>\n",
              "      <td>20894.045885</td>\n",
              "      <td>24024.175170</td>\n",
              "      <td>26938.778040</td>\n",
              "      <td>29810.188275</td>\n",
              "    </tr>\n",
              "    <tr>\n",
              "      <th>std</th>\n",
              "      <td>365.560078</td>\n",
              "      <td>917.644806</td>\n",
              "      <td>677.727301</td>\n",
              "      <td>43.986086</td>\n",
              "      <td>525.09198</td>\n",
              "      <td>1485.263517</td>\n",
              "      <td>1304.328377</td>\n",
              "      <td>2037.668013</td>\n",
              "      <td>3578.979883</td>\n",
              "      <td>4205.533703</td>\n",
              "      <td>5301.853680</td>\n",
              "      <td>6540.991104</td>\n",
              "    </tr>\n",
              "    <tr>\n",
              "      <th>min</th>\n",
              "      <td>10039.595640</td>\n",
              "      <td>10949.649590</td>\n",
              "      <td>12217.226860</td>\n",
              "      <td>14463.918930</td>\n",
              "      <td>16046.03728</td>\n",
              "      <td>16233.717700</td>\n",
              "      <td>17632.410400</td>\n",
              "      <td>19007.191290</td>\n",
              "      <td>18363.324940</td>\n",
              "      <td>21050.413770</td>\n",
              "      <td>23189.801350</td>\n",
              "      <td>25185.009110</td>\n",
              "    </tr>\n",
              "    <tr>\n",
              "      <th>25%</th>\n",
              "      <td>10168.840645</td>\n",
              "      <td>11274.086022</td>\n",
              "      <td>12456.839645</td>\n",
              "      <td>14479.470360</td>\n",
              "      <td>16231.68533</td>\n",
              "      <td>16758.837652</td>\n",
              "      <td>18093.560120</td>\n",
              "      <td>19727.615725</td>\n",
              "      <td>19628.685412</td>\n",
              "      <td>22537.294470</td>\n",
              "      <td>25064.289695</td>\n",
              "      <td>27497.598692</td>\n",
              "    </tr>\n",
              "    <tr>\n",
              "      <th>50%</th>\n",
              "      <td>10298.085650</td>\n",
              "      <td>11598.522455</td>\n",
              "      <td>12696.452430</td>\n",
              "      <td>14495.021790</td>\n",
              "      <td>16417.33338</td>\n",
              "      <td>17283.957605</td>\n",
              "      <td>18554.709840</td>\n",
              "      <td>20448.040160</td>\n",
              "      <td>20894.045885</td>\n",
              "      <td>24024.175170</td>\n",
              "      <td>26938.778040</td>\n",
              "      <td>29810.188275</td>\n",
              "    </tr>\n",
              "    <tr>\n",
              "      <th>75%</th>\n",
              "      <td>10427.330655</td>\n",
              "      <td>11922.958888</td>\n",
              "      <td>12936.065215</td>\n",
              "      <td>14510.573220</td>\n",
              "      <td>16602.98143</td>\n",
              "      <td>17809.077558</td>\n",
              "      <td>19015.859560</td>\n",
              "      <td>21168.464595</td>\n",
              "      <td>22159.406358</td>\n",
              "      <td>25511.055870</td>\n",
              "      <td>28813.266385</td>\n",
              "      <td>32122.777858</td>\n",
              "    </tr>\n",
              "    <tr>\n",
              "      <th>max</th>\n",
              "      <td>10556.575660</td>\n",
              "      <td>12247.395320</td>\n",
              "      <td>13175.678000</td>\n",
              "      <td>14526.124650</td>\n",
              "      <td>16788.62948</td>\n",
              "      <td>18334.197510</td>\n",
              "      <td>19477.009280</td>\n",
              "      <td>21888.889030</td>\n",
              "      <td>23424.766830</td>\n",
              "      <td>26997.936570</td>\n",
              "      <td>30687.754730</td>\n",
              "      <td>34435.367440</td>\n",
              "    </tr>\n",
              "  </tbody>\n",
              "</table>\n",
              "</div>\n",
              "      <button class=\"colab-df-convert\" onclick=\"convertToInteractive('df-2e5bfe24-5c0e-4fd0-a389-28a00ab91fe4')\"\n",
              "              title=\"Convert this dataframe to an interactive table.\"\n",
              "              style=\"display:none;\">\n",
              "        \n",
              "  <svg xmlns=\"http://www.w3.org/2000/svg\" height=\"24px\"viewBox=\"0 0 24 24\"\n",
              "       width=\"24px\">\n",
              "    <path d=\"M0 0h24v24H0V0z\" fill=\"none\"/>\n",
              "    <path d=\"M18.56 5.44l.94 2.06.94-2.06 2.06-.94-2.06-.94-.94-2.06-.94 2.06-2.06.94zm-11 1L8.5 8.5l.94-2.06 2.06-.94-2.06-.94L8.5 2.5l-.94 2.06-2.06.94zm10 10l.94 2.06.94-2.06 2.06-.94-2.06-.94-.94-2.06-.94 2.06-2.06.94z\"/><path d=\"M17.41 7.96l-1.37-1.37c-.4-.4-.92-.59-1.43-.59-.52 0-1.04.2-1.43.59L10.3 9.45l-7.72 7.72c-.78.78-.78 2.05 0 2.83L4 21.41c.39.39.9.59 1.41.59.51 0 1.02-.2 1.41-.59l7.78-7.78 2.81-2.81c.8-.78.8-2.07 0-2.86zM5.41 20L4 18.59l7.72-7.72 1.47 1.35L5.41 20z\"/>\n",
              "  </svg>\n",
              "      </button>\n",
              "      \n",
              "  <style>\n",
              "    .colab-df-container {\n",
              "      display:flex;\n",
              "      flex-wrap:wrap;\n",
              "      gap: 12px;\n",
              "    }\n",
              "\n",
              "    .colab-df-convert {\n",
              "      background-color: #E8F0FE;\n",
              "      border: none;\n",
              "      border-radius: 50%;\n",
              "      cursor: pointer;\n",
              "      display: none;\n",
              "      fill: #1967D2;\n",
              "      height: 32px;\n",
              "      padding: 0 0 0 0;\n",
              "      width: 32px;\n",
              "    }\n",
              "\n",
              "    .colab-df-convert:hover {\n",
              "      background-color: #E2EBFA;\n",
              "      box-shadow: 0px 1px 2px rgba(60, 64, 67, 0.3), 0px 1px 3px 1px rgba(60, 64, 67, 0.15);\n",
              "      fill: #174EA6;\n",
              "    }\n",
              "\n",
              "    [theme=dark] .colab-df-convert {\n",
              "      background-color: #3B4455;\n",
              "      fill: #D2E3FC;\n",
              "    }\n",
              "\n",
              "    [theme=dark] .colab-df-convert:hover {\n",
              "      background-color: #434B5C;\n",
              "      box-shadow: 0px 1px 3px 1px rgba(0, 0, 0, 0.15);\n",
              "      filter: drop-shadow(0px 1px 2px rgba(0, 0, 0, 0.3));\n",
              "      fill: #FFFFFF;\n",
              "    }\n",
              "  </style>\n",
              "\n",
              "      <script>\n",
              "        const buttonEl =\n",
              "          document.querySelector('#df-2e5bfe24-5c0e-4fd0-a389-28a00ab91fe4 button.colab-df-convert');\n",
              "        buttonEl.style.display =\n",
              "          google.colab.kernel.accessAllowed ? 'block' : 'none';\n",
              "\n",
              "        async function convertToInteractive(key) {\n",
              "          const element = document.querySelector('#df-2e5bfe24-5c0e-4fd0-a389-28a00ab91fe4');\n",
              "          const dataTable =\n",
              "            await google.colab.kernel.invokeFunction('convertToInteractive',\n",
              "                                                     [key], {});\n",
              "          if (!dataTable) return;\n",
              "\n",
              "          const docLinkHtml = 'Like what you see? Visit the ' +\n",
              "            '<a target=\"_blank\" href=https://colab.research.google.com/notebooks/data_table.ipynb>data table notebook</a>'\n",
              "            + ' to learn more about interactive tables.';\n",
              "          element.innerHTML = '';\n",
              "          dataTable['output_type'] = 'display_data';\n",
              "          await google.colab.output.renderOutput(dataTable, element);\n",
              "          const docLink = document.createElement('div');\n",
              "          docLink.innerHTML = docLinkHtml;\n",
              "          element.appendChild(docLink);\n",
              "        }\n",
              "      </script>\n",
              "    </div>\n",
              "  </div>\n",
              "  "
            ]
          },
          "metadata": {},
          "execution_count": 8
        }
      ]
    },
    {
      "cell_type": "markdown",
      "source": [
        "## Summary\n",
        "\n",
        "- Use the Pandas library to get basic statistics out of tabular data.\n",
        "- Use `index_col` to specify that a column’s values should be used as row headings.\n",
        "- Use `DataFrame.info()` to find out more about a dataframe.\n",
        "- The `DataFrame.columns` variable stores information about the dataframe’s columns.\n",
        "- Use `DataFrame.T` to transpose a dataframe.\n",
        "- Use `DataFrame.describe()` to get summary statistics about data."
      ],
      "metadata": {
        "id": "T0VdpttUe_qf"
      }
    },
    {
      "cell_type": "markdown",
      "metadata": {
        "id": "NnMT-fIT_mZP"
      },
      "source": [
        "## Homework"
      ]
    },
    {
      "cell_type": "markdown",
      "metadata": {
        "id": "5yXaNvvY-EEw"
      },
      "source": [
        "### Exercise: Writing Data\n",
        "\n",
        "As well as the `read_csv` function for reading data from a file, Pandas provides a `to_csv` function to write dataframes to files. Applying what you’ve learned about reading from files, write the dataframe `data` to a file called `processed.csv`. You can use `help` to get information on how to use `to_csv`."
      ]
    },
    {
      "cell_type": "markdown",
      "metadata": {
        "id": "32qnMhIc_VYQ"
      },
      "source": [
        "### Exercise: Reading Other Data\n",
        "\n",
        "Read the data in `gapminder_gdp_americas.csv` (which is stored at https://raw.githubusercontent.com/swcarpentry/python-novice-gapminder/gh-pages/data/gapminder_gdp_americas.csv) into a variable called `americas` and display its summary statistics."
      ]
    },
    {
      "cell_type": "markdown",
      "metadata": {
        "id": "iKSshUyQBEGs"
      },
      "source": [
        "### Exercise: Inspecting Data\n",
        "\n",
        "After reading the data for the Americas, use `help(americas.head)` and `help(americas.tail)` to find out what `DataFrame.head` and `DataFrame.tail` do.\n",
        "\n",
        "1. What method call will display the first three rows of this data?\n",
        "2. What method call will display the last three columns of this data? (Hint: you may need to change your view of the data.)"
      ]
    }
  ]
}