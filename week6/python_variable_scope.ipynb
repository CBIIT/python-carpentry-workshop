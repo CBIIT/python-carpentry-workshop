{
  "nbformat": 4,
  "nbformat_minor": 0,
  "metadata": {
    "colab": {
      "name": "python_variable_scope.ipynb",
      "provenance": [],
      "include_colab_link": true
    },
    "kernelspec": {
      "name": "python3",
      "display_name": "Python 3"
    },
    "language_info": {
      "name": "python"
    }
  },
  "cells": [
    {
      "cell_type": "markdown",
      "metadata": {
        "id": "view-in-github",
        "colab_type": "text"
      },
      "source": [
        "<a href=\"https://colab.research.google.com/github/CBIIT/python-carpentry-workshop/blob/main/python_variable_scope.ipynb\" target=\"_parent\"><img src=\"https://colab.research.google.com/assets/colab-badge.svg\" alt=\"Open In Colab\"/></a>"
      ]
    },
    {
      "cell_type": "markdown",
      "metadata": {
        "id": "nzw6AJ4FFZcC"
      },
      "source": [
        "# **Variable Scope**\n",
        "\n",
        "**The scope of a variable is the part of a program that can ‘see’ that variable.**\n",
        "\n",
        "* The scope of a variable is the part of a program that can ‘see’ that variable.\n",
        "* There are only so many sensible names for \n",
        "variables.\n",
        "* People using functions shouldn’t have to worry about what variable names the author of the function used.\n",
        "* People writing functions shouldn’t have to worry about what variable names the function’s caller uses.\n",
        "* The part of a program in which a variable is visible is called its scope."
      ]
    },
    {
      "cell_type": "code",
      "metadata": {
        "id": "DjdgbaU4F-Uo"
      },
      "source": [
        "pressure = 103.9\n",
        "\n",
        "def adjust(t):\n",
        "  temperature = t*1.43/pressure\n",
        "  return temperature\n"
      ],
      "execution_count": null,
      "outputs": []
    },
    {
      "cell_type": "code",
      "metadata": {
        "colab": {
          "base_uri": "https://localhost:8080/",
          "height": 216
        },
        "id": "g12vSG_VLQSc",
        "outputId": "2852ed4f-f757-4628-caac-7ecf80ff33f5"
      },
      "source": [
        "print('adjusted:', adjust(0.9))\n",
        "#correct\n",
        "#temperature=adjust(0.9)\n",
        "#incorrect\n",
        "print('temperature after call:',temperature)"
      ],
      "execution_count": null,
      "outputs": [
        {
          "output_type": "stream",
          "text": [
            "adjusted: 0.01238691049085659\n"
          ],
          "name": "stdout"
        },
        {
          "output_type": "error",
          "ename": "NameError",
          "evalue": "ignored",
          "traceback": [
            "\u001b[0;31m---------------------------------------------------------------------------\u001b[0m",
            "\u001b[0;31mNameError\u001b[0m                                 Traceback (most recent call last)",
            "\u001b[0;32m<ipython-input-2-893f6ce773a8>\u001b[0m in \u001b[0;36m<module>\u001b[0;34m()\u001b[0m\n\u001b[1;32m      3\u001b[0m \u001b[0;31m#temperature=adjust(0.9)\u001b[0m\u001b[0;34m\u001b[0m\u001b[0;34m\u001b[0m\u001b[0;34m\u001b[0m\u001b[0m\n\u001b[1;32m      4\u001b[0m \u001b[0;31m#incorrect\u001b[0m\u001b[0;34m\u001b[0m\u001b[0;34m\u001b[0m\u001b[0;34m\u001b[0m\u001b[0m\n\u001b[0;32m----> 5\u001b[0;31m \u001b[0mprint\u001b[0m\u001b[0;34m(\u001b[0m\u001b[0;34m'temperature after call:'\u001b[0m\u001b[0;34m,\u001b[0m\u001b[0mtemperature\u001b[0m\u001b[0;34m)\u001b[0m\u001b[0;34m\u001b[0m\u001b[0;34m\u001b[0m\u001b[0m\n\u001b[0m",
            "\u001b[0;31mNameError\u001b[0m: name 'temperature' is not defined"
          ]
        }
      ]
    },
    {
      "cell_type": "markdown",
      "metadata": {
        "id": "nRsKSB_bGCIR"
      },
      "source": [
        "* pressure is a global variable.\n",
        " * Defined outside any particular function.\n",
        " * Visible everywhere.\n",
        "* t and temperature are local variables in adjust.\n",
        " * Defined in the function.\n",
        " * Not visible in the main program.\n",
        " * Remember: a function parameter is a variable that is automatically assigned a value when the function is called."
      ]
    },
    {
      "cell_type": "code",
      "metadata": {
        "colab": {
          "base_uri": "https://localhost:8080/"
        },
        "id": "o-OwGHSKGcRk",
        "outputId": "fc542425-91fb-402e-b7e5-ffba7b7bd0db"
      },
      "source": [
        "limit = 100 # undefined - 100\n",
        "def clip(value): \n",
        "  return min(max(0.0, value), limit) \n",
        "\n",
        "value = -22.5# undefined - -22.5\n",
        "print(clip(value)) # Start function"
      ],
      "execution_count": null,
      "outputs": [
        {
          "output_type": "stream",
          "text": [
            "0.0\n"
          ],
          "name": "stdout"
        }
      ]
    }
  ]
}
