{
  "nbformat": 4,
  "nbformat_minor": 0,
  "metadata": {
    "colab": {
      "name": "week_6b_programming_style.ipynb",
      "provenance": [],
      "collapsed_sections": [
        "7hDIUC5fcM-7",
        "0ZeEQOYZmY5Y",
        "4kTeDFpQvPdy",
        "-NBxDwsaw1PQ",
        "CTHlCZUMqy0C",
        "gaFyzx8C_8kv"
      ]
    },
    "kernelspec": {
      "name": "python3",
      "display_name": "Python 3"
    },
    "language_info": {
      "name": "python"
    }
  },
  "cells": [
    {
      "cell_type": "markdown",
      "source": [
        "## Programming Style"
      ],
      "metadata": {
        "id": "9-zHpVjEaWxQ"
      }
    },
    {
      "cell_type": "markdown",
      "source": [
        "### Choose your own, effective, coding style"
      ],
      "metadata": {
        "id": "7hDIUC5fcM-7"
      }
    },
    {
      "cell_type": "markdown",
      "source": [
        "You can listen to anybody's advice, including\n",
        "\n",
        "* The [Zen of Python](https://peps.python.org/pep-0020/)\n",
        "* The [Python Style Guide (PEP 8)](https://peps.python.org/pep-0008/)\n",
        "* The [Google Python Style Guide](https://google.github.io/styleguide/pyguide.html)\n",
        "* People's online\n",
        "* Ours/mine\n",
        "\n",
        "but, just like advice on anything, while it's a good idea to give others (especially experts) the benefit of the doubt, in the end you should think critically about it and do what you think is best.\n",
        "\n",
        "You won't do it perfectly the first time but as you code more and more, you will learn and decide what is best.\n",
        "\n",
        "When it comes to style, using a [linter](https://realpython.com/python-code-quality/) can help you stick to one. You can disable rules you disagree with."
      ],
      "metadata": {
        "id": "ChL23-JHcYEE"
      }
    },
    {
      "cell_type": "markdown",
      "source": [
        "### Comment extensively"
      ],
      "metadata": {
        "id": "0ZeEQOYZmY5Y"
      }
    },
    {
      "cell_type": "markdown",
      "source": [
        "One universal piece of advice is to comment the heck out of your code. This helps you check the logic of the code that you write, twice:\n",
        "\n",
        "1. When you initially wrote the code\n",
        "1. When you comment the code that you just wrote\n",
        "\n",
        "There are two parties you should think about when coding:\n",
        "\n",
        "1. Others\n",
        "1. Your future self --> this is often the more important one!\n",
        "\n",
        "Commenting includes writing docstrings, which we'll get to shortly."
      ],
      "metadata": {
        "id": "D8kV7ZOgcDQT"
      }
    },
    {
      "cell_type": "markdown",
      "source": [
        "### Use the right tool for the job"
      ],
      "metadata": {
        "id": "4kTeDFpQvPdy"
      }
    },
    {
      "cell_type": "markdown",
      "source": [
        "The [Emacs vs. vi debate](https://en.wikipedia.org/wiki/Editor_war) is over. The winner is [VS Code](https://code.visualstudio.com/) for a full-fledged (IDE).\n",
        "\n",
        "Jupyter-based notebooks are popular now for good reason; VS Code and [JupyterLab](https://jupyter.org/install) (not Jupyter Notebook, which is being replaced by JupyterLab) are where to go to get Jupyter notebooks working on your machine.\n",
        "\n",
        "For online Jupyter notebooks, [Google Colab](https://colab.research.google.com/) is really good.\n",
        "\n",
        "Possible jobs:\n",
        "\n",
        "* **Jupyter notebook on your own computer.** Winner: VS Code (JupyterLab is good though)\n",
        "* **Python script on your own computer.** Winner: VS Code\n",
        "* **Library (i.e. [module](https://docs.python.org/3/tutorial/modules.html)) on your own computer.** Winner: VS Code\n",
        "* **Jupyter notebook on the cloud.** Winner: Google Colab\n",
        "\n",
        "Often you won't write Python scripts, since you generally want to re-use the functionality that scripts provide. Instead, [write modules](https://docs.python.org/3/tutorial/modules.html) containing functions that you can subsequently call from anywhere, e.g., from a Jupyter notebook, a Python script, or functions within a Python module. Examples are `numpy` and `pandas`; these are modules, not scripts!"
      ],
      "metadata": {
        "id": "95O6m8qjmS_m"
      }
    },
    {
      "cell_type": "markdown",
      "source": [
        "### Use assertions to check for internal errors"
      ],
      "metadata": {
        "id": "-NBxDwsaw1PQ"
      }
    },
    {
      "cell_type": "markdown",
      "source": [
        "Sometimes you want to write a check in your code and print a helpful error message, e.g.:"
      ],
      "metadata": {
        "id": "tFAF-Vryw49I"
      }
    },
    {
      "cell_type": "code",
      "source": [
        "def calc_bulk_density(mass, volume):\n",
        "    '''Return dry bulk density = powder mass / powder volume.'''\n",
        "    if volume <= 0:\n",
        "      print('ERROR: A non-positive volume is meaningless when calculating bulk density!')\n",
        "      return\n",
        "    return mass / volume"
      ],
      "metadata": {
        "id": "HpfOLQa1xFJo"
      },
      "execution_count": null,
      "outputs": []
    },
    {
      "cell_type": "code",
      "source": [
        "# Try running this\n",
        "calc_bulk_density(4, 0)"
      ],
      "metadata": {
        "colab": {
          "base_uri": "https://localhost:8080/"
        },
        "id": "pA8JxlvszKm7",
        "outputId": "63e057ad-6bf5-4013-f865-9cb9e69e60ab"
      },
      "execution_count": null,
      "outputs": [
        {
          "output_type": "stream",
          "name": "stdout",
          "text": [
            "ERROR: A non-positive volume is meaningless when calculating bulk density!\n"
          ]
        }
      ]
    },
    {
      "cell_type": "markdown",
      "source": [
        "This is helpful, but you can achieve a similar effect by using an `assert` statement:"
      ],
      "metadata": {
        "id": "ktxPpMxUxntJ"
      }
    },
    {
      "cell_type": "code",
      "source": [
        "def calc_bulk_density(mass, volume):\n",
        "    '''Return dry bulk density = powder mass / powder volume.'''\n",
        "    assert volume > 0, \"ERROR: A non-positive volume is meaningless when calculating bulk density!\"\n",
        "    return mass / volume"
      ],
      "metadata": {
        "id": "Iz5id2M0wo9I"
      },
      "execution_count": null,
      "outputs": []
    },
    {
      "cell_type": "code",
      "source": [
        "# Try running this\n",
        "calc_bulk_density(4, 0)"
      ],
      "metadata": {
        "colab": {
          "base_uri": "https://localhost:8080/",
          "height": 287
        },
        "id": "xjn7i6cjzgEf",
        "outputId": "a3956b6c-1ba9-40a0-831d-c7c397f2564a"
      },
      "execution_count": null,
      "outputs": [
        {
          "output_type": "error",
          "ename": "AssertionError",
          "evalue": "ignored",
          "traceback": [
            "\u001b[0;31m---------------------------------------------------------------------------\u001b[0m",
            "\u001b[0;31mAssertionError\u001b[0m                            Traceback (most recent call last)",
            "\u001b[0;32m<ipython-input-19-47ad508eba72>\u001b[0m in \u001b[0;36m<module>\u001b[0;34m()\u001b[0m\n\u001b[1;32m      1\u001b[0m \u001b[0;31m# Try running this\u001b[0m\u001b[0;34m\u001b[0m\u001b[0;34m\u001b[0m\u001b[0;34m\u001b[0m\u001b[0m\n\u001b[0;32m----> 2\u001b[0;31m \u001b[0mcalc_bulk_density\u001b[0m\u001b[0;34m(\u001b[0m\u001b[0;36m4\u001b[0m\u001b[0;34m,\u001b[0m \u001b[0;36m0\u001b[0m\u001b[0;34m)\u001b[0m\u001b[0;34m\u001b[0m\u001b[0;34m\u001b[0m\u001b[0m\n\u001b[0m",
            "\u001b[0;32m<ipython-input-18-2520b4af2294>\u001b[0m in \u001b[0;36mcalc_bulk_density\u001b[0;34m(mass, volume)\u001b[0m\n\u001b[1;32m      1\u001b[0m \u001b[0;32mdef\u001b[0m \u001b[0mcalc_bulk_density\u001b[0m\u001b[0;34m(\u001b[0m\u001b[0mmass\u001b[0m\u001b[0;34m,\u001b[0m \u001b[0mvolume\u001b[0m\u001b[0;34m)\u001b[0m\u001b[0;34m:\u001b[0m\u001b[0;34m\u001b[0m\u001b[0;34m\u001b[0m\u001b[0m\n\u001b[1;32m      2\u001b[0m     \u001b[0;34m'''Return dry bulk density = powder mass / powder volume.'''\u001b[0m\u001b[0;34m\u001b[0m\u001b[0;34m\u001b[0m\u001b[0m\n\u001b[0;32m----> 3\u001b[0;31m     \u001b[0;32massert\u001b[0m \u001b[0mvolume\u001b[0m \u001b[0;34m>\u001b[0m \u001b[0;36m0\u001b[0m\u001b[0;34m,\u001b[0m \u001b[0;34m\"ERROR: A non-positive volume is meaningless when calculating bulk density!\"\u001b[0m\u001b[0;34m\u001b[0m\u001b[0;34m\u001b[0m\u001b[0m\n\u001b[0m\u001b[1;32m      4\u001b[0m     \u001b[0;32mreturn\u001b[0m \u001b[0mmass\u001b[0m \u001b[0;34m/\u001b[0m \u001b[0mvolume\u001b[0m\u001b[0;34m\u001b[0m\u001b[0;34m\u001b[0m\u001b[0m\n",
            "\u001b[0;31mAssertionError\u001b[0m: ERROR: A non-positive volume is meaningless when calculating bulk density!"
          ]
        }
      ]
    },
    {
      "cell_type": "markdown",
      "source": [
        "Similar to running checks like this, there are standard ways of [error-proofing your code](https://docs.python.org/3/tutorial/errors.html)."
      ],
      "metadata": {
        "id": "OD70EXuTx5Bi"
      }
    },
    {
      "cell_type": "markdown",
      "source": [
        "### Use docstrings to provide built-in help"
      ],
      "metadata": {
        "id": "oC1AslRe0WHy"
      }
    },
    {
      "cell_type": "markdown",
      "source": [
        "If you have a single- or multi-line string directly after a function definition header, this is called a \"docstring.\"\n",
        "\n",
        "The point is to describe the function and should generally be multiple lines, containing:\n",
        "\n",
        "1. A summary of what the function does\n",
        "1. Arguments to the function\n",
        "1. Return values of the function\n",
        "\n",
        "A single-line docstring looks like this:"
      ],
      "metadata": {
        "id": "de8VNhos0yrH"
      }
    },
    {
      "cell_type": "code",
      "source": [
        "def average(values, error_message=None):\n",
        "    \"Return average of values, or None if no values are supplied.\"\n",
        "\n",
        "    if len(values) != 0:\n",
        "        return sum(values) / len(values)\n",
        "    else:\n",
        "        if error_message is not None:\n",
        "            print(error_message)"
      ],
      "metadata": {
        "id": "bYj-DbyB1agL"
      },
      "execution_count": null,
      "outputs": []
    },
    {
      "cell_type": "markdown",
      "source": [
        "A more descriptive, multi-line docstring looks like this:"
      ],
      "metadata": {
        "id": "TEMeNY0d1jZU"
      }
    },
    {
      "cell_type": "code",
      "source": [
        "def average(values, error_message=None):\n",
        "    \"\"\"Return average of values, or None if no values are supplied.\n",
        "\n",
        "    Args:\n",
        "        values (list): Array containing at least one number\n",
        "        error_message (str or None, optional): Message you want displayed if values contains nothing. Defaults to None.\n",
        "\n",
        "    Returns:\n",
        "        float: Mean of the numbers contained in values\n",
        "    \"\"\"\n",
        "\n",
        "    if len(values) != 0:\n",
        "        return sum(values) / len(values)\n",
        "    else:\n",
        "        if error_message is not None:\n",
        "            print(error_message)"
      ],
      "metadata": {
        "id": "vUq_Dm8w2aQh"
      },
      "execution_count": null,
      "outputs": []
    },
    {
      "cell_type": "markdown",
      "source": [
        "In [VS Code](https://code.visualstudio.com/) there is a [great extension](https://marketplace.visualstudio.com/items?itemName=njpwerner.autodocstring) that will automatically give you a template for writing docstrings. It helps you to comment more easily and allows you to not have to remember the same format every time!\n",
        "\n",
        "One great thing about docstrings is that helpful messages are displayed when:\n",
        "\n",
        "1. You start typing the function name\n",
        "1. When you use the `help` builtin function"
      ],
      "metadata": {
        "id": "GZ89gnBH4XDx"
      }
    },
    {
      "cell_type": "code",
      "source": [
        "help(average)"
      ],
      "metadata": {
        "colab": {
          "base_uri": "https://localhost:8080/"
        },
        "id": "45lRqSom4njs",
        "outputId": "bb92b0ec-1d5d-446b-8bab-cf2c101cc111"
      },
      "execution_count": null,
      "outputs": [
        {
          "output_type": "stream",
          "name": "stdout",
          "text": [
            "Help on function average in module __main__:\n",
            "\n",
            "average(values, error_message=None)\n",
            "    Return average of values, or None if no values are supplied.\n",
            "    \n",
            "    Args:\n",
            "        values (list): Array containing at least one number\n",
            "        error_message (str or None, optional): Message you want displayed if values contains nothing. Defaults to None.\n",
            "    \n",
            "    Returns:\n",
            "        float: Mean of the numbers contained in values\n",
            "\n"
          ]
        }
      ]
    },
    {
      "cell_type": "markdown",
      "source": [
        "Docstrings are also used by documentation tools such as `sphinx` that automatically extract them all and build neatly-formatted documentation webpages."
      ],
      "metadata": {
        "id": "iNT1WyKl5hX5"
      }
    },
    {
      "cell_type": "markdown",
      "source": [
        "### Exercises"
      ],
      "metadata": {
        "id": "CTHlCZUMqy0C"
      }
    },
    {
      "cell_type": "markdown",
      "source": [
        "1. [What Will Be Shown](http://swcarpentry.github.io/python-novice-gapminder/18-style/index.html#what-will-be-shown)\n",
        "1. [Document This](http://swcarpentry.github.io/python-novice-gapminder/18-style/index.html#document-this)"
      ],
      "metadata": {
        "id": "kAl3GJntwusT"
      }
    },
    {
      "cell_type": "markdown",
      "source": [
        "### Summary"
      ],
      "metadata": {
        "id": "gaFyzx8C_8kv"
      }
    },
    {
      "cell_type": "markdown",
      "source": [
        "* Choose your own, effective, coding style\n",
        "* Comment extensively\n",
        "* Use the right tool for the job\n",
        "* Use assertions to check for internal errors\n",
        "* Use docstrings to provide built-in help"
      ],
      "metadata": {
        "id": "nqjFcf11__qP"
      }
    }
  ]
}