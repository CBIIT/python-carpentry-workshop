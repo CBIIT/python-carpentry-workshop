{
  "nbformat": 4,
  "nbformat_minor": 0,
  "metadata": {
    "colab": {
      "name": "python_programming style.ipynb",
      "provenance": [],
      "include_colab_link": true
    },
    "kernelspec": {
      "name": "python3",
      "display_name": "Python 3"
    },
    "language_info": {
      "name": "python"
    }
  },
  "cells": [
    {
      "cell_type": "markdown",
      "metadata": {
        "id": "view-in-github",
        "colab_type": "text"
      },
      "source": [
        "<a href=\"https://colab.research.google.com/github/CBIIT/python-carpentry-workshop/blob/main/python_programming_style.ipynb\" target=\"_parent\"><img src=\"https://colab.research.google.com/assets/colab-badge.svg\" alt=\"Open In Colab\"/></a>"
      ]
    },
    {
      "cell_type": "code",
      "metadata": {
        "id": "VpTi6lwd_lez"
      },
      "source": [
        "#Define a default value for an input argument (e.g. arg2)\n",
        "def my_function(arg1, arg2=10):\n",
        "  print(arg1, arg2)"
      ],
      "execution_count": null,
      "outputs": []
    },
    {
      "cell_type": "code",
      "metadata": {
        "colab": {
          "base_uri": "https://localhost:8080/"
        },
        "id": "umF5m2l5OAGp",
        "outputId": "2351a621-e2ed-48c9-8054-769b24485349"
      },
      "source": [
        "#Overwrite the default value of arg2\n",
        "my_function(5 , 6)"
      ],
      "execution_count": null,
      "outputs": [
        {
          "output_type": "stream",
          "text": [
            "5 6\n"
          ],
          "name": "stdout"
        }
      ]
    },
    {
      "cell_type": "code",
      "metadata": {
        "colab": {
          "base_uri": "https://localhost:8080/"
        },
        "id": "0t-LJFlfON1P",
        "outputId": "7570a304-b2e9-4b1c-d5b8-370ac3443e85"
      },
      "source": [
        "#use the default value of arg2\n",
        "my_function(30)"
      ],
      "execution_count": null,
      "outputs": [
        {
          "output_type": "stream",
          "text": [
            "30 10\n"
          ],
          "name": "stdout"
        }
      ]
    },
    {
      "cell_type": "markdown",
      "metadata": {
        "id": "voGyJZUeSKdj"
      },
      "source": [
        "# Programming Style"
      ]
    },
    {
      "cell_type": "markdown",
      "metadata": {
        "id": "n_TcgWxNTkN_"
      },
      "source": [
        "## Document your code\n",
        "## Use clear, meaningful variable names\n",
        "## Use white-space, not tabs, to indent lines"
      ]
    },
    {
      "cell_type": "markdown",
      "metadata": {
        "id": "5OQ8fJwWUB55"
      },
      "source": [
        "## Use assertions to check for internal erros"
      ]
    },
    {
      "cell_type": "code",
      "metadata": {
        "id": "QmIRzsNPUBBZ"
      },
      "source": [
        "def calc_bulk_density(mass, volume):\n",
        "  '''Return dry bulk density = powder mass / powder volume.'''\n",
        "\n",
        "  assert volume > 0\n",
        "  return mass / volume"
      ],
      "execution_count": null,
      "outputs": []
    },
    {
      "cell_type": "code",
      "metadata": {
        "colab": {
          "base_uri": "https://localhost:8080/",
          "height": 271
        },
        "id": "8WtqxRjUS98p",
        "outputId": "d34635b3-2879-4cc7-caa0-66582b8b5199"
      },
      "source": [
        "calc_bulk_density(100, 0)"
      ],
      "execution_count": null,
      "outputs": [
        {
          "output_type": "error",
          "ename": "AssertionError",
          "evalue": "ignored",
          "traceback": [
            "\u001b[0;31m---------------------------------------------------------------------------\u001b[0m",
            "\u001b[0;31mAssertionError\u001b[0m                            Traceback (most recent call last)",
            "\u001b[0;32m<ipython-input-12-81074db3bde0>\u001b[0m in \u001b[0;36m<module>\u001b[0;34m()\u001b[0m\n\u001b[0;32m----> 1\u001b[0;31m \u001b[0mcalc_bulk_density\u001b[0m\u001b[0;34m(\u001b[0m\u001b[0;36m100\u001b[0m\u001b[0;34m,\u001b[0m \u001b[0;36m0\u001b[0m\u001b[0;34m)\u001b[0m\u001b[0;34m\u001b[0m\u001b[0;34m\u001b[0m\u001b[0m\n\u001b[0m",
            "\u001b[0;32m<ipython-input-11-49eea8595dbc>\u001b[0m in \u001b[0;36mcalc_bulk_density\u001b[0;34m(mass, volume)\u001b[0m\n\u001b[1;32m      2\u001b[0m   \u001b[0;34m'''Return dry bulk density = powder mass / powder volume.'''\u001b[0m\u001b[0;34m\u001b[0m\u001b[0;34m\u001b[0m\u001b[0m\n\u001b[1;32m      3\u001b[0m \u001b[0;34m\u001b[0m\u001b[0m\n\u001b[0;32m----> 4\u001b[0;31m   \u001b[0;32massert\u001b[0m \u001b[0mvolume\u001b[0m \u001b[0;34m>\u001b[0m \u001b[0;36m0\u001b[0m\u001b[0;34m\u001b[0m\u001b[0;34m\u001b[0m\u001b[0m\n\u001b[0m\u001b[1;32m      5\u001b[0m   \u001b[0;32mreturn\u001b[0m \u001b[0mmass\u001b[0m \u001b[0;34m/\u001b[0m \u001b[0mvolume\u001b[0m\u001b[0;34m\u001b[0m\u001b[0;34m\u001b[0m\u001b[0m\n",
            "\u001b[0;31mAssertionError\u001b[0m: "
          ]
        }
      ]
    },
    {
      "cell_type": "markdown",
      "metadata": {
        "id": "XbFAI2MuU4pW"
      },
      "source": [
        "## Use docstrings to provide builtin help"
      ]
    },
    {
      "cell_type": "code",
      "metadata": {
        "colab": {
          "base_uri": "https://localhost:8080/"
        },
        "id": "un6HEYYkU7jb",
        "outputId": "06841c02-c770-497e-88dd-e9c4a110ac06"
      },
      "source": [
        "help(calc_bulk_density)"
      ],
      "execution_count": null,
      "outputs": [
        {
          "output_type": "stream",
          "text": [
            "Help on function calc_bulk_density in module __main__:\n",
            "\n",
            "calc_bulk_density(mass, volume)\n",
            "    Return dry bulk density = powder mass / powder volume.\n",
            "\n"
          ],
          "name": "stdout"
        }
      ]
    }
  ]
}
