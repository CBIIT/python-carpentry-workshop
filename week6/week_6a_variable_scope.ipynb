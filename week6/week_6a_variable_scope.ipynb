{
  "nbformat": 4,
  "nbformat_minor": 0,
  "metadata": {
    "colab": {
      "name": "week_6a_variable_scope.ipynb",
      "provenance": [],
      "authorship_tag": "ABX9TyPQolt32bvP1VY6/ZcDx2bd",
      "include_colab_link": true
    },
    "kernelspec": {
      "name": "python3",
      "display_name": "Python 3"
    },
    "language_info": {
      "name": "python"
    }
  },
  "cells": [
    {
      "cell_type": "markdown",
      "metadata": {
        "id": "view-in-github",
        "colab_type": "text"
      },
      "source": [
        "<a href=\"https://colab.research.google.com/github/CBIIT/python-carpentry-workshop/blob/main/week_6a_variable_scope.ipynb\" target=\"_parent\"><img src=\"https://colab.research.google.com/assets/colab-badge.svg\" alt=\"Open In Colab\"/></a>"
      ]
    },
    {
      "cell_type": "markdown",
      "source": [
        "# Variable Scope"
      ],
      "metadata": {
        "id": "QCsZtVwxsWzc"
      }
    },
    {
      "cell_type": "markdown",
      "source": [
        "- How do function calls actually work?\n",
        "- How can we determine where errors occurred?"
      ],
      "metadata": {
        "id": "sdFwfJEYsgTT"
      }
    },
    {
      "cell_type": "markdown",
      "source": [
        "## The scope of a variable is the part of a program that can ‘see’ that variable."
      ],
      "metadata": {
        "id": "O9IgTxpmsocD"
      }
    },
    {
      "cell_type": "code",
      "source": [
        "pressure = 103.9\n",
        "\n",
        "def adjust(t):\n",
        "  temperature = t * 1.43 / pressure\n",
        "  return temperature"
      ],
      "metadata": {
        "id": "xkW0Yvsbvu3N"
      },
      "execution_count": 1,
      "outputs": []
    },
    {
      "cell_type": "code",
      "source": [
        "print('adjusted:,', adjust(0.9))"
      ],
      "metadata": {
        "colab": {
          "base_uri": "https://localhost:8080/"
        },
        "id": "UBrhMfhCwOK7",
        "outputId": "91fbf836-65f3-4ee9-ccfd-8ba49cf7d64d"
      },
      "execution_count": 2,
      "outputs": [
        {
          "output_type": "stream",
          "name": "stdout",
          "text": [
            "adjusted:, 0.01238691049085659\n"
          ]
        }
      ]
    },
    {
      "cell_type": "code",
      "source": [
        "print('temperature:', temperature)"
      ],
      "metadata": {
        "colab": {
          "base_uri": "https://localhost:8080/",
          "height": 166
        },
        "id": "pZewVmL1wkId",
        "outputId": "8321d7bc-6e9e-4e39-f743-be27cae09fe6"
      },
      "execution_count": 3,
      "outputs": [
        {
          "output_type": "error",
          "ename": "NameError",
          "evalue": "ignored",
          "traceback": [
            "\u001b[0;31m---------------------------------------------------------------------------\u001b[0m",
            "\u001b[0;31mNameError\u001b[0m                                 Traceback (most recent call last)",
            "\u001b[0;32m<ipython-input-3-92357dd54ad6>\u001b[0m in \u001b[0;36m<module>\u001b[0;34m()\u001b[0m\n\u001b[0;32m----> 1\u001b[0;31m \u001b[0mprint\u001b[0m\u001b[0;34m(\u001b[0m\u001b[0;34m'temperature:'\u001b[0m\u001b[0;34m,\u001b[0m \u001b[0mtemperature\u001b[0m\u001b[0;34m)\u001b[0m\u001b[0;34m\u001b[0m\u001b[0;34m\u001b[0m\u001b[0m\n\u001b[0m",
            "\u001b[0;31mNameError\u001b[0m: name 'temperature' is not defined"
          ]
        }
      ]
    },
    {
      "cell_type": "code",
      "source": [
        "pressure = 103.9\n",
        "\n",
        "def adjust(t):\n",
        "  temperature = t * 1.43 / pressure\n",
        "  print('temperature:', temperature)\n",
        "  return temperature"
      ],
      "metadata": {
        "id": "euZOLeX-r-dj"
      },
      "execution_count": 4,
      "outputs": []
    },
    {
      "cell_type": "markdown",
      "source": [
        "## Exercise: Local and Global Variable Use"
      ],
      "metadata": {
        "id": "ScZRSWd6u6kb"
      }
    },
    {
      "cell_type": "markdown",
      "source": [
        "Trace the values of all variables in this program as it is executed."
      ],
      "metadata": {
        "id": "rye4mXLPvGK7"
      }
    },
    {
      "cell_type": "code",
      "source": [
        "limit = 100\n",
        "\n",
        "def clip(value):\n",
        "    return min(max(0.0, value), limit)\n",
        "\n",
        "value = -22.5"
      ],
      "metadata": {
        "id": "hCmMcLFNvJBU"
      },
      "execution_count": 5,
      "outputs": []
    },
    {
      "cell_type": "code",
      "source": [
        "print(clip(value))"
      ],
      "metadata": {
        "colab": {
          "base_uri": "https://localhost:8080/"
        },
        "id": "HdjgUmy-vSKC",
        "outputId": "a63d11cd-d91c-4af3-812e-5195416e985c"
      },
      "execution_count": 6,
      "outputs": [
        {
          "output_type": "stream",
          "name": "stdout",
          "text": [
            "0.0\n"
          ]
        }
      ]
    },
    {
      "cell_type": "code",
      "source": [
        "print(clip(22.5))"
      ],
      "metadata": {
        "colab": {
          "base_uri": "https://localhost:8080/"
        },
        "id": "02FMTrU-vZ-J",
        "outputId": "553ecd47-68a2-40b9-d51c-b60fa1329427"
      },
      "execution_count": 7,
      "outputs": [
        {
          "output_type": "stream",
          "name": "stdout",
          "text": [
            "22.5\n"
          ]
        }
      ]
    },
    {
      "cell_type": "markdown",
      "source": [
        "## Exercise: Reading Error Messages"
      ],
      "metadata": {
        "id": "E5GyPiLivxL8"
      }
    },
    {
      "cell_type": "markdown",
      "source": [
        "Read the traceback below, and identify the following:\n",
        "\n",
        "1.   How many levels does the traceback have?\n",
        "2.   What is the file name where the error occurred?\n",
        "3.   What is the function name where the error occurred?\n",
        "4.   On which line number in this function did the error occur?\n",
        "5.   What is the type of error?\n",
        "6.   What is the error message?"
      ],
      "metadata": {
        "id": "Abqm1v6_v1T3"
      }
    },
    {
      "cell_type": "code",
      "source": [
        "---------------------------------------------------------------------------\n",
        "KeyError                                  Traceback (most recent call last)\n",
        "<ipython-input-2-e4c4cbafeeb5> in <module>()\n",
        "      1 import errors_02\n",
        "----> 2 errors_02.print_friday_message()\n",
        "\n",
        "/Users/ghopper/thesis/code/errors_02.py in print_friday_message()\n",
        "     13\n",
        "     14 def print_friday_message():\n",
        "---> 15     print_message(\"Friday\")\n",
        "\n",
        "/Users/ghopper/thesis/code/errors_02.py in print_message(day)\n",
        "      9         \"sunday\": \"Aw, the weekend is almost over.\"\n",
        "     10     }\n",
        "---> 11     print(messages[day])\n",
        "     12\n",
        "     13\n",
        "\n",
        "KeyError: 'Friday'"
      ],
      "metadata": {
        "id": "shUmvS9qwW-y"
      },
      "execution_count": null,
      "outputs": []
    },
    {
      "cell_type": "markdown",
      "source": [
        "Solution:\n",
        "\n",
        "1.   Three levels.\n",
        "2.   errors_02.py\n",
        "3.   print_message\n",
        "4.   Line 11\n",
        "5.   KeyError. These errors occur when we are trying to look up a key that does not exist (usually in a data structure such as a dictionary). We can find more information about the KeyError and other built-in exceptions in the Python docs.\n",
        "6.   KeyError: 'Friday'"
      ],
      "metadata": {
        "id": "kogs5DY7qMc5"
      }
    }
  ]
}
