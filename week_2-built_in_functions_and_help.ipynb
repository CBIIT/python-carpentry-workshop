{
  "nbformat": 4,
  "nbformat_minor": 0,
  "metadata": {
    "colab": {
      "name": "week_2-built-in_functions_and_help.ipynb",
      "provenance": [],
      "collapsed_sections": []
    },
    "kernelspec": {
      "name": "python3",
      "display_name": "Python 3"
    },
    "language_info": {
      "name": "python"
    }
  },
  "cells": [
    {
      "cell_type": "markdown",
      "source": [
        "## Built-In Functions and Help"
      ],
      "metadata": {
        "id": "n-5U4Tmr8S5Y"
      }
    },
    {
      "cell_type": "markdown",
      "source": [
        "This is based on the software carpenty [lesson here](http://swcarpentry.github.io/python-novice-gapminder/04-built-in/index.html)."
      ],
      "metadata": {
        "id": "NeTtn3BPa66L"
      }
    },
    {
      "cell_type": "markdown",
      "source": [
        "### Use comments to add documentation to programs"
      ],
      "metadata": {
        "id": "OFbNXPfX8Vgs"
      }
    },
    {
      "cell_type": "code",
      "source": [
        "# This is a full line comment\n",
        "print('hey')\n",
        "\n",
        "x = 4 - 7  # this is an inline comment --> use two spaces between the code and the pound sign\n",
        "\n",
        "# This is my custom function\n",
        "def my_function(x):\n",
        "\n",
        "  # Full line comments should be indented with the corresponding code\n",
        "  return(x * 9)"
      ],
      "metadata": {
        "colab": {
          "base_uri": "https://localhost:8080/"
        },
        "id": "D1ehvBIc9NK6",
        "outputId": "a7355495-3894-46fc-e8ac-77519c7d6d68"
      },
      "execution_count": 3,
      "outputs": [
        {
          "output_type": "stream",
          "name": "stdout",
          "text": [
            "hey\n"
          ]
        }
      ]
    },
    {
      "cell_type": "markdown",
      "source": [
        "### A function may take zero or more arguments"
      ],
      "metadata": {
        "id": "aszaYysk9qxh"
      }
    },
    {
      "cell_type": "markdown",
      "source": [
        "An argument (or parameter) is the input to a function.\n",
        "\n",
        "The format is:\n",
        "\n",
        "```python\n",
        "function_name(argument_0, argument_1, argument_2, ...)\n",
        "```\n",
        "\n",
        "Depending on how the functions are defined, they make take zero or more arguments.\n",
        "\n",
        "Sample functions:\n",
        "\n",
        "* `len()` take a single argument\n",
        "* `int()`, `str()`, and `float()` create new values from existing ones\n",
        "* `print()` takes zero or more --> `print()` with no arguments creates a new line\n",
        "\n",
        "In order to use functions, you need the parentheses!\n",
        "\n",
        "If you forget, it's OK; you'll often get an informational message, e.g.:"
      ],
      "metadata": {
        "id": "I8q6JoFu91Wi"
      }
    },
    {
      "cell_type": "code",
      "source": [
        "print"
      ],
      "metadata": {
        "colab": {
          "base_uri": "https://localhost:8080/"
        },
        "id": "5Q-ZWLix-yjO",
        "outputId": "2cda0e6c-9ccc-488e-b691-ab7d0c54ff2b"
      },
      "execution_count": 4,
      "outputs": [
        {
          "output_type": "execute_result",
          "data": {
            "text/plain": [
              "<function print>"
            ]
          },
          "metadata": {},
          "execution_count": 4
        }
      ]
    },
    {
      "cell_type": "markdown",
      "source": [
        "### Every function returns something"
      ],
      "metadata": {
        "id": "VHeIuyj0_eP1"
      }
    },
    {
      "cell_type": "markdown",
      "source": [
        "If there is nothing explicitly returned by a function, it returns the None object."
      ],
      "metadata": {
        "id": "r1DN_2anCQ8K"
      }
    },
    {
      "cell_type": "code",
      "source": [
        "print(len('andrew'))"
      ],
      "metadata": {
        "colab": {
          "base_uri": "https://localhost:8080/"
        },
        "id": "1UNDGM12AAFq",
        "outputId": "639b9bd0-4578-431e-8bd8-0c5535f8a7d9"
      },
      "execution_count": 11,
      "outputs": [
        {
          "output_type": "stream",
          "name": "stdout",
          "text": [
            "6\n"
          ]
        }
      ]
    },
    {
      "cell_type": "code",
      "source": [
        "print(my_function(4))"
      ],
      "metadata": {
        "colab": {
          "base_uri": "https://localhost:8080/"
        },
        "id": "B7RX34O6BrpO",
        "outputId": "84e10e7f-40ce-4c59-d9c4-a3aead204615"
      },
      "execution_count": 12,
      "outputs": [
        {
          "output_type": "stream",
          "name": "stdout",
          "text": [
            "36\n"
          ]
        }
      ]
    },
    {
      "cell_type": "code",
      "source": [
        "def my_function2(y):\n",
        "  z = y + 1"
      ],
      "metadata": {
        "id": "frmOtG1iB0yw"
      },
      "execution_count": 14,
      "outputs": []
    },
    {
      "cell_type": "code",
      "source": [
        "print(my_function2(8))"
      ],
      "metadata": {
        "colab": {
          "base_uri": "https://localhost:8080/"
        },
        "id": "euSs9bzqB9xn",
        "outputId": "68ccadda-8046-4768-d42f-41715af8ef3b"
      },
      "execution_count": 16,
      "outputs": [
        {
          "output_type": "stream",
          "name": "stdout",
          "text": [
            "None\n"
          ]
        }
      ]
    },
    {
      "cell_type": "code",
      "source": [
        "print(print(4))"
      ],
      "metadata": {
        "colab": {
          "base_uri": "https://localhost:8080/"
        },
        "id": "wDMnygrKBwKu",
        "outputId": "c2a80758-4db8-4bfc-d638-2ddf7599ef9b"
      },
      "execution_count": 13,
      "outputs": [
        {
          "output_type": "stream",
          "name": "stdout",
          "text": [
            "4\n",
            "None\n"
          ]
        }
      ]
    },
    {
      "cell_type": "markdown",
      "source": [
        "### Commonly-used builtin-functions include `max`, `min`, and `round`; Functions may only work for certain (combinations of) arguments"
      ],
      "metadata": {
        "id": "dV9uEZcVB_jA"
      }
    },
    {
      "cell_type": "markdown",
      "source": [
        "They do what you think they do.\n",
        "\n",
        "The only interesting thing is `max` and `min` take both multiple arguments or a single argument containing an iterable."
      ],
      "metadata": {
        "id": "6k48f-HfJiyN"
      }
    },
    {
      "cell_type": "code",
      "source": [
        "min(4, 3, 2)"
      ],
      "metadata": {
        "colab": {
          "base_uri": "https://localhost:8080/"
        },
        "id": "Q96V3aq_J0A_",
        "outputId": "2cad0dad-bab5-4d84-c33b-4451be82fabb"
      },
      "execution_count": 21,
      "outputs": [
        {
          "output_type": "execute_result",
          "data": {
            "text/plain": [
              "2"
            ]
          },
          "metadata": {},
          "execution_count": 21
        }
      ]
    },
    {
      "cell_type": "code",
      "source": [
        "max([4, 3, 2])"
      ],
      "metadata": {
        "colab": {
          "base_uri": "https://localhost:8080/"
        },
        "id": "yB4nNYXWJ2Np",
        "outputId": "46244edd-7523-482f-984c-518df1c74b13"
      },
      "execution_count": 22,
      "outputs": [
        {
          "output_type": "execute_result",
          "data": {
            "text/plain": [
              "4"
            ]
          },
          "metadata": {},
          "execution_count": 22
        }
      ]
    },
    {
      "cell_type": "code",
      "source": [
        "round(4.3)"
      ],
      "metadata": {
        "colab": {
          "base_uri": "https://localhost:8080/"
        },
        "id": "i15Irnp9J5DE",
        "outputId": "22ede1a5-6862-4c6b-b7d8-05aaf53c4172"
      },
      "execution_count": 23,
      "outputs": [
        {
          "output_type": "execute_result",
          "data": {
            "text/plain": [
              "4"
            ]
          },
          "metadata": {},
          "execution_count": 23
        }
      ]
    },
    {
      "cell_type": "code",
      "source": [
        "round(4.9)"
      ],
      "metadata": {
        "colab": {
          "base_uri": "https://localhost:8080/"
        },
        "id": "sVS7o6lmKFge",
        "outputId": "6fb0901f-025a-49d0-e988-6f04b3a27e55"
      },
      "execution_count": 24,
      "outputs": [
        {
          "output_type": "execute_result",
          "data": {
            "text/plain": [
              "5"
            ]
          },
          "metadata": {},
          "execution_count": 24
        }
      ]
    },
    {
      "cell_type": "code",
      "source": [
        "print(round(4.499))\n",
        "print(round(4.500))\n",
        "print(round(4.501))"
      ],
      "metadata": {
        "colab": {
          "base_uri": "https://localhost:8080/"
        },
        "id": "rgnj1_NQKG2k",
        "outputId": "0ec88efc-f5bb-4c01-e88b-bed18e216133"
      },
      "execution_count": 27,
      "outputs": [
        {
          "output_type": "stream",
          "name": "stdout",
          "text": [
            "4\n",
            "4\n",
            "5\n"
          ]
        }
      ]
    },
    {
      "cell_type": "code",
      "source": [
        "print(int(4.499 + 0.5))\n",
        "print(int(4.500 + 0.5))\n",
        "print(int(4.501 + 0.5))"
      ],
      "metadata": {
        "colab": {
          "base_uri": "https://localhost:8080/"
        },
        "id": "675zV6uSKIHa",
        "outputId": "f63e8485-209a-4d34-96f2-86f38efd4259"
      },
      "execution_count": 29,
      "outputs": [
        {
          "output_type": "stream",
          "name": "stdout",
          "text": [
            "4\n",
            "5\n",
            "5\n"
          ]
        }
      ]
    },
    {
      "cell_type": "code",
      "source": [
        "max('a', 'b', 'c')"
      ],
      "metadata": {
        "colab": {
          "base_uri": "https://localhost:8080/",
          "height": 36
        },
        "id": "3pdO4F9uPzQt",
        "outputId": "5ff4cf49-855b-4eff-d871-aaee86672991"
      },
      "execution_count": 30,
      "outputs": [
        {
          "output_type": "execute_result",
          "data": {
            "text/plain": [
              "'c'"
            ],
            "application/vnd.google.colaboratory.intrinsic+json": {
              "type": "string"
            }
          },
          "metadata": {},
          "execution_count": 30
        }
      ]
    },
    {
      "cell_type": "code",
      "source": [
        "min('a', 1)"
      ],
      "metadata": {
        "colab": {
          "base_uri": "https://localhost:8080/",
          "height": 169
        },
        "id": "DuqzhgaoP3dF",
        "outputId": "1efec5d2-8608-4a62-ec6a-b77b719d7d2f"
      },
      "execution_count": 31,
      "outputs": [
        {
          "output_type": "error",
          "ename": "TypeError",
          "evalue": "ignored",
          "traceback": [
            "\u001b[0;31m---------------------------------------------------------------------------\u001b[0m",
            "\u001b[0;31mTypeError\u001b[0m                                 Traceback (most recent call last)",
            "\u001b[0;32m<ipython-input-31-aa12f89d4c36>\u001b[0m in \u001b[0;36m<module>\u001b[0;34m()\u001b[0m\n\u001b[0;32m----> 1\u001b[0;31m \u001b[0mmin\u001b[0m\u001b[0;34m(\u001b[0m\u001b[0;34m'a'\u001b[0m\u001b[0;34m,\u001b[0m \u001b[0;36m1\u001b[0m\u001b[0;34m)\u001b[0m\u001b[0;34m\u001b[0m\u001b[0;34m\u001b[0m\u001b[0m\n\u001b[0m",
            "\u001b[0;31mTypeError\u001b[0m: '<' not supported between instances of 'int' and 'str'"
          ]
        }
      ]
    },
    {
      "cell_type": "markdown",
      "source": [
        "### Functions may have default values for some arguments\n",
        "\n",
        "---\n",
        "\n"
      ],
      "metadata": {
        "id": "P_nsAgO6Ok52"
      }
    },
    {
      "cell_type": "code",
      "source": [
        "round(3.712)"
      ],
      "metadata": {
        "colab": {
          "base_uri": "https://localhost:8080/"
        },
        "id": "2LRVVmwFPbLw",
        "outputId": "061f71c9-1351-43be-86a0-43a788dce09e"
      },
      "execution_count": 34,
      "outputs": [
        {
          "output_type": "execute_result",
          "data": {
            "text/plain": [
              "4"
            ]
          },
          "metadata": {},
          "execution_count": 34
        }
      ]
    },
    {
      "cell_type": "code",
      "source": [
        "round(3.712, 1)"
      ],
      "metadata": {
        "colab": {
          "base_uri": "https://localhost:8080/"
        },
        "id": "DmgApcUXR-6o",
        "outputId": "ab3bf98d-9b8b-4edf-bdc3-6fb0e3fac71d"
      },
      "execution_count": 35,
      "outputs": [
        {
          "output_type": "execute_result",
          "data": {
            "text/plain": [
              "3.7"
            ]
          },
          "metadata": {},
          "execution_count": 35
        }
      ]
    },
    {
      "cell_type": "code",
      "source": [
        "round(3.712, 0)"
      ],
      "metadata": {
        "colab": {
          "base_uri": "https://localhost:8080/"
        },
        "id": "VkbTBE3KSUPG",
        "outputId": "54c13d57-6718-4650-90ed-77880846cbb5"
      },
      "execution_count": 36,
      "outputs": [
        {
          "output_type": "execute_result",
          "data": {
            "text/plain": [
              "4.0"
            ]
          },
          "metadata": {},
          "execution_count": 36
        }
      ]
    },
    {
      "cell_type": "code",
      "source": [
        "round(3.712, None)"
      ],
      "metadata": {
        "colab": {
          "base_uri": "https://localhost:8080/"
        },
        "id": "J5YZDzDlSVjb",
        "outputId": "0084baf9-1a95-4a80-eb9b-7948805a9264"
      },
      "execution_count": 37,
      "outputs": [
        {
          "output_type": "execute_result",
          "data": {
            "text/plain": [
              "4"
            ]
          },
          "metadata": {},
          "execution_count": 37
        }
      ]
    },
    {
      "cell_type": "code",
      "source": [
        "round(number=3.712, ndigits=2)"
      ],
      "metadata": {
        "colab": {
          "base_uri": "https://localhost:8080/"
        },
        "id": "zQlKpv7eSYiX",
        "outputId": "ae42bcbb-cc3f-48bb-c9bb-c795544676e5"
      },
      "execution_count": 38,
      "outputs": [
        {
          "output_type": "execute_result",
          "data": {
            "text/plain": [
              "3.71"
            ]
          },
          "metadata": {},
          "execution_count": 38
        }
      ]
    },
    {
      "cell_type": "markdown",
      "source": [
        "### Functions attached to objects are called methods"
      ],
      "metadata": {
        "id": "crQeGDBdSdSK"
      }
    },
    {
      "cell_type": "markdown",
      "source": [
        "To call a method you use the format:\n",
        "\n",
        "```python\n",
        "object.method()\n",
        "```"
      ],
      "metadata": {
        "id": "-eGDrUA2S9Zk"
      }
    },
    {
      "cell_type": "code",
      "source": [
        "my_string = 'Hello world!'  # create a string object"
      ],
      "metadata": {
        "id": "32PV_4R7TRBU"
      },
      "execution_count": 39,
      "outputs": []
    },
    {
      "cell_type": "code",
      "source": [
        "my_string.lower()"
      ],
      "metadata": {
        "colab": {
          "base_uri": "https://localhost:8080/",
          "height": 36
        },
        "id": "bZ1kRUUaTXqr",
        "outputId": "83c38e3c-7a7f-417e-8aad-c04f52cfcb8b"
      },
      "execution_count": 40,
      "outputs": [
        {
          "output_type": "execute_result",
          "data": {
            "text/plain": [
              "'hello world!'"
            ],
            "application/vnd.google.colaboratory.intrinsic+json": {
              "type": "string"
            }
          },
          "metadata": {},
          "execution_count": 40
        }
      ]
    },
    {
      "cell_type": "code",
      "source": [
        "my_string.isnumeric()"
      ],
      "metadata": {
        "colab": {
          "base_uri": "https://localhost:8080/"
        },
        "id": "6wbXQH1zTkym",
        "outputId": "3352fa08-80a6-4896-d4e6-b720bd6850e9"
      },
      "execution_count": 43,
      "outputs": [
        {
          "output_type": "execute_result",
          "data": {
            "text/plain": [
              "False"
            ]
          },
          "metadata": {},
          "execution_count": 43
        }
      ]
    },
    {
      "cell_type": "code",
      "source": [
        "'1234'.isnumeric()"
      ],
      "metadata": {
        "colab": {
          "base_uri": "https://localhost:8080/"
        },
        "id": "l8ohouNBTolN",
        "outputId": "3d23ce06-c117-49bd-f15f-5d222101defe"
      },
      "execution_count": 44,
      "outputs": [
        {
          "output_type": "execute_result",
          "data": {
            "text/plain": [
              "True"
            ]
          },
          "metadata": {},
          "execution_count": 44
        }
      ]
    },
    {
      "cell_type": "code",
      "source": [
        "print(my_string.isupper())\n",
        "print(my_string.upper())\n",
        "print(my_string.upper().isupper())"
      ],
      "metadata": {
        "colab": {
          "base_uri": "https://localhost:8080/"
        },
        "id": "eCzSEAJbT15F",
        "outputId": "93fab003-f704-45d1-927b-c832315836f1"
      },
      "execution_count": 49,
      "outputs": [
        {
          "output_type": "stream",
          "name": "stdout",
          "text": [
            "False\n",
            "HELLO WORLD!\n",
            "True\n"
          ]
        }
      ]
    },
    {
      "cell_type": "markdown",
      "source": [
        "Some methods are used for internal Python operations and are marked with double underlines:"
      ],
      "metadata": {
        "id": "giQ7L8ZbUGT5"
      }
    },
    {
      "cell_type": "code",
      "source": [
        "my_string.__len__()"
      ],
      "metadata": {
        "colab": {
          "base_uri": "https://localhost:8080/"
        },
        "id": "Xz0YAu3DUXp9",
        "outputId": "d6c25cc2-ff70-4362-d2a3-1f7dc80cd7f7"
      },
      "execution_count": 48,
      "outputs": [
        {
          "output_type": "execute_result",
          "data": {
            "text/plain": [
              "12"
            ]
          },
          "metadata": {},
          "execution_count": 48
        }
      ]
    },
    {
      "cell_type": "markdown",
      "source": [
        "### There are many ways to get help"
      ],
      "metadata": {
        "id": "fYoAHi3xUZ4q"
      }
    },
    {
      "cell_type": "code",
      "source": [
        "# (1)\n",
        "help(round)"
      ],
      "metadata": {
        "colab": {
          "base_uri": "https://localhost:8080/"
        },
        "id": "BcyPaSRFVFTg",
        "outputId": "3a39f740-0c52-4edf-effa-a90ce51434e6"
      },
      "execution_count": 61,
      "outputs": [
        {
          "output_type": "stream",
          "name": "stdout",
          "text": [
            "Help on built-in function round in module builtins:\n",
            "\n",
            "round(number, ndigits=None)\n",
            "    Round a number to a given precision in decimal digits.\n",
            "    \n",
            "    The return value is an integer if ndigits is omitted or None.  Otherwise\n",
            "    the return value has the same type as the number.  ndigits may be negative.\n",
            "\n"
          ]
        }
      ]
    },
    {
      "cell_type": "code",
      "source": [
        "# (2)\n",
        "round?"
      ],
      "metadata": {
        "id": "v5HwAKFpVGjR"
      },
      "execution_count": 62,
      "outputs": []
    },
    {
      "cell_type": "markdown",
      "source": [
        "(3) Use IDE software after typing `(`, `.`, or `,`"
      ],
      "metadata": {
        "id": "8Q0J1XffVcUk"
      }
    },
    {
      "cell_type": "markdown",
      "source": [
        "(4) Google it!"
      ],
      "metadata": {
        "id": "kjcQ5c2SWCSV"
      }
    },
    {
      "cell_type": "markdown",
      "source": [
        "(5) [Official Python documentation](https://docs.python.org/3/)"
      ],
      "metadata": {
        "id": "3YzA2ggvatLq"
      }
    },
    {
      "cell_type": "markdown",
      "source": [
        "### Python reports a syntax error when it can't understand the source of a program"
      ],
      "metadata": {
        "id": "dMYZKiHJWJkd"
      }
    },
    {
      "cell_type": "markdown",
      "source": [
        "The error output is often helpful."
      ],
      "metadata": {
        "id": "h9dXWdzOXVNX"
      }
    },
    {
      "cell_type": "code",
      "source": [
        "# NOTE: It's hard to forget quotes when you use a smart IDE like VS Code or Colab\n",
        "name = 'Feng  "
      ],
      "metadata": {
        "colab": {
          "base_uri": "https://localhost:8080/",
          "height": 134
        },
        "id": "HTi1g6b6W4EM",
        "outputId": "1a3b1c18-a872-4bc9-c8e4-3cc5aa175854"
      },
      "execution_count": 56,
      "outputs": [
        {
          "output_type": "error",
          "ename": "SyntaxError",
          "evalue": "ignored",
          "traceback": [
            "\u001b[0;36m  File \u001b[0;32m\"<ipython-input-56-34311aa175df>\"\u001b[0;36m, line \u001b[0;32m2\u001b[0m\n\u001b[0;31m    name = 'Feng\u001b[0m\n\u001b[0m                  ^\u001b[0m\n\u001b[0;31mSyntaxError\u001b[0m\u001b[0;31m:\u001b[0m EOL while scanning string literal\n"
          ]
        }
      ]
    },
    {
      "cell_type": "code",
      "source": [
        "age = = 52"
      ],
      "metadata": {
        "colab": {
          "base_uri": "https://localhost:8080/",
          "height": 134
        },
        "id": "i9v2W-E2XDKy",
        "outputId": "85986dc4-ad83-4bf2-e5bd-8f4d4ccd5172"
      },
      "execution_count": 57,
      "outputs": [
        {
          "output_type": "error",
          "ename": "SyntaxError",
          "evalue": "ignored",
          "traceback": [
            "\u001b[0;36m  File \u001b[0;32m\"<ipython-input-57-72473b56627d>\"\u001b[0;36m, line \u001b[0;32m1\u001b[0m\n\u001b[0;31m    age = = 52\u001b[0m\n\u001b[0m          ^\u001b[0m\n\u001b[0;31mSyntaxError\u001b[0m\u001b[0;31m:\u001b[0m invalid syntax\n"
          ]
        }
      ]
    },
    {
      "cell_type": "code",
      "source": [
        "# NOTE: It's hard to forget parentheses too!\n",
        "print('hello world'"
      ],
      "metadata": {
        "colab": {
          "base_uri": "https://localhost:8080/",
          "height": 134
        },
        "id": "QUYyW-R9XG-U",
        "outputId": "fae8449b-b372-4ed4-83b1-d758b84b83d6"
      },
      "execution_count": 59,
      "outputs": [
        {
          "output_type": "error",
          "ename": "SyntaxError",
          "evalue": "ignored",
          "traceback": [
            "\u001b[0;36m  File \u001b[0;32m\"<ipython-input-59-53c22b0bb22e>\"\u001b[0;36m, line \u001b[0;32m2\u001b[0m\n\u001b[0;31m    print('hello world'\u001b[0m\n\u001b[0m                       ^\u001b[0m\n\u001b[0;31mSyntaxError\u001b[0m\u001b[0;31m:\u001b[0m unexpected EOF while parsing\n"
          ]
        }
      ]
    },
    {
      "cell_type": "markdown",
      "source": [
        "### Python reports a runtime error when something goes wrong while a program is executing"
      ],
      "metadata": {
        "id": "nNyN22NTXOEk"
      }
    },
    {
      "cell_type": "code",
      "source": [
        "age = 53\n",
        "remaining = 100 - aege  # misspelled \"age\""
      ],
      "metadata": {
        "colab": {
          "base_uri": "https://localhost:8080/",
          "height": 187
        },
        "id": "CwcKh9ReXqa9",
        "outputId": "4bb7930c-b0d0-41ed-83c7-0e60dd759619"
      },
      "execution_count": 60,
      "outputs": [
        {
          "output_type": "error",
          "ename": "NameError",
          "evalue": "ignored",
          "traceback": [
            "\u001b[0;31m---------------------------------------------------------------------------\u001b[0m",
            "\u001b[0;31mNameError\u001b[0m                                 Traceback (most recent call last)",
            "\u001b[0;32m<ipython-input-60-c69332009dfd>\u001b[0m in \u001b[0;36m<module>\u001b[0;34m()\u001b[0m\n\u001b[1;32m      1\u001b[0m \u001b[0mage\u001b[0m \u001b[0;34m=\u001b[0m \u001b[0;36m53\u001b[0m\u001b[0;34m\u001b[0m\u001b[0;34m\u001b[0m\u001b[0m\n\u001b[0;32m----> 2\u001b[0;31m \u001b[0mremaining\u001b[0m \u001b[0;34m=\u001b[0m \u001b[0;36m100\u001b[0m \u001b[0;34m-\u001b[0m \u001b[0maege\u001b[0m  \u001b[0;31m# misspelled \"age\"\u001b[0m\u001b[0;34m\u001b[0m\u001b[0;34m\u001b[0m\u001b[0m\n\u001b[0m",
            "\u001b[0;31mNameError\u001b[0m: name 'aege' is not defined"
          ]
        }
      ]
    },
    {
      "cell_type": "markdown",
      "source": [
        "Note that smart IDEs often report runtime errors before you need to run the program to catch the error!"
      ],
      "metadata": {
        "id": "hM86d-FwX0UF"
      }
    },
    {
      "cell_type": "markdown",
      "source": [
        "### Key Points"
      ],
      "metadata": {
        "id": "dHPAJzqBYUPR"
      }
    },
    {
      "cell_type": "markdown",
      "source": [
        "* Use comments to add documentation to programs.\n",
        "* A function may take zero or more arguments.\n",
        "* Every function returns something.\n",
        "* Commonly-used built-in functions include `max`, `min`, and `round`.\n",
        "* Functions may only work for certain (combinations of) arguments.\n",
        "* Functions may have default values for some arguments.\n",
        "* There are many ways to get help.\n",
        "* Python reports a syntax error when it can’t understand the source of a program.\n",
        "* Python reports a runtime error when something goes wrong while a program is executing."
      ],
      "metadata": {
        "id": "VC65Fs_AYCtc"
      }
    },
    {
      "cell_type": "markdown",
      "source": [
        "### Homework"
      ],
      "metadata": {
        "id": "6pvkbRX7YdTB"
      }
    },
    {
      "cell_type": "markdown",
      "source": [
        "1. [What Happens When...](http://swcarpentry.github.io/python-novice-gapminder/04-built-in/index.html#what-happens-when)\n",
        "1. [Spot the Difference](http://swcarpentry.github.io/python-novice-gapminder/04-built-in/index.html#spot-the-difference)\n",
        "1. [Why Not?](http://swcarpentry.github.io/python-novice-gapminder/04-built-in/index.html#why-not)\n",
        "1. [Last Character of a String](http://swcarpentry.github.io/python-novice-gapminder/04-built-in/index.html#last-character-of-a-string)"
      ],
      "metadata": {
        "id": "uH6o9LafZmlw"
      }
    }
  ]
}