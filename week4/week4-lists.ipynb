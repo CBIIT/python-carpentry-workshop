{
  "nbformat": 4,
  "nbformat_minor": 0,
  "metadata": {
    "colab": {
      "name": "lists.ipynb",
      "provenance": []
    },
    "kernelspec": {
      "name": "python3",
      "display_name": "Python 3"
    },
    "language_info": {
      "name": "python"
    }
  },
  "cells": [
    {
      "cell_type": "code",
      "source": [
        "#I would like to save 100 values for different genes\n",
        "gene1 = \"ins\"\n",
        "gene2 = \"insr\"\n",
        "#gene3 = \n",
        "#gene4 = \n",
        "#...\n",
        "#gene100 = "
      ],
      "metadata": {
        "id": "7mcRbi-3p27v"
      },
      "execution_count": 6,
      "outputs": []
    },
    {
      "cell_type": "code",
      "source": [
        "#Now I want to run opperations on every value\n",
        "gene1.upper()\n",
        "gene2.upper()\n",
        "# gene3.upper()\n",
        "# gene4.upper()"
      ],
      "metadata": {
        "colab": {
          "base_uri": "https://localhost:8080/",
          "height": 35
        },
        "id": "KA2Ax69bqOTM",
        "outputId": "01effe1e-9651-4153-b403-99081e77dece"
      },
      "execution_count": 7,
      "outputs": [
        {
          "output_type": "execute_result",
          "data": {
            "text/plain": [
              "'INS'"
            ],
            "application/vnd.google.colaboratory.intrinsic+json": {
              "type": "string"
            }
          },
          "metadata": {},
          "execution_count": 7
        }
      ]
    },
    {
      "cell_type": "code",
      "source": [
        "#List in python helps us create a container that holds multiple values\n",
        "pressures = [0.273, 0.275, 0.277, 0.276]"
      ],
      "metadata": {
        "id": "eoPREkb1ql3b"
      },
      "execution_count": 8,
      "outputs": []
    },
    {
      "cell_type": "code",
      "source": [
        "print(\"pressures:\",  pressures)\n",
        "print(\"length:\", len(pressures))"
      ],
      "metadata": {
        "colab": {
          "base_uri": "https://localhost:8080/"
        },
        "id": "XeCTLy1rq6F5",
        "outputId": "a50bebe4-39c1-4225-edce-c44d10cc7fb6"
      },
      "execution_count": 9,
      "outputs": [
        {
          "output_type": "stream",
          "name": "stdout",
          "text": [
            "pressures: [0.273, 0.275, 0.277, 0.276]\n",
            "length: 4\n"
          ]
        }
      ]
    },
    {
      "cell_type": "code",
      "source": [
        "#We can access every item by its index\n",
        "print('zeroth item of pressures:', pressures[0])\n",
        "print('fourth item of pressures:', pressures[3])"
      ],
      "metadata": {
        "colab": {
          "base_uri": "https://localhost:8080/"
        },
        "id": "d5lKilyPrQyE",
        "outputId": "c2d15643-02be-4e2b-f7bc-c340f008551c"
      },
      "execution_count": 10,
      "outputs": [
        {
          "output_type": "stream",
          "name": "stdout",
          "text": [
            "zeroth item of pressures: 0.273\n",
            "fourth item of pressures: 0.276\n"
          ]
        }
      ]
    },
    {
      "cell_type": "code",
      "source": [
        "# We can set the value of every value\n",
        "pressures[0] = 0.265\n",
        "print('pressures is now:', pressures)"
      ],
      "metadata": {
        "colab": {
          "base_uri": "https://localhost:8080/"
        },
        "id": "NjB3Zfa3r261",
        "outputId": "5bc39bc6-723b-4df9-8cad-66ada8e4480d"
      },
      "execution_count": 12,
      "outputs": [
        {
          "output_type": "stream",
          "name": "stdout",
          "text": [
            "pressures is now: [0.265, 0.275, 0.277, 0.276]\n"
          ]
        }
      ]
    },
    {
      "cell_type": "code",
      "source": [
        "#Append an element to a list\n",
        "primes = [2, 3, 5]\n",
        "print('primes is initially:', primes)\n",
        "primes.append(7)\n",
        "print('primes has become:', primes)\n",
        "#Methods runs the data an an object encapsulates. The general syntax is:\n",
        "#object_name.method_name(method arguments)"
      ],
      "metadata": {
        "colab": {
          "base_uri": "https://localhost:8080/"
        },
        "id": "tYFvIc-jsMk4",
        "outputId": "afffd6d0-fa87-4cb4-8f71-0d04ee738c7e"
      },
      "execution_count": 13,
      "outputs": [
        {
          "output_type": "stream",
          "name": "stdout",
          "text": [
            "primes is initially: [2, 3, 5]\n",
            "primes has become: [2, 3, 5, 7]\n"
          ]
        }
      ]
    },
    {
      "cell_type": "code",
      "source": [
        "#Append versus extend\n",
        "teen_primes = [11, 13, 17, 19]\n",
        "middle_aged_primes = [37, 41, 43, 47]\n",
        "print('primes is currently:', primes)\n",
        "primes.extend(teen_primes)\n",
        "print('primes has now become:', primes)\n",
        "primes.append(middle_aged_primes)\n",
        "print('primes has finaly become:', primes)"
      ],
      "metadata": {
        "colab": {
          "base_uri": "https://localhost:8080/"
        },
        "id": "0gnPH7HHtL_w",
        "outputId": "d4a24f52-c3d6-43a9-fa76-d4ae751e893a"
      },
      "execution_count": 15,
      "outputs": [
        {
          "output_type": "stream",
          "name": "stdout",
          "text": [
            "primes is currently: [2, 3, 5, 7]\n",
            "primes has now become: [2, 3, 5, 7, 11, 13, 17, 19]\n",
            "primes has finaly become: [2, 3, 5, 7, 11, 13, 17, 19, [37, 41, 43, 47]]\n"
          ]
        }
      ]
    },
    {
      "cell_type": "code",
      "source": [
        ""
      ],
      "metadata": {
        "id": "NPja7L1UwHHF"
      },
      "execution_count": null,
      "outputs": []
    },
    {
      "cell_type": "code",
      "source": [
        "#We can save different types of variables in the same list\n",
        "print(\"last length of primes:\", len(primes))\n",
        "print(type(primes[0]))\n",
        "print(type(primes[8]))"
      ],
      "metadata": {
        "colab": {
          "base_uri": "https://localhost:8080/"
        },
        "id": "EIWlYD7iu3_x",
        "outputId": "02781e90-af5d-4555-9bb6-e784d8388de8"
      },
      "execution_count": 18,
      "outputs": [
        {
          "output_type": "stream",
          "name": "stdout",
          "text": [
            "last length of primes: 9\n",
            "<class 'int'>\n",
            "<class 'list'>\n"
          ]
        }
      ]
    },
    {
      "cell_type": "code",
      "source": [
        "#You can use del to remove an item from a list\n",
        "primes = [2, 3, 5, 7, 9]\n",
        "print('primes before removing last item:', primes)\n",
        "del primes[4]\n",
        "print('primes after removing last item:', primes)"
      ],
      "metadata": {
        "colab": {
          "base_uri": "https://localhost:8080/"
        },
        "id": "Qy5LFOZvveJS",
        "outputId": "9c5941f7-5cc2-4499-ac2f-accfcb065a4d"
      },
      "execution_count": 19,
      "outputs": [
        {
          "output_type": "stream",
          "name": "stdout",
          "text": [
            "primes before removing last item: [2, 3, 5, 7, 9]\n",
            "primes after removing last item: [2, 3, 5, 7]\n"
          ]
        }
      ]
    },
    {
      "cell_type": "code",
      "source": [
        "#Empty list can be used in initialization\n",
        "my_empty_list = []\n",
        "print(\"length of my empyt list:\", len(my_empty_list))"
      ],
      "metadata": {
        "colab": {
          "base_uri": "https://localhost:8080/"
        },
        "id": "X5OP6v5XwH5w",
        "outputId": "2a6b8c15-d53c-4a45-81df-a3a72fe3dae0"
      },
      "execution_count": 20,
      "outputs": [
        {
          "output_type": "stream",
          "name": "stdout",
          "text": [
            "length of my empyt list: 0\n"
          ]
        }
      ]
    },
    {
      "cell_type": "code",
      "source": [
        "#You can access characters in a string same way you access items in a list using the []\n",
        "element = 'carbon'\n",
        "print('zeroth character:', element[0])\n",
        "print('third character:', element[3])"
      ],
      "metadata": {
        "colab": {
          "base_uri": "https://localhost:8080/"
        },
        "id": "a0qna7P4wt1C",
        "outputId": "90f07ca9-f10f-4349-806b-87b4ad18e908"
      },
      "execution_count": 23,
      "outputs": [
        {
          "output_type": "stream",
          "name": "stdout",
          "text": [
            "zeroth character: c\n",
            "third character: b\n"
          ]
        }
      ]
    },
    {
      "cell_type": "code",
      "source": [
        ""
      ],
      "metadata": {
        "id": "Peiv5uyryf-j"
      },
      "execution_count": null,
      "outputs": []
    },
    {
      "cell_type": "code",
      "source": [
        "#Strings are immutable, you can't change their values once they are created\n",
        "element[0] = 'C'"
      ],
      "metadata": {
        "colab": {
          "base_uri": "https://localhost:8080/",
          "height": 168
        },
        "id": "erTo0qy8xJ3j",
        "outputId": "88727425-cd93-4719-9832-a139ddb660db"
      },
      "execution_count": 24,
      "outputs": [
        {
          "output_type": "error",
          "ename": "TypeError",
          "evalue": "ignored",
          "traceback": [
            "\u001b[0;31m---------------------------------------------------------------------------\u001b[0m",
            "\u001b[0;31mTypeError\u001b[0m                                 Traceback (most recent call last)",
            "\u001b[0;32m<ipython-input-24-6dc46761ce07>\u001b[0m in \u001b[0;36m<module>\u001b[0;34m()\u001b[0m\n\u001b[0;32m----> 1\u001b[0;31m \u001b[0melement\u001b[0m\u001b[0;34m[\u001b[0m\u001b[0;36m0\u001b[0m\u001b[0;34m]\u001b[0m \u001b[0;34m=\u001b[0m \u001b[0;34m'C'\u001b[0m\u001b[0;34m\u001b[0m\u001b[0;34m\u001b[0m\u001b[0m\n\u001b[0m",
            "\u001b[0;31mTypeError\u001b[0m: 'str' object does not support item assignment"
          ]
        }
      ]
    },
    {
      "cell_type": "code",
      "source": [
        "#But the object pointing to the string can now point to a different string\n",
        "element = 'nitrogen'\n",
        "element "
      ],
      "metadata": {
        "colab": {
          "base_uri": "https://localhost:8080/",
          "height": 35
        },
        "id": "syilCdkFxXHW",
        "outputId": "0503d000-f875-4144-8c8f-c2f9ba8c1c51"
      },
      "execution_count": 27,
      "outputs": [
        {
          "output_type": "execute_result",
          "data": {
            "text/plain": [
              "'nitrogen'"
            ],
            "application/vnd.google.colaboratory.intrinsic+json": {
              "type": "string"
            }
          },
          "metadata": {},
          "execution_count": 27
        }
      ]
    },
    {
      "cell_type": "code",
      "source": [
        "#Out of range access of elements\n",
        "element[99]"
      ],
      "metadata": {
        "colab": {
          "base_uri": "https://localhost:8080/",
          "height": 168
        },
        "id": "u_BTCaJEyhiC",
        "outputId": "dfc56711-b5c0-4dfc-e095-c16258820ae3"
      },
      "execution_count": 28,
      "outputs": [
        {
          "output_type": "error",
          "ename": "IndexError",
          "evalue": "ignored",
          "traceback": [
            "\u001b[0;31m---------------------------------------------------------------------------\u001b[0m",
            "\u001b[0;31mIndexError\u001b[0m                                Traceback (most recent call last)",
            "\u001b[0;32m<ipython-input-28-0180d9f56cb7>\u001b[0m in \u001b[0;36m<module>\u001b[0;34m()\u001b[0m\n\u001b[0;32m----> 1\u001b[0;31m \u001b[0melement\u001b[0m\u001b[0;34m[\u001b[0m\u001b[0;36m99\u001b[0m\u001b[0;34m]\u001b[0m\u001b[0;34m\u001b[0m\u001b[0;34m\u001b[0m\u001b[0m\n\u001b[0m",
            "\u001b[0;31mIndexError\u001b[0m: string index out of range"
          ]
        }
      ]
    },
    {
      "cell_type": "code",
      "source": [
        "#Negative index starts from the end\n",
        "element = 'helium'\n",
        "print(element[-2])"
      ],
      "metadata": {
        "colab": {
          "base_uri": "https://localhost:8080/"
        },
        "id": "v92voE3nzJ5a",
        "outputId": "1f25759a-bd42-4a41-9190-4eb8f2d3fb51"
      },
      "execution_count": 30,
      "outputs": [
        {
          "output_type": "stream",
          "name": "stdout",
          "text": [
            "u\n"
          ]
        }
      ]
    },
    {
      "cell_type": "code",
      "source": [
        "element = 'fluorine'\n",
        "print(element[::2])\n",
        "#low:high:stride, this means access elements 0, 2, 4, 6 "
      ],
      "metadata": {
        "colab": {
          "base_uri": "https://localhost:8080/"
        },
        "id": "7h4LIoZfzd9m",
        "outputId": "b3a72712-9fdb-4293-8384-d4a8d4ae6e1c"
      },
      "execution_count": 32,
      "outputs": [
        {
          "output_type": "stream",
          "name": "stdout",
          "text": [
            "furn\n"
          ]
        }
      ]
    },
    {
      "cell_type": "code",
      "source": [
        "#Slicing and dicing. General syntax is start:stop:step\n",
        "#or start:stop\n",
        "#or :stop, here start = 0, step = 1\n",
        "#or start:, here stop = N, step = 1\n",
        "element[2:4] # 2, 3"
      ],
      "metadata": {
        "colab": {
          "base_uri": "https://localhost:8080/",
          "height": 35
        },
        "id": "DPo-ca5q0MHd",
        "outputId": "1840db4b-42db-4fea-a484-43f5796f2622"
      },
      "execution_count": 35,
      "outputs": [
        {
          "output_type": "execute_result",
          "data": {
            "text/plain": [
              "'uo'"
            ],
            "application/vnd.google.colaboratory.intrinsic+json": {
              "type": "string"
            }
          },
          "metadata": {},
          "execution_count": 35
        }
      ]
    },
    {
      "cell_type": "code",
      "source": [
        "element[:3] # 0, 1, 2"
      ],
      "metadata": {
        "colab": {
          "base_uri": "https://localhost:8080/",
          "height": 35
        },
        "id": "KVgBWIcZ0cik",
        "outputId": "89305cf5-fa20-4fd8-9e26-521fcdc054e1"
      },
      "execution_count": 36,
      "outputs": [
        {
          "output_type": "execute_result",
          "data": {
            "text/plain": [
              "'flu'"
            ],
            "application/vnd.google.colaboratory.intrinsic+json": {
              "type": "string"
            }
          },
          "metadata": {},
          "execution_count": 36
        }
      ]
    },
    {
      "cell_type": "code",
      "source": [
        "#Creating a new object and sorting it versus running sort in place \n",
        "#Program A\n",
        "letters = ['g', 'o', 'l', 'd']\n",
        "result = sorted(letters)\n",
        "print('letters is', letters, 'and results is', result)\n"
      ],
      "metadata": {
        "colab": {
          "base_uri": "https://localhost:8080/"
        },
        "id": "ZCQlmbW00seU",
        "outputId": "764757ef-738d-4b0d-e475-8133f30e10b8"
      },
      "execution_count": 37,
      "outputs": [
        {
          "output_type": "stream",
          "name": "stdout",
          "text": [
            "letters is ['g', 'o', 'l', 'd'] and results is ['d', 'g', 'l', 'o']\n"
          ]
        }
      ]
    },
    {
      "cell_type": "code",
      "source": [
        "#Program  B\n",
        "letters = ['g', 'o', 'l', 'd']\n",
        "result = letters.sort()\n",
        "print('letters is', letters, 'and results is', result)\n"
      ],
      "metadata": {
        "colab": {
          "base_uri": "https://localhost:8080/"
        },
        "id": "y4CKkbwt0-FY",
        "outputId": "c3f14949-5761-429e-b96d-57515df9129e"
      },
      "execution_count": 38,
      "outputs": [
        {
          "output_type": "stream",
          "name": "stdout",
          "text": [
            "letters is ['d', 'g', 'l', 'o'] and results is None\n"
          ]
        }
      ]
    },
    {
      "cell_type": "markdown",
      "source": [
        ""
      ],
      "metadata": {
        "id": "ILiph0Ew4nmR"
      }
    },
    {
      "cell_type": "code",
      "source": [
        "#Here we don't create a new list, but copy the pointer (address) of the original list.\n",
        "#As boths lists point to the same data, any change is seen in both lists\n",
        "new_letters = letters # Here we copied the address of the object letters\n",
        "new_letters[0] = \"G\" #Change the first character inplace\n",
        "print('letters is', letters, 'and new_letters is', new_letters)"
      ],
      "metadata": {
        "colab": {
          "base_uri": "https://localhost:8080/"
        },
        "id": "bPH8vIaY4jzC",
        "outputId": "6d0f4c96-3735-4946-82bf-63308e03e47e"
      },
      "execution_count": 39,
      "outputs": [
        {
          "output_type": "stream",
          "name": "stdout",
          "text": [
            "letters is ['G', 'g', 'l', 'o'] and new_letters is ['G', 'g', 'l', 'o']\n"
          ]
        }
      ]
    }
  ]
}