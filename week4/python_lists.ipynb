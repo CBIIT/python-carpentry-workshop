{
  "nbformat": 4,
  "nbformat_minor": 0,
  "metadata": {
    "colab": {
      "name": "python_lists.ipynb",
      "provenance": [],
      "collapsed_sections": [],
      "include_colab_link": true
    },
    "kernelspec": {
      "name": "python3",
      "display_name": "Python 3"
    },
    "language_info": {
      "name": "python"
    }
  },
  "cells": [
    {
      "cell_type": "markdown",
      "metadata": {
        "id": "view-in-github",
        "colab_type": "text"
      },
      "source": [
        "<a href=\"https://colab.research.google.com/github/CBIIT/python-carpentry-workshop/blob/main/python_lists.ipynb\" target=\"_parent\"><img src=\"https://colab.research.google.com/assets/colab-badge.svg\" alt=\"Open In Colab\"/></a>"
      ]
    },
    {
      "cell_type": "markdown",
      "metadata": {
        "id": "yMmmr9csOAzF"
      },
      "source": [
        "# **Lists**"
      ]
    },
    {
      "cell_type": "markdown",
      "metadata": {
        "id": "YbCTYhYhSWDh"
      },
      "source": [
        "**A list stores many values in a single structure.**\n",
        "\n",
        "Doing calculations with a hundred variables called pressure_001, pressure_002, etc., would be at least as slow as doing them by hand.\n",
        "Use a list to store many values together.\n",
        "Contained within square brackets [...].\n",
        "Values separated by commas ,.\n",
        "Use len to find out how many values are in a list."
      ]
    },
    {
      "cell_type": "code",
      "metadata": {
        "colab": {
          "base_uri": "https://localhost:8080/"
        },
        "id": "few0lzLeSnxW",
        "outputId": "6a8b2b3b-f66e-4a2d-f05e-95130d73bf9c"
      },
      "source": [
        "pressures = [0.273, 0.275,0.277,0.275,0.276]\n",
        "print('pressures:',pressures)\n",
        "print('length:',len(pressures))"
      ],
      "execution_count": null,
      "outputs": [
        {
          "output_type": "stream",
          "text": [
            "pressures: [0.273, 0.275, 0.277, 0.275, 0.276]\n",
            "length: 5\n"
          ],
          "name": "stdout"
        }
      ]
    },
    {
      "cell_type": "markdown",
      "metadata": {
        "id": "w6p3NsICUZsa"
      },
      "source": [
        "Use an item’s index to fetch it from a list.\n",
        "Just like strings"
      ]
    },
    {
      "cell_type": "code",
      "metadata": {
        "colab": {
          "base_uri": "https://localhost:8080/"
        },
        "id": "PQUCjothUfym",
        "outputId": "25ac1a05-63e6-4c82-e372-6d14595196b2"
      },
      "source": [
        "print(\"zeroth item of pressures:\", pressures[0])\n",
        "print(\"fourth item of pressures:\",pressures[4])"
      ],
      "execution_count": null,
      "outputs": [
        {
          "output_type": "stream",
          "text": [
            "zeroth item of pressures: 0.273\n",
            "fourth item of pressures: 0.276\n"
          ],
          "name": "stdout"
        }
      ]
    },
    {
      "cell_type": "markdown",
      "metadata": {
        "id": "zEkM-jCGU1u4"
      },
      "source": [
        "Lists values can be replaced by assigning to them.\n",
        "*Use an index expression on the left of assignment to replace a value."
      ]
    },
    {
      "cell_type": "code",
      "metadata": {
        "colab": {
          "base_uri": "https://localhost:8080/"
        },
        "id": "c0PCgCMhVEvi",
        "outputId": "48169cdf-99ff-41a2-b1a1-0d98457f31dc"
      },
      "source": [
        "pressures[0]=0.265\n",
        "print('pressures is nos:', pressures[0])"
      ],
      "execution_count": null,
      "outputs": [
        {
          "output_type": "stream",
          "text": [
            "pressures is nos: 0.265\n"
          ],
          "name": "stdout"
        }
      ]
    },
    {
      "cell_type": "markdown",
      "metadata": {
        "id": "2V3uVhehVPFd"
      },
      "source": [
        "Appending items to a list lengthens it.\n",
        "\n",
        "*use list_name.append to add items to the end of a list."
      ]
    },
    {
      "cell_type": "code",
      "metadata": {
        "colab": {
          "base_uri": "https://localhost:8080/"
        },
        "id": "_ae2rhm2Vjsh",
        "outputId": "db35e078-4d7c-4705-9b11-5bebeb513683"
      },
      "source": [
        "primes = [2,3,5]\n",
        "print('primes is initially:', primes)\n",
        "primes.append(7)\n",
        "print('primes has become:', primes)"
      ],
      "execution_count": null,
      "outputs": [
        {
          "output_type": "stream",
          "text": [
            "primes is initially: [2, 3, 5]\n",
            "primes has become: [2, 3, 5, 7]\n"
          ],
          "name": "stdout"
        }
      ]
    },
    {
      "cell_type": "markdown",
      "metadata": {
        "id": "EavViInZV6zu"
      },
      "source": [
        "append is a method of lists.\n",
        "Like a function, but tied to a particular object.\n",
        "Use object_name.method_name to call methods.\n",
        "Deliberately resembles the way we refer to things in a library.\n",
        "We will meet other methods of lists as we go along.\n",
        "Use help(list) for a preview.\n",
        "extend is similar to append, but it allows you to combine two lists. For example:\n"
      ]
    },
    {
      "cell_type": "code",
      "metadata": {
        "colab": {
          "base_uri": "https://localhost:8080/"
        },
        "id": "iCSHTt8dWC3E",
        "outputId": "ae34bf03-e2df-4f9d-f99e-cdcbac403769"
      },
      "source": [
        "teen_primes = [11,13,17, 19]\n",
        "middle_aged_primes = [37, 41,43,47]\n",
        "print('primes is currently:', primes)\n",
        "primes.extend(teen_primes)\n",
        "print('primes has now become:',primes)\n",
        "primes.append(middle_aged_primes)\n",
        "print('primes has finally become',primes)\n",
        "print(primes[-1][1])"
      ],
      "execution_count": null,
      "outputs": [
        {
          "output_type": "stream",
          "text": [
            "primes is currently: [2, 3, 5, 7, 11, 13, 17, 19, 11, 13, 17, 19, [37, 41, 43, 47], 11, 13, 17, 19, [37, 41, 43, 47]]\n",
            "primes has now become: [2, 3, 5, 7, 11, 13, 17, 19, 11, 13, 17, 19, [37, 41, 43, 47], 11, 13, 17, 19, [37, 41, 43, 47], 11, 13, 17, 19]\n",
            "primes has finally become [2, 3, 5, 7, 11, 13, 17, 19, 11, 13, 17, 19, [37, 41, 43, 47], 11, 13, 17, 19, [37, 41, 43, 47], 11, 13, 17, 19, [37, 41, 43, 47]]\n",
            "41\n"
          ],
          "name": "stdout"
        }
      ]
    },
    {
      "cell_type": "markdown",
      "metadata": {
        "id": "3EjRxIVLXMNj"
      },
      "source": [
        ""
      ]
    }
  ]
}
