{
  "nbformat": 4,
  "nbformat_minor": 0,
  "metadata": {
    "colab": {
      "name": "python_built-in_functions_and_help.ipynb",
      "provenance": [],
      "include_colab_link": true
    },
    "kernelspec": {
      "name": "python3",
      "display_name": "Python 3"
    },
    "language_info": {
      "name": "python"
    }
  },
  "cells": [
    {
      "cell_type": "markdown",
      "metadata": {
        "id": "view-in-github",
        "colab_type": "text"
      },
      "source": [
        "<a href=\"https://colab.research.google.com/github/CBIIT/python-carpentry-workshop/blob/main/python_built_in_functions_and_help.ipynb\" target=\"_parent\"><img src=\"https://colab.research.google.com/assets/colab-badge.svg\" alt=\"Open In Colab\"/></a>"
      ]
    },
    {
      "cell_type": "markdown",
      "metadata": {
        "id": "8_8gUmJgAses"
      },
      "source": [
        "# Built-in Functions and Help"
      ]
    },
    {
      "cell_type": "code",
      "metadata": {
        "id": "_vFTB-w1tuq2"
      },
      "source": [
        "Temprature = 56\n",
        "temprature = 37"
      ],
      "execution_count": null,
      "outputs": []
    },
    {
      "cell_type": "code",
      "metadata": {
        "colab": {
          "base_uri": "https://localhost:8080/"
        },
        "id": "kTe541ZH3MZV",
        "outputId": "712f6885-6736-4053-ba4a-d4a5841c26f3"
      },
      "source": [
        "print(Temprature)"
      ],
      "execution_count": null,
      "outputs": [
        {
          "output_type": "stream",
          "text": [
            "56\n"
          ],
          "name": "stdout"
        }
      ]
    },
    {
      "cell_type": "code",
      "metadata": {
        "colab": {
          "base_uri": "https://localhost:8080/"
        },
        "id": "r3HNY8CX3R4p",
        "outputId": "e8257d12-4b75-4163-bf58-0416e143282d"
      },
      "source": [
        "print(temprature)"
      ],
      "execution_count": null,
      "outputs": [
        {
          "output_type": "stream",
          "text": [
            "37\n"
          ],
          "name": "stdout"
        }
      ]
    },
    {
      "cell_type": "code",
      "metadata": {
        "colab": {
          "base_uri": "https://localhost:8080/"
        },
        "id": "c-Y9XN8X30q4",
        "outputId": "b1a3330a-313f-452c-a4e5-5cd0a30bf249"
      },
      "source": [
        "seconds = 5\n",
        "print(seconds)\n",
        "minutes = 3\n",
        "seconds = minutes * 60 + seconds\n",
        "print(seconds)"
      ],
      "execution_count": null,
      "outputs": [
        {
          "output_type": "stream",
          "text": [
            "5\n",
            "185\n"
          ],
          "name": "stdout"
        }
      ]
    },
    {
      "cell_type": "code",
      "metadata": {
        "id": "5jxDFACt4zDx"
      },
      "source": [
        "thing = \"abcdefg\""
      ],
      "execution_count": null,
      "outputs": []
    },
    {
      "cell_type": "code",
      "metadata": {
        "colab": {
          "base_uri": "https://localhost:8080/"
        },
        "id": "3NtY6KOF42nb",
        "outputId": "7f0eef56-dab2-455e-9fa2-69f4eb1c8f8b"
      },
      "source": [
        "print(thing[1:4])\n",
        "print(thing[1:])\n",
        "print(thing[:4])\n",
        "print(thing[:])\n",
        "print(thing[1:-2])"
      ],
      "execution_count": null,
      "outputs": [
        {
          "output_type": "stream",
          "text": [
            "bcd\n",
            "bcdefg\n",
            "abcd\n",
            "abcdefg\n",
            "bcde\n"
          ],
          "name": "stdout"
        }
      ]
    },
    {
      "cell_type": "markdown",
      "metadata": {
        "id": "SCx_XMEgE5Be"
      },
      "source": [
        ""
      ]
    },
    {
      "cell_type": "code",
      "metadata": {
        "id": "CQDEAh58Ghbl"
      },
      "source": [
        "my_string = \"hello\"\n",
        "second_string = 'bye'"
      ],
      "execution_count": null,
      "outputs": []
    },
    {
      "cell_type": "code",
      "metadata": {
        "colab": {
          "base_uri": "https://localhost:8080/"
        },
        "id": "se6g9yyZGogz",
        "outputId": "cb9375c9-ba35-493c-844a-ec783bab4798"
      },
      "source": [
        "string_with_quote = 'This string as the double quotes\"\" in it'\n",
        "print(string_with_quote)"
      ],
      "execution_count": null,
      "outputs": [
        {
          "output_type": "stream",
          "text": [
            "This string as the double quotes\"\" in it\n"
          ],
          "name": "stdout"
        }
      ]
    },
    {
      "cell_type": "markdown",
      "metadata": {
        "id": "DXKVxhWtHCJZ"
      },
      "source": [
        "## Built-in Functions and **Help**"
      ]
    },
    {
      "cell_type": "code",
      "metadata": {
        "id": "VKUu5DNeHFHV"
      },
      "source": [
        "# This sentence isn't excuted by Python\n",
        "number = 0.5 # Neither is this - anything after '#' is ignored"
      ],
      "execution_count": null,
      "outputs": []
    },
    {
      "cell_type": "markdown",
      "metadata": {
        "id": "e77It_-bH2a8"
      },
      "source": [
        "## A function may take zero or more arguments"
      ]
    },
    {
      "cell_type": "code",
      "metadata": {
        "colab": {
          "base_uri": "https://localhost:8080/"
        },
        "id": "NoRF9mn2H7N0",
        "outputId": "1c7ace66-d56b-4f95-8057-2b5f3808e7cb"
      },
      "source": [
        "len(string_with_quote)"
      ],
      "execution_count": null,
      "outputs": [
        {
          "output_type": "execute_result",
          "data": {
            "text/plain": [
              "38"
            ]
          },
          "metadata": {
            "tags": []
          },
          "execution_count": 17
        }
      ]
    },
    {
      "cell_type": "code",
      "metadata": {
        "colab": {
          "base_uri": "https://localhost:8080/"
        },
        "id": "dOlAi8AEIMJh",
        "outputId": "3f218160-669e-419f-9a0d-962b30669a20"
      },
      "source": [
        "print(\"before\")\n",
        "print()\n",
        "print(\"after\")"
      ],
      "execution_count": null,
      "outputs": [
        {
          "output_type": "stream",
          "text": [
            "before\n",
            "\n",
            "after\n"
          ],
          "name": "stdout"
        }
      ]
    },
    {
      "cell_type": "markdown",
      "metadata": {
        "id": "mtHzuf3_IaI1"
      },
      "source": [
        "## Every function returns something"
      ]
    },
    {
      "cell_type": "code",
      "metadata": {
        "colab": {
          "base_uri": "https://localhost:8080/"
        },
        "id": "nYKlcPm1Io89",
        "outputId": "3d9d0e5e-49c7-4024-f106-a13ec7bafeda"
      },
      "source": [
        "result = int(4.5)\n",
        "print(result)"
      ],
      "execution_count": null,
      "outputs": [
        {
          "output_type": "stream",
          "text": [
            "4\n"
          ],
          "name": "stdout"
        }
      ]
    },
    {
      "cell_type": "code",
      "metadata": {
        "colab": {
          "base_uri": "https://localhost:8080/"
        },
        "id": "yeWEjxEVI6ox",
        "outputId": "b602e405-6b82-4a5d-a375-0279b6498dc1"
      },
      "source": [
        "print_result = print(\"example\")\n",
        "print(\"result of print is:\", print_result)"
      ],
      "execution_count": null,
      "outputs": [
        {
          "output_type": "stream",
          "text": [
            "example\n",
            "result of print is: None\n"
          ],
          "name": "stdout"
        }
      ]
    },
    {
      "cell_type": "markdown",
      "metadata": {
        "id": "RRcb09vyJdsF"
      },
      "source": [
        "Commonly-used built-in functions includes `max`, `min`, and `round`"
      ]
    },
    {
      "cell_type": "code",
      "metadata": {
        "colab": {
          "base_uri": "https://localhost:8080/"
        },
        "id": "XJwGgLyuJkHg",
        "outputId": "2463a785-05c9-4ef4-c814-911a00e4a045"
      },
      "source": [
        "print(max(1, 2, 3))\n",
        "print(min('a', \"A\")) # This is because the ASCII code for \"A\" is smaller than\n",
        "#The ASCII code for 'a'"
      ],
      "execution_count": null,
      "outputs": [
        {
          "output_type": "stream",
          "text": [
            "3\n",
            "A\n"
          ],
          "name": "stdout"
        }
      ]
    },
    {
      "cell_type": "code",
      "metadata": {
        "colab": {
          "base_uri": "https://localhost:8080/",
          "height": 166
        },
        "id": "aUOM0laEKHL7",
        "outputId": "0d1b21c2-dd8d-444c-ff9c-fe35fa3ffff0"
      },
      "source": [
        "print(max(1, 'a'))"
      ],
      "execution_count": null,
      "outputs": [
        {
          "output_type": "error",
          "ename": "TypeError",
          "evalue": "ignored",
          "traceback": [
            "\u001b[0;31m---------------------------------------------------------------------------\u001b[0m",
            "\u001b[0;31mTypeError\u001b[0m                                 Traceback (most recent call last)",
            "\u001b[0;32m<ipython-input-25-3f049acf3762>\u001b[0m in \u001b[0;36m<module>\u001b[0;34m()\u001b[0m\n\u001b[0;32m----> 1\u001b[0;31m \u001b[0mprint\u001b[0m\u001b[0;34m(\u001b[0m\u001b[0mmax\u001b[0m\u001b[0;34m(\u001b[0m\u001b[0;36m1\u001b[0m\u001b[0;34m,\u001b[0m \u001b[0;34m'a'\u001b[0m\u001b[0;34m)\u001b[0m\u001b[0;34m)\u001b[0m\u001b[0;34m\u001b[0m\u001b[0;34m\u001b[0m\u001b[0m\n\u001b[0m",
            "\u001b[0;31mTypeError\u001b[0m: '>' not supported between instances of 'str' and 'int'"
          ]
        }
      ]
    },
    {
      "cell_type": "markdown",
      "metadata": {
        "id": "VTbQbZNbKivt"
      },
      "source": [
        "## Functions may have default values for some arguments"
      ]
    },
    {
      "cell_type": "code",
      "metadata": {
        "colab": {
          "base_uri": "https://localhost:8080/"
        },
        "id": "Qtnwyj5zKnSQ",
        "outputId": "87d69033-0d87-4f2f-98e5-f6a434d62339"
      },
      "source": [
        "round(3.712)"
      ],
      "execution_count": null,
      "outputs": [
        {
          "output_type": "execute_result",
          "data": {
            "text/plain": [
              "4"
            ]
          },
          "metadata": {
            "tags": []
          },
          "execution_count": 26
        }
      ]
    },
    {
      "cell_type": "code",
      "metadata": {
        "colab": {
          "base_uri": "https://localhost:8080/"
        },
        "id": "W3CQV0_xKryV",
        "outputId": "13412124-97a4-43dd-adeb-3f8abb350cd8"
      },
      "source": [
        "round(3.716, 2)"
      ],
      "execution_count": null,
      "outputs": [
        {
          "output_type": "execute_result",
          "data": {
            "text/plain": [
              "3.72"
            ]
          },
          "metadata": {
            "tags": []
          },
          "execution_count": 29
        }
      ]
    },
    {
      "cell_type": "markdown",
      "metadata": {
        "id": "ESs2eAmCLTE5"
      },
      "source": [
        "## Functions attached to objects are callled methods"
      ]
    },
    {
      "cell_type": "code",
      "metadata": {
        "colab": {
          "base_uri": "https://localhost:8080/"
        },
        "id": "DynzdJ-ELW6u",
        "outputId": "b3347608-45ea-44e1-d1a1-17e5b5d2b32a"
      },
      "source": [
        "my_string = \"Hello world!\"\n",
        "len(my_string)"
      ],
      "execution_count": null,
      "outputs": [
        {
          "output_type": "execute_result",
          "data": {
            "text/plain": [
              "12"
            ]
          },
          "metadata": {
            "tags": []
          },
          "execution_count": 30
        }
      ]
    },
    {
      "cell_type": "code",
      "metadata": {
        "colab": {
          "base_uri": "https://localhost:8080/"
        },
        "id": "8egrHs3RLy_U",
        "outputId": "cba37a75-dd24-469e-d8c2-e4f5b3236e85"
      },
      "source": [
        "# Run one of predefined functions on the object of type string\n",
        "my_string.isdecimal()"
      ],
      "execution_count": null,
      "outputs": [
        {
          "output_type": "execute_result",
          "data": {
            "text/plain": [
              "False"
            ]
          },
          "metadata": {
            "tags": []
          },
          "execution_count": 31
        }
      ]
    },
    {
      "cell_type": "code",
      "metadata": {
        "colab": {
          "base_uri": "https://localhost:8080/"
        },
        "id": "AS5LWNtbMWul",
        "outputId": "067d004d-268f-49ca-e731-92629a80c201"
      },
      "source": [
        "print(my_string.isupper())"
      ],
      "execution_count": null,
      "outputs": [
        {
          "output_type": "stream",
          "text": [
            "False\n"
          ],
          "name": "stdout"
        }
      ]
    },
    {
      "cell_type": "code",
      "metadata": {
        "colab": {
          "base_uri": "https://localhost:8080/"
        },
        "id": "_jtrS9S8MevH",
        "outputId": "98befd34-5fb2-4cf0-f90d-8e5540ffa3f5"
      },
      "source": [
        "my_string_in_upper = my_string.upper()\n",
        "print(my_string_in_upper)"
      ],
      "execution_count": null,
      "outputs": [
        {
          "output_type": "stream",
          "text": [
            "HELLO WORLD!\n"
          ],
          "name": "stdout"
        }
      ]
    },
    {
      "cell_type": "code",
      "metadata": {
        "colab": {
          "base_uri": "https://localhost:8080/"
        },
        "id": "Nz2yt2DXMvxv",
        "outputId": "01d2f4e0-6001-4446-b52d-c548aba5d7fd"
      },
      "source": [
        "#Use internall functions in objects\n",
        "print(my_string.__len__())"
      ],
      "execution_count": null,
      "outputs": [
        {
          "output_type": "stream",
          "text": [
            "12\n"
          ],
          "name": "stdout"
        }
      ]
    },
    {
      "cell_type": "code",
      "metadata": {
        "colab": {
          "base_uri": "https://localhost:8080/"
        },
        "id": "iqgR4NE_NBSv",
        "outputId": "aa2c7c42-8106-4613-d125-47aa93d7b33b"
      },
      "source": [
        "my_string_in_upper = my_string.upper()\n",
        "my_string_in_upper.isupper()\n",
        "\n",
        "print(my_string.upper().isupper())"
      ],
      "execution_count": null,
      "outputs": [
        {
          "output_type": "stream",
          "text": [
            "True\n"
          ],
          "name": "stdout"
        }
      ]
    },
    {
      "cell_type": "markdown",
      "metadata": {
        "id": "VNs95PgoNwtX"
      },
      "source": [
        "## Use the built-in function `help` to get help for a function"
      ]
    },
    {
      "cell_type": "code",
      "metadata": {
        "colab": {
          "base_uri": "https://localhost:8080/"
        },
        "id": "vg1XGazCN3lr",
        "outputId": "757ac429-71d7-4063-ee12-97e5d209fa91"
      },
      "source": [
        "help(round)"
      ],
      "execution_count": null,
      "outputs": [
        {
          "output_type": "stream",
          "text": [
            "Help on built-in function round in module builtins:\n",
            "\n",
            "round(number, ndigits=None)\n",
            "    Round a number to a given precision in decimal digits.\n",
            "    \n",
            "    The return value is an integer if ndigits is omitted or None.  Otherwise\n",
            "    the return value has the same type as the number.  ndigits may be negative.\n",
            "\n"
          ],
          "name": "stdout"
        }
      ]
    },
    {
      "cell_type": "code",
      "metadata": {
        "colab": {
          "base_uri": "https://localhost:8080/"
        },
        "id": "YkrOxDInN5UR",
        "outputId": "d3747c95-f621-4bb0-aac8-d62f0c92fc9e"
      },
      "source": [
        "round(45.67, -1)"
      ],
      "execution_count": null,
      "outputs": [
        {
          "output_type": "execute_result",
          "data": {
            "text/plain": [
              "50.0"
            ]
          },
          "metadata": {
            "tags": []
          },
          "execution_count": 40
        }
      ]
    },
    {
      "cell_type": "markdown",
      "metadata": {
        "id": "BykqKm1LOagi"
      },
      "source": [
        "## Python syntax errors"
      ]
    },
    {
      "cell_type": "code",
      "metadata": {
        "colab": {
          "base_uri": "https://localhost:8080/",
          "height": 131
        },
        "id": "2xqhtuM9PWwi",
        "outputId": "06527b8e-79ba-4a09-ff60-527dcee30bf3"
      },
      "source": [
        "name = 'Feng"
      ],
      "execution_count": null,
      "outputs": [
        {
          "output_type": "error",
          "ename": "SyntaxError",
          "evalue": "ignored",
          "traceback": [
            "\u001b[0;36m  File \u001b[0;32m\"<ipython-input-41-55063da583f6>\"\u001b[0;36m, line \u001b[0;32m1\u001b[0m\n\u001b[0;31m    name = 'Feng\u001b[0m\n\u001b[0m                ^\u001b[0m\n\u001b[0;31mSyntaxError\u001b[0m\u001b[0;31m:\u001b[0m EOL while scanning string literal\n"
          ]
        }
      ]
    },
    {
      "cell_type": "code",
      "metadata": {
        "colab": {
          "base_uri": "https://localhost:8080/",
          "height": 131
        },
        "id": "Dq8NPMhXPoMb",
        "outputId": "fbdc9e48-fa6a-425c-a5bd-0b2cdee43af6"
      },
      "source": [
        "age = = 52"
      ],
      "execution_count": null,
      "outputs": [
        {
          "output_type": "error",
          "ename": "SyntaxError",
          "evalue": "ignored",
          "traceback": [
            "\u001b[0;36m  File \u001b[0;32m\"<ipython-input-42-72473b56627d>\"\u001b[0;36m, line \u001b[0;32m1\u001b[0m\n\u001b[0;31m    age = = 52\u001b[0m\n\u001b[0m          ^\u001b[0m\n\u001b[0;31mSyntaxError\u001b[0m\u001b[0;31m:\u001b[0m invalid syntax\n"
          ]
        }
      ]
    },
    {
      "cell_type": "code",
      "metadata": {
        "colab": {
          "base_uri": "https://localhost:8080/",
          "height": 131
        },
        "id": "gmJ5nqWpPhh7",
        "outputId": "0cdf69b0-a7fc-4265-8ee1-5f1ac5fb434b"
      },
      "source": [
        "print(\"Hello world\""
      ],
      "execution_count": null,
      "outputs": [
        {
          "output_type": "error",
          "ename": "SyntaxError",
          "evalue": "ignored",
          "traceback": [
            "\u001b[0;36m  File \u001b[0;32m\"<ipython-input-43-9a71d7823e11>\"\u001b[0;36m, line \u001b[0;32m1\u001b[0m\n\u001b[0;31m    print(\"hello work\"\u001b[0m\n\u001b[0m                      ^\u001b[0m\n\u001b[0;31mSyntaxError\u001b[0m\u001b[0;31m:\u001b[0m unexpected EOF while parsing\n"
          ]
        }
      ]
    },
    {
      "cell_type": "markdown",
      "metadata": {
        "id": "otowTuDgP5R8"
      },
      "source": [
        "## Runtime erros"
      ]
    },
    {
      "cell_type": "code",
      "metadata": {
        "id": "mLA_pAlfP6qu"
      },
      "source": [
        ""
      ],
      "execution_count": null,
      "outputs": []
    },
    {
      "cell_type": "code",
      "metadata": {
        "colab": {
          "base_uri": "https://localhost:8080/",
          "height": 184
        },
        "id": "RJgkAcfHP7Ka",
        "outputId": "ca06dba8-71a7-4dee-cd40-6a78f036f4f0"
      },
      "source": [
        "age = 53\n",
        "remaining = 100 - aege "
      ],
      "execution_count": null,
      "outputs": [
        {
          "output_type": "error",
          "ename": "NameError",
          "evalue": "ignored",
          "traceback": [
            "\u001b[0;31m---------------------------------------------------------------------------\u001b[0m",
            "\u001b[0;31mNameError\u001b[0m                                 Traceback (most recent call last)",
            "\u001b[0;32m<ipython-input-44-b3ef0e600d3b>\u001b[0m in \u001b[0;36m<module>\u001b[0;34m()\u001b[0m\n\u001b[1;32m      1\u001b[0m \u001b[0mage\u001b[0m \u001b[0;34m=\u001b[0m \u001b[0;36m53\u001b[0m\u001b[0;34m\u001b[0m\u001b[0;34m\u001b[0m\u001b[0m\n\u001b[0;32m----> 2\u001b[0;31m \u001b[0mremaining\u001b[0m \u001b[0;34m=\u001b[0m \u001b[0;36m100\u001b[0m \u001b[0;34m-\u001b[0m\u001b[0maege\u001b[0m\u001b[0;34m\u001b[0m\u001b[0;34m\u001b[0m\u001b[0m\n\u001b[0m",
            "\u001b[0;31mNameError\u001b[0m: name 'aege' is not defined"
          ]
        }
      ]
    },
    {
      "cell_type": "markdown",
      "metadata": {
        "id": "9K3hg2szAxyI"
      },
      "source": [
        "## Homework"
      ]
    },
    {
      "cell_type": "markdown",
      "metadata": {
        "id": "USuHrXQsAzj2"
      },
      "source": [
        "### What Happens When\n",
        "\n",
        "1. Explain in simple terms the order of operations in the following program: when does the addition happen, when does the subtraction happen, when is each function called, etc.\n",
        "2. What is the final value of radiance?\n",
        "\n",
        "```\n",
        "radiance = 1.0\n",
        "radiance = max(2.1, 2.0 + min(radiance, 1.1 * radiance - 0.5))\n",
        "```"
      ]
    }
  ]
}