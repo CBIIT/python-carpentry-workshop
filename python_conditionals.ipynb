{
  "nbformat": 4,
  "nbformat_minor": 0,
  "metadata": {
    "colab": {
      "name": "python_conditionals.ipynb",
      "provenance": [],
      "authorship_tag": "ABX9TyPZiNlChs88x5dDuB3SC74P",
      "include_colab_link": true
    },
    "kernelspec": {
      "name": "python3",
      "display_name": "Python 3"
    },
    "language_info": {
      "name": "python"
    }
  },
  "cells": [
    {
      "cell_type": "markdown",
      "metadata": {
        "id": "view-in-github",
        "colab_type": "text"
      },
      "source": [
        "<a href=\"https://colab.research.google.com/github/CBIIT/python-carpentry-workshop/blob/main/python_conditionals.ipynb\" target=\"_parent\"><img src=\"https://colab.research.google.com/assets/colab-badge.svg\" alt=\"Open In Colab\"/></a>"
      ]
    },
    {
      "cell_type": "markdown",
      "metadata": {
        "id": "dMmhp5cqIEDm"
      },
      "source": [
        "# Conditionals"
      ]
    },
    {
      "cell_type": "markdown",
      "metadata": {
        "id": "-n3n4gc2a0WL"
      },
      "source": [
        "## Use `if` statements to control whether or not a block of code is executed\n",
        "\n",
        "Structure is similar to a for statement:\n",
        "- First line opens with if and ends with a colon\n",
        "- Body containing one or more statements is indented (usually by 4 spaces)"
      ]
    },
    {
      "cell_type": "code",
      "metadata": {
        "id": "jjIFY6t-bIoW"
      },
      "source": [
        "mass = 3.54\n",
        "if mass > 3.0:\n",
        "    print(mass, 'is large')"
      ],
      "execution_count": null,
      "outputs": []
    },
    {
      "cell_type": "code",
      "metadata": {
        "id": "FhgAkJPkbNMm"
      },
      "source": [
        "mass = 2.07\n",
        "if mass > 3.0:\n",
        "    print (mass, 'is large')"
      ],
      "execution_count": null,
      "outputs": []
    },
    {
      "cell_type": "markdown",
      "metadata": {
        "id": "dOYWQKz5bjMd"
      },
      "source": [
        "## Conditionals are often used inside loops\n",
        "\n",
        "- Not much point using a conditional when we know the value (as above).\n",
        "- But useful when we have a collection to process."
      ]
    },
    {
      "cell_type": "code",
      "metadata": {
        "id": "sqlhMyZ4b3s5"
      },
      "source": [
        "masses = [3.54, 2.07, 9.22, 1.86, 1.71]\n",
        "for m in masses:\n",
        "    if m > 3.0:\n",
        "        print(m, 'is large')"
      ],
      "execution_count": null,
      "outputs": []
    },
    {
      "cell_type": "markdown",
      "metadata": {
        "id": "UK30lQQfcGyR"
      },
      "source": [
        "## Use `else` to execute a block of code when an `if` condition is not true\n",
        "\n",
        "- `else` can be used following an `if`.\n",
        "- Allows us to specify an alternative to execute when the `if` branch isn’t taken."
      ]
    },
    {
      "cell_type": "code",
      "metadata": {
        "id": "WAb_56cGc__P"
      },
      "source": [
        "masses = [3.54, 2.07, 9.22, 1.86, 1.71]\n",
        "for m in masses:\n",
        "    if m > 3.0:\n",
        "        print(m, 'is large')\n",
        "    else:\n",
        "        print(m, 'is small')"
      ],
      "execution_count": null,
      "outputs": []
    },
    {
      "cell_type": "markdown",
      "metadata": {
        "id": "e_Txfyd_dFVH"
      },
      "source": [
        "## Use `elif` to specify additional tests\n",
        "\n",
        "- May want to provide several alternative choices, each with its own test.\n",
        "- Use 'elif' (short for “else if”) and a condition to specify these.\n",
        "- Always associated with an 'if'.\n",
        "- Must come before the 'else' (which is the “catch all”)."
      ]
    },
    {
      "cell_type": "code",
      "metadata": {
        "colab": {
          "base_uri": "https://localhost:8080/"
        },
        "id": "B2vEkdbjk1AH",
        "outputId": "e096bece-5eb8-4947-94f7-48fbed2ab1c7"
      },
      "source": [
        "masses = [3.54, 2.07, 9.22, 1.86, 1.71]\n",
        "for m in masses:\n",
        "    if m > 9.0:\n",
        "        print(m, 'is HUGE')\n",
        "    elif m > 3.0:\n",
        "        print(m, 'is large')\n",
        "    else:\n",
        "        print(m, 'is small')"
      ],
      "execution_count": null,
      "outputs": [
        {
          "output_type": "stream",
          "text": [
            "3.54 is large\n",
            "2.07 is small\n",
            "9.22 is HUGE\n",
            "1.86 is small\n",
            "1.71 is small\n"
          ],
          "name": "stdout"
        }
      ]
    },
    {
      "cell_type": "markdown",
      "metadata": {
        "id": "FbKm7aQplDmj"
      },
      "source": [
        "## Conditions are tested once, in order\n",
        "\n",
        "- Python steps through the branches of the conditional in order, testing each in turn.\n",
        "- So **ordering matters**."
      ]
    },
    {
      "cell_type": "code",
      "metadata": {
        "colab": {
          "base_uri": "https://localhost:8080/"
        },
        "id": "xnr6wYmTl3oD",
        "outputId": "7aa88394-cd24-4bc0-9c48-2e10753ef4b7"
      },
      "source": [
        "grade = 85\n",
        "if grade >= 70:\n",
        "    print('grade is C')\n",
        "elif grade >= 80:\n",
        "    print('grade is B')\n",
        "elif grade >= 90:\n",
        "    print('grade is A')"
      ],
      "execution_count": null,
      "outputs": [
        {
          "output_type": "stream",
          "text": [
            "grade is C\n"
          ],
          "name": "stdout"
        }
      ]
    },
    {
      "cell_type": "markdown",
      "metadata": {
        "id": "qPojUHNWl669"
      },
      "source": [
        "- Does not automatically go back and re-evaluate if values change."
      ]
    },
    {
      "cell_type": "code",
      "metadata": {
        "colab": {
          "base_uri": "https://localhost:8080/"
        },
        "id": "8eENnHazl9ZL",
        "outputId": "136aa400-4ec8-4334-d183-ba12c06ba2da"
      },
      "source": [
        "velocity = 10.0\n",
        "if velocity > 20.0:\n",
        "    print('moving too fast')\n",
        "else:\n",
        "    print('adjusting velocity')\n",
        "    velocity = 50.0"
      ],
      "execution_count": null,
      "outputs": [
        {
          "output_type": "stream",
          "text": [
            "adjusting velocity\n"
          ],
          "name": "stdout"
        }
      ]
    },
    {
      "cell_type": "markdown",
      "metadata": {
        "id": "k6fBOn9mmBaC"
      },
      "source": [
        "- Often use conditionals in a loop to “evolve” the values of variables."
      ]
    },
    {
      "cell_type": "code",
      "metadata": {
        "colab": {
          "base_uri": "https://localhost:8080/"
        },
        "id": "p1cAfWxamPGE",
        "outputId": "cf72171e-5560-409f-dbf5-45e1a651d4c8"
      },
      "source": [
        "velocity = 10.0\n",
        "for i in range(5): # execute the loop 5 times\n",
        "    print(i, ':', velocity)\n",
        "    if velocity > 20.0:\n",
        "        print('moving too fast')\n",
        "        velocity = velocity - 5.0\n",
        "    else:\n",
        "        print('moving too slow')\n",
        "        velocity = velocity + 10.0\n",
        "print('final velocity:', velocity)"
      ],
      "execution_count": null,
      "outputs": [
        {
          "output_type": "stream",
          "text": [
            "0 : 10.0\n",
            "moving too slow\n",
            "1 : 20.0\n",
            "moving too slow\n",
            "2 : 30.0\n",
            "moving too fast\n",
            "3 : 25.0\n",
            "moving too fast\n",
            "4 : 20.0\n",
            "moving too slow\n",
            "final velocity: 30.0\n"
          ],
          "name": "stdout"
        }
      ]
    },
    {
      "cell_type": "markdown",
      "metadata": {
        "id": "QItZUaclu2G4"
      },
      "source": [
        ""
      ]
    },
    {
      "cell_type": "markdown",
      "metadata": {
        "id": "4ltIgzrrm1z7"
      },
      "source": [
        "## Compound Relations Using `and`, `or`, and Parentheses\n",
        "\n",
        "Often, you want some combination of things to be true. You can combine relations within a conditional using `and` and `or`. "
      ]
    },
    {
      "cell_type": "code",
      "metadata": {
        "id": "S5vJSO2voJCP"
      },
      "source": [
        "mass     = [ 3.54,  2.07,  9.22,  1.86,  1.71]\n",
        "velocity = [10.00, 20.00, 30.00, 25.00, 20.00]\n",
        "\n",
        "i = 0\n",
        "for i in range(5):\n",
        "    if mass[i] > 5 and velocity[i] > 20:\n",
        "        print(\"Fast heavy object.  Duck!\")\n",
        "    elif mass[i] > 2 and mass[i] <= 5 and velocity[i] <= 20:\n",
        "        print(\"Normal traffic\")\n",
        "    elif mass[i] <= 2 and velocity[i] <= 20:\n",
        "        print(\"Slow light object.  Ignore it\")\n",
        "    else:\n",
        "        print(\"Whoa!  Something is up with the data.  Check it\")"
      ],
      "execution_count": null,
      "outputs": []
    },
    {
      "cell_type": "markdown",
      "metadata": {
        "id": "ga-Y4PDaoJ9r"
      },
      "source": [
        "Just like with arithmetic, you can and should use parentheses whenever there is possible ambiguity. A good general rule is to always use parentheses when mixing `and` and `or` in the same condition.\n",
        "\n",
        "`if mass[i] <= 2 or mass[i] >= 5 and velocity[i] > 20:`\n",
        "\n",
        "write one of these:\n",
        "\n",
        "```\n",
        "if (mass[i] <= 2 or mass[i] >= 5) and velocity[i] > 20:\n",
        "if mass[i] <= 2 or (mass[i] >= 5 and velocity[i] > 20):\n",
        "```\n",
        "so it is perfectly clear to a reader (and to Python) what you really mean."
      ]
    }
  ]
}