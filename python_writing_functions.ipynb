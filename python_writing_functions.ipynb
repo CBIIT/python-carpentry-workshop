{
  "nbformat": 4,
  "nbformat_minor": 0,
  "metadata": {
    "colab": {
      "name": "python_writing_functions.ipynb",
      "provenance": [],
      "collapsed_sections": [],
      "authorship_tag": "ABX9TyMJkfzvQAOegtLEcSGmqpGK",
      "include_colab_link": true
    },
    "kernelspec": {
      "name": "python3",
      "display_name": "Python 3"
    },
    "language_info": {
      "name": "python"
    }
  },
  "cells": [
    {
      "cell_type": "markdown",
      "metadata": {
        "id": "view-in-github",
        "colab_type": "text"
      },
      "source": [
        "<a href=\"https://colab.research.google.com/github/CBIIT/python-carpentry-workshop/blob/main/python_writing_functions.ipynb\" target=\"_parent\"><img src=\"https://colab.research.google.com/assets/colab-badge.svg\" alt=\"Open In Colab\"/></a>"
      ]
    },
    {
      "cell_type": "markdown",
      "metadata": {
        "id": "hm7sVHwzCM-f"
      },
      "source": [
        "# Writing Functions"
      ]
    },
    {
      "cell_type": "markdown",
      "metadata": {
        "id": "YCevg5jmDaC_"
      },
      "source": [
        "## Break programs down into functions to make them easier to understand\n",
        "\n",
        "- Human beings can only keep a few items in working memory at a time\n",
        "- Understand larger/more complicated ideas by understanding and combining pieces\n",
        "- Encapsulate complexity so that we can treat it as a single “thing”\n",
        "- **Enable re-use**"
      ]
    },
    {
      "cell_type": "markdown",
      "metadata": {
        "id": "OVynAO08EHix"
      },
      "source": [
        "## Define a function using `def` with a name, parameters, and a block of code\n",
        "\n",
        "- Begin the definition of a new function with `def`.\n",
        "- Followed by the name of the function.\n",
        "  - Must obey the same rules as variable names.\n",
        "- Then parameters in parentheses.\n",
        "  - Empty parentheses if the function doesn’t take any inputs.\n",
        "  - We will discuss this in detail in a moment.\n",
        "- Then a colon.\n",
        "- Then an **indented** block of code."
      ]
    },
    {
      "cell_type": "code",
      "metadata": {
        "id": "t_B5FjkYEo_O"
      },
      "source": [
        "def print_greeting():\n",
        "    print('Hello!')"
      ],
      "execution_count": null,
      "outputs": []
    },
    {
      "cell_type": "code",
      "metadata": {
        "id": "bQoZVVnQzCli"
      },
      "source": [
        "import inspect\n",
        "inspect.getsource(print_greeting)"
      ],
      "execution_count": null,
      "outputs": []
    },
    {
      "cell_type": "markdown",
      "metadata": {
        "id": "tKfH8CpKEt8j"
      },
      "source": [
        "## Defining a function does not run it\n",
        "\n",
        "- Defining a function does not run it.\n",
        "  - Like assigning a value to a variable.\n",
        "-Must call the function to execute the code it contains."
      ]
    },
    {
      "cell_type": "code",
      "metadata": {
        "id": "rbOLvzLREtjO"
      },
      "source": [
        "print_greeting()"
      ],
      "execution_count": null,
      "outputs": []
    },
    {
      "cell_type": "markdown",
      "metadata": {
        "id": "2HkwTp9uE6ny"
      },
      "source": [
        "## Arguments in call are matched to parameters in definition\n",
        "\n",
        "- Functions are most useful when they can operate on different data.\n",
        "- Specify *parameters* when defining a function.\n",
        "  - These become variables when the function is executed.\n",
        "  - Are assigned the arguments in the call.\n",
        "  - If you don’t name the arguments when using them in the call, the arguments will be matched to parameters in the order the parameters are defined in the function."
      ]
    },
    {
      "cell_type": "code",
      "metadata": {
        "id": "i4QatXrDQXLO",
        "colab": {
          "base_uri": "https://localhost:8080/"
        },
        "outputId": "cab53e07-3053-4415-df2a-017be4d28bf6"
      },
      "source": [
        "def print_date(year, month, day):\n",
        "    joined = str(year) + '/' + str(month) + '/' + str(day)\n",
        "    print(joined)\n",
        "\n",
        "print_date(1871, 3, 19)"
      ],
      "execution_count": null,
      "outputs": [
        {
          "output_type": "stream",
          "text": [
            "1871/3/19\n"
          ],
          "name": "stdout"
        }
      ]
    },
    {
      "cell_type": "markdown",
      "metadata": {
        "id": "QUfQrILNQbHy"
      },
      "source": [
        "Or, we can name the arguments when we call the function, which allows us to specify them in any order:"
      ]
    },
    {
      "cell_type": "code",
      "metadata": {
        "id": "hzsIsDMjQjRK"
      },
      "source": [
        "print_date(month=3, day=19, year=1871)"
      ],
      "execution_count": null,
      "outputs": []
    },
    {
      "cell_type": "markdown",
      "metadata": {
        "id": "Wlyc95bVQ0_U"
      },
      "source": [
        "## Functions may return a result to their caller using `return`\n",
        "\n",
        "- Use `return ...` to give a value back to the caller.\n",
        "- May occur anywhere in the function.\n",
        "- But functions are easier to understand if `return` occurs:\n",
        "  - At the start to handle special cases.\n",
        "  - At the very end, with a final result."
      ]
    },
    {
      "cell_type": "code",
      "metadata": {
        "id": "DZgKIvMpQ47L"
      },
      "source": [
        "def average(values):\n",
        "    if len(values) == 0:\n",
        "        return None\n",
        "    return sum(values) / len(values)"
      ],
      "execution_count": null,
      "outputs": []
    },
    {
      "cell_type": "code",
      "metadata": {
        "id": "CgBykH6VRnEJ"
      },
      "source": [
        "a = average([1, 3, 4])\n",
        "print('average of actual values:', a)"
      ],
      "execution_count": null,
      "outputs": []
    },
    {
      "cell_type": "code",
      "metadata": {
        "id": "YTfIW9BkRo7s"
      },
      "source": [
        "print('average of empty list:', average([]))"
      ],
      "execution_count": null,
      "outputs": []
    },
    {
      "cell_type": "markdown",
      "metadata": {
        "id": "rCIVMdghRwfV"
      },
      "source": [
        "- Remember: every function returns something.\n",
        "- A function that doesn’t explicitly `return` a value automatically returns `None`."
      ]
    },
    {
      "cell_type": "code",
      "metadata": {
        "id": "sziokW8wR6gT",
        "colab": {
          "base_uri": "https://localhost:8080/"
        },
        "outputId": "d39d0cd3-a32a-47d6-a0bc-1fc2c40185c2"
      },
      "source": [
        "def print_date(year, month, day):\n",
        "    joined = str(year) + '/' + str(month) + '/' + str(day)\n",
        "    print(joined)\n",
        "\n",
        "result = print_date(1871, 3, 19)\n",
        "print('result of call is:', result)"
      ],
      "execution_count": null,
      "outputs": [
        {
          "output_type": "stream",
          "text": [
            "1871/3/19\n",
            "result of call is: None\n"
          ],
          "name": "stdout"
        }
      ]
    }
  ]
}