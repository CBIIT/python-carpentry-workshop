{
  "nbformat": 4,
  "nbformat_minor": 0,
  "metadata": {
    "colab": {
      "name": "for-loops.ipynb",
      "provenance": []
    },
    "kernelspec": {
      "name": "python3",
      "display_name": "Python 3"
    },
    "language_info": {
      "name": "python"
    }
  },
  "cells": [
    {
      "cell_type": "code",
      "source": [
        "#For loops are usefull to repeat of group of statements on various values\n",
        "for number in [2, 3, 5]:\n",
        "  print(number)"
      ],
      "metadata": {
        "colab": {
          "base_uri": "https://localhost:8080/"
        },
        "id": "3AX99M5z5mnG",
        "outputId": "3806821e-57dc-44d3-d122-bb4be3354bc5"
      },
      "execution_count": null,
      "outputs": [
        {
          "output_type": "stream",
          "name": "stdout",
          "text": [
            "2\n",
            "3\n",
            "5\n"
          ]
        }
      ]
    },
    {
      "cell_type": "code",
      "source": [
        "list_of_items = [2, 3, 5]\n",
        "for number in list_of_items: # number = 5\n",
        "  print(number)"
      ],
      "metadata": {
        "colab": {
          "base_uri": "https://localhost:8080/"
        },
        "id": "vxC-_Eaz6W-p",
        "outputId": "59e4d946-3e9f-4433-ab42-e0a35d1c90ab"
      },
      "execution_count": null,
      "outputs": [
        {
          "output_type": "stream",
          "name": "stdout",
          "text": [
            "2\n",
            "3\n",
            "5\n"
          ]
        }
      ]
    },
    {
      "cell_type": "code",
      "source": [
        "# The loop variable ca have any name\n",
        "list_of_items = [2, 3, 5]\n",
        "for my_number in list_of_items: \n",
        "  print(my_number)"
      ],
      "metadata": {
        "colab": {
          "base_uri": "https://localhost:8080/"
        },
        "id": "kjsc0JJa8MFP",
        "outputId": "0b1a1a50-5498-409b-bf58-1b8bcb475e18"
      },
      "execution_count": null,
      "outputs": [
        {
          "output_type": "stream",
          "name": "stdout",
          "text": [
            "2\n",
            "3\n",
            "5\n"
          ]
        }
      ]
    },
    {
      "cell_type": "code",
      "source": [
        "#The loop body can consist of multiple statements\n",
        "primes = [2, 3, 5]\n",
        "for p in primes: # p = 3\n",
        "  squared = p ** 2 #square = 9\n",
        "  cubed = p ** 3 #cubed = 27\n",
        "  print(p, squared, cubed) #3, 9, 27\n",
        "\n",
        "print(\"Done\")"
      ],
      "metadata": {
        "colab": {
          "base_uri": "https://localhost:8080/"
        },
        "id": "cUWPt_Gq8ZTO",
        "outputId": "033b220f-285f-4940-9be5-562032e2cfd3"
      },
      "execution_count": null,
      "outputs": [
        {
          "output_type": "stream",
          "name": "stdout",
          "text": [
            "2 4 8\n",
            "Done\n",
            "3 9 27\n",
            "Done\n",
            "5 25 125\n",
            "Done\n"
          ]
        }
      ]
    },
    {
      "cell_type": "code",
      "source": [
        "#You can use the range runction to generate sequence of integers\n",
        "print('a range is not a list: range(0,3)')\n",
        "for number in range(1, 10, 2):\n",
        "  print(number)"
      ],
      "metadata": {
        "colab": {
          "base_uri": "https://localhost:8080/"
        },
        "id": "Ogj8El9f9VYL",
        "outputId": "bf79f8ca-ce93-4189-8b70-3e79faa14a9e"
      },
      "execution_count": null,
      "outputs": [
        {
          "output_type": "stream",
          "name": "stdout",
          "text": [
            "a range is not a list: range(0,3)\n",
            "1\n",
            "3\n",
            "5\n",
            "7\n",
            "9\n"
          ]
        }
      ]
    },
    {
      "cell_type": "code",
      "source": [
        "#sum the first 10 integers\n",
        "\n",
        "# ans = 0\n",
        "# ans = ans + 1\n",
        "# ans = ans + 2\n",
        "# ans = ans + 3, ans will be 6\n",
        "# ans = ans + 4, ans will be 10\n",
        "# ans = ans + 5, ans will be 15\n",
        "#...\n",
        "# ans = ans + 10\n",
        "\n",
        "ans = 0\n",
        "for number in range(1, 11):\n",
        "  print(\"number = \", number)\n",
        "  ans = ans + number\n",
        "\n",
        "print(ans)\n"
      ],
      "metadata": {
        "colab": {
          "base_uri": "https://localhost:8080/"
        },
        "id": "tvXaKEjE-hyu",
        "outputId": "addde9c3-61da-42d1-ebe0-56331f0598fc"
      },
      "execution_count": null,
      "outputs": [
        {
          "output_type": "stream",
          "name": "stdout",
          "text": [
            "number =  1\n",
            "number =  2\n",
            "number =  3\n",
            "number =  4\n",
            "number =  5\n",
            "number =  6\n",
            "number =  7\n",
            "number =  8\n",
            "number =  9\n",
            "number =  10\n",
            "55\n"
          ]
        }
      ]
    },
    {
      "cell_type": "code",
      "source": [
        "#Count the number of times the loop body is executed\n",
        "total = 0\n",
        "for char in \"tin\":\n",
        "  print(\"char = \", char)\n",
        "  total = total + 1\n",
        "\n",
        "print(\"total = \", total)"
      ],
      "metadata": {
        "colab": {
          "base_uri": "https://localhost:8080/"
        },
        "id": "Mnanm946Ajg4",
        "outputId": "ae0c4d3a-eb8f-4b45-81a2-b5acff2463fa"
      },
      "execution_count": null,
      "outputs": [
        {
          "output_type": "stream",
          "name": "stdout",
          "text": [
            "char =  t\n",
            "char =  i\n",
            "char =  n\n",
            "total =  3\n"
          ]
        }
      ]
    },
    {
      "cell_type": "code",
      "source": [
        "#Reverse a string\n",
        "original = \"tin\"\n",
        "result =  \"\"  #complete\n",
        "for char in original: \n",
        "  result = char + result  #complete\n",
        "  print(\"partial result = \", result)\n",
        "\n",
        "print(result) # I want to print \"nit\""
      ],
      "metadata": {
        "colab": {
          "base_uri": "https://localhost:8080/"
        },
        "id": "MckikOATBGiN",
        "outputId": "a1144513-d788-4369-aa36-5d82bffec283"
      },
      "execution_count": null,
      "outputs": [
        {
          "output_type": "stream",
          "name": "stdout",
          "text": [
            "partial result =  t\n",
            "partial result =  it\n",
            "partial result =  nit\n",
            "nit\n"
          ]
        }
      ]
    },
    {
      "cell_type": "code",
      "source": [
        "# Calculate the total number of characters of strings in the list: [ \"red\", \"green\", \"blue\"] = 12\n",
        "\n",
        "total = 0\n",
        "for word in [ \"red\", \"green\", \"blue\"]:\n",
        "  total = total + len(word) #complete\n",
        "  print(\"partial total:\", total)\n",
        "\n",
        "print(total)"
      ],
      "metadata": {
        "colab": {
          "base_uri": "https://localhost:8080/"
        },
        "id": "q4mngd15CIUf",
        "outputId": "421f6b9c-2f86-46b6-bd86-1194308d3e3b"
      },
      "execution_count": null,
      "outputs": [
        {
          "output_type": "stream",
          "name": "stdout",
          "text": [
            "partial total: 3\n",
            "partial total: 8\n",
            "partial total: 12\n",
            "12\n"
          ]
        }
      ]
    }
  ]
}